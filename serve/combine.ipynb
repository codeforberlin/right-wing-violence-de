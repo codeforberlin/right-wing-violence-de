{
 "cells": [
  {
   "cell_type": "code",
   "execution_count": 1,
   "metadata": {},
   "outputs": [],
   "source": [
    "from pathlib import Path\n",
    "\n",
    "from cleantext import clean\n",
    "import dataset\n",
    "import requests\n",
    "import pycountry\n",
    "from tqdm import tqdm\n",
    "from datetime import datetime"
   ]
  },
  {
   "cell_type": "code",
   "execution_count": 2,
   "metadata": {},
   "outputs": [],
   "source": [
    "import json\n",
    "\n",
    "with open('regions.json') as json_file:\n",
    "    regions = json.load(json_file)"
   ]
  },
  {
   "cell_type": "code",
   "execution_count": 3,
   "metadata": {},
   "outputs": [],
   "source": [
    "manual_fixes = {\n",
    "    'ca0dee4be1029c2ab24cdea755b88086': {\"city\": \"Halle (Saale)\"},\n",
    "    'https://www.raa-sachsen.de/support/chronik/vorfaelle/bon-courage-fassungslos-ueber-naziuebergriffe-auf-dem-bornaer-stadtfest-3219': {'city': 'Borna'},\n",
    "    'a10d62daa23594df92c9704e1606dcfc': {\"city\": \"Oranienbaum-Wörlitz\", 'county': 'Wittenberg'},\n",
    "    '000dad6aace24b3d8ebae940a8de8e72': {\"city\": \"Dessau\"},\n",
    "    'https://www.raa-sachsen.de/support/chronik/vorfaelle/goerlitz-2779': {'date': datetime(2010, 11, 14)}\n",
    "}"
   ]
  },
  {
   "cell_type": "code",
   "execution_count": 4,
   "metadata": {},
   "outputs": [],
   "source": [
    "regions = list(regions.values())"
   ]
  },
  {
   "cell_type": "code",
   "execution_count": 5,
   "metadata": {},
   "outputs": [],
   "source": [
    "regions_counties = [x for x in regions if x['level'] == 3]"
   ]
  },
  {
   "cell_type": "code",
   "execution_count": 6,
   "metadata": {},
   "outputs": [],
   "source": [
    "def is_valid_county(county):\n",
    "    return len([x for x in regions_counties if x['name'].startswith(county) and x['duration']['until'] == '2019-12-31T00:00:00.000Z']) != 0"
   ]
  },
  {
   "cell_type": "code",
   "execution_count": 7,
   "metadata": {},
   "outputs": [],
   "source": [
    "import gettext\n",
    "german = gettext.translation('iso3166', pycountry.LOCALES_DIR, languages=['de'])\n",
    "german.install()\n",
    "# _(\"Germany\")"
   ]
  },
  {
   "cell_type": "code",
   "execution_count": 8,
   "metadata": {},
   "outputs": [],
   "source": [
    "auth = tuple(Path('secrets.txt').read_text().split()[1:])"
   ]
  },
  {
   "cell_type": "code",
   "execution_count": 9,
   "metadata": {},
   "outputs": [
    {
     "name": "stdout",
     "output_type": "stream",
     "text": [
      "data/mobile-opferberatung-scraper.db\n",
      "data/raa-sachsen-scraper.db\n",
      "data/opferperspektive-scraper.db\n"
     ]
    }
   ],
   "source": [
    "all_incidents = []\n",
    "all_src = []\n",
    "all_chronicle = []\n",
    "\n",
    "for p in Path('data').glob('*.db'):\n",
    "    print(p)\n",
    "    try:\n",
    "        db = dataset.connect('sqlite:///'  + str(p))\n",
    "        all_incidents += db['incidents'].all()\n",
    "        all_src += db['sources'].all()\n",
    "        all_chronicle += db['chronicle'].all()\n",
    "\n",
    "    except:\n",
    "        print('error')"
   ]
  },
  {
   "cell_type": "code",
   "execution_count": 10,
   "metadata": {},
   "outputs": [],
   "source": [
    "for x in all_chronicle:\n",
    "    if 'region' in x and len(x['region']) > 0:\n",
    "        continue\n",
    "    if 'iso3166_2' in x and x['iso3166_2'] != None and len(x['iso3166_2']) > 0:\n",
    "        x['region'] = pycountry.subdivisions.get(code=x['iso3166_2']).name\n",
    "    elif 'iso3166_1' in x and x['iso3166_1'] != None and len(x['iso3166_1']) > 0:\n",
    "        x['region'] = pycountry.countries.get(alpha_2=x['iso3166_1']).name\n",
    "    else:\n",
    "        raise ValueError('Need to specify region somehow')"
   ]
  },
  {
   "cell_type": "code",
   "execution_count": 11,
   "metadata": {},
   "outputs": [],
   "source": [
    "db = dataset.connect('sqlite:///rechtegewalt.db')\n",
    "\n",
    "tab_incidents = db['incidents']\n",
    "tab_incidents.insert_many(all_incidents)\n",
    "\n",
    "tab_src = db['sources']\n",
    "tab_src.insert_many(all_src)\n",
    "\n",
    "tab_chro = db['chronicles']\n",
    "tab_chro.insert_many(all_chronicle)\n",
    "\n",
    "tab_incidents.create_index(['rg_id'])\n",
    "tab_src.create_index(['rg_id'])\n",
    "\n",
    "tab_incidents.create_index(['id'])"
   ]
  },
  {
   "cell_type": "code",
   "execution_count": 12,
   "metadata": {},
   "outputs": [],
   "source": [
    "def add_state_country(row):\n",
    "    chro = tab_chro.find_one(chronicler_name=row['chronicler_name'])\n",
    "    sub = pycountry.subdivisions.get(code=chro['iso3166_2'])\n",
    "    row['state'] = sub.name\n",
    "    row['country'] = _(sub.country.name)\n",
    "    return row"
   ]
  },
  {
   "cell_type": "code",
   "execution_count": 13,
   "metadata": {},
   "outputs": [],
   "source": [
    "county_words = ['Landkreis', 'Landkeis', 'Kreis', 'LK']\n",
    "\n",
    "def clean_county(x):\n",
    "    if x is None or x == 'None':\n",
    "        return None\n",
    "    x = clean_string(x)\n",
    "    \n",
    "    for w in county_words:\n",
    "        w += ' '\n",
    "        if x.startswith(w):\n",
    "            x = x[len(w):]\n",
    "        \n",
    "        \n",
    "    if not is_valid_county(x):\n",
    "        print('removing', x)\n",
    "        return None\n",
    "    return x\n",
    "\n",
    "def clean_city(x):\n",
    "    x = clean_string(x)\n",
    "    if x is None:\n",
    "        return None\n",
    "    assert len(x) > 0\n",
    "    return x\n",
    "\n",
    "def clean_string(x):\n",
    "    x = clean(x, lang='de', lower=False)\n",
    "    if len(x) == 0:\n",
    "        return None\n",
    "    return x"
   ]
  },
  {
   "cell_type": "code",
   "execution_count": 14,
   "metadata": {},
   "outputs": [
    {
     "data": {
      "text/plain": [
       "[OrderedDict([('id', 932),\n",
       "              ('description',\n",
       "               'Zwei Männer beschimpfen gegen 19 Uhr in einer Straßenbahn an der Vogelweide einen 35-jährigen Mann aus Libyen. Als dieser am Marktplatz umsteigen will, schlagen die Unbekannten ihm gegen den Oberkörper. Dann versucht der 35-Jährige gleichzeitig mit den Angreifern in eine andere Bahn einzusteigen, wird aber von den beiden aus dem Fahrzeug gestoßen. Der Betroffene bleibt unverletzt. Der polizeiliche Staatsschutz ermittelt.'),\n",
       "              ('date', '2015-09-22 00:00:00.000000'),\n",
       "              ('url',\n",
       "               'http://www.mobile-opferberatung.de/monitoring/chronik2015/'),\n",
       "              ('rg_id', 'ca0dee4be1029c2ab24cdea755b88086'),\n",
       "              ('city', ''),\n",
       "              ('county', None),\n",
       "              ('chronicler_name', 'Mobile Opferberatung'),\n",
       "              ('title', None)])]"
      ]
     },
     "execution_count": 14,
     "metadata": {},
     "output_type": "execute_result"
    }
   ],
   "source": [
    "list(db.query('SELECT * FROM incidents where city=\"\"'))"
   ]
  },
  {
   "cell_type": "code",
   "execution_count": 15,
   "metadata": {},
   "outputs": [],
   "source": [
    "def fill_missing_county():\n",
    "    statement = 'SELECT * FROM incidents GROUP BY city, state having count(*) > 1'\n",
    "    for row in db.query(statement):\n",
    "        dupli = list(tab_incidents.find(city=row['city'], state=row['state']))\n",
    "        county_can = []\n",
    "        contains_none = False\n",
    "        for d in dupli:\n",
    "            if d['county'] is not None:\n",
    "                county_can.append(d['county'])\n",
    "            else:\n",
    "                contains_none = True\n",
    "        \n",
    "        unique_can = list(set(county_can))\n",
    "        if contains_none and len(unique_can) == 1:\n",
    "            tab_incidents.update({'city': row['city'], 'county': unique_can[0]}, ['city'])                \n",
    "            print(unique_can)"
   ]
  },
  {
   "cell_type": "code",
   "execution_count": 16,
   "metadata": {},
   "outputs": [
    {
     "name": "stderr",
     "output_type": "stream",
     "text": [
      "18it [00:00, 47.69it/s]"
     ]
    },
    {
     "name": "stdout",
     "output_type": "stream",
     "text": [
      "removing Anhalt-Zerbst\n",
      "removing Bördekreis\n",
      "removing Ohrekreis\n",
      "removing Anhalt-Zerbst\n",
      "removing Anhalt-Zerbst\n"
     ]
    },
    {
     "name": "stderr",
     "output_type": "stream",
     "text": [
      "67it [00:00, 73.01it/s]"
     ]
    },
    {
     "name": "stdout",
     "output_type": "stream",
     "text": [
      "removing Anhalt-Zerbst\n",
      "removing Regionalexpress nach Berlin über Bitterfeld\n",
      "removing Ohrekreis\n",
      "removing Merseburg-Querfurt\n",
      "removing Bitterfeld\n",
      "removing Ohrekreis\n"
     ]
    },
    {
     "name": "stderr",
     "output_type": "stream",
     "text": [
      "100it [00:00, 100.30it/s]"
     ]
    },
    {
     "name": "stdout",
     "output_type": "stream",
     "text": [
      "removing Halberstadt\n",
      "removing Ohrekreis\n",
      "removing Anhalt-Zerbst\n"
     ]
    },
    {
     "name": "stderr",
     "output_type": "stream",
     "text": [
      "157it [00:01, 115.57it/s]"
     ]
    },
    {
     "name": "stdout",
     "output_type": "stream",
     "text": [
      "removing Mansfelder Land\n",
      "removing Mansfelder Land\n",
      "removing Köthen\n",
      "removing Wernigerode\n"
     ]
    },
    {
     "name": "stderr",
     "output_type": "stream",
     "text": [
      "190it [00:01, 135.92it/s]"
     ]
    },
    {
     "name": "stdout",
     "output_type": "stream",
     "text": [
      "removing Verwaltungsgemeinschaft\n",
      "removing Schönebeck\n"
     ]
    },
    {
     "name": "stderr",
     "output_type": "stream",
     "text": [
      "227it [00:01, 148.81it/s]"
     ]
    },
    {
     "name": "stdout",
     "output_type": "stream",
     "text": [
      "removing Bördekreis\n"
     ]
    },
    {
     "name": "stderr",
     "output_type": "stream",
     "text": [
      "266it [00:02, 66.53it/s] "
     ]
    },
    {
     "name": "stdout",
     "output_type": "stream",
     "text": [
      "removing Merseburg-Querfurt\n",
      "removing Ohrekreis\n"
     ]
    },
    {
     "name": "stderr",
     "output_type": "stream",
     "text": [
      "277it [00:02, 73.97it/s]"
     ]
    },
    {
     "name": "stdout",
     "output_type": "stream",
     "text": [
      "removing Wernigerode\n"
     ]
    },
    {
     "name": "stderr",
     "output_type": "stream",
     "text": [
      "314it [00:03, 74.79it/s]"
     ]
    },
    {
     "name": "stdout",
     "output_type": "stream",
     "text": [
      "removing Köthen\n",
      "removing Schönebeck\n",
      "removing Saalkreis\n",
      "removing Köthen\n"
     ]
    },
    {
     "name": "stderr",
     "output_type": "stream",
     "text": [
      "464it [00:04, 149.11it/s]"
     ]
    },
    {
     "name": "stdout",
     "output_type": "stream",
     "text": [
      "removing Bördekreis\n"
     ]
    },
    {
     "name": "stderr",
     "output_type": "stream",
     "text": [
      "533it [00:04, 188.52it/s]"
     ]
    },
    {
     "name": "stdout",
     "output_type": "stream",
     "text": [
      "removing Querfurt\n"
     ]
    },
    {
     "name": "stderr",
     "output_type": "stream",
     "text": [
      "848it [00:06, 188.70it/s]"
     ]
    },
    {
     "name": "stdout",
     "output_type": "stream",
     "text": [
      "removing Mansfeld Südharz\n",
      "removing Mansfeld Südharz\n"
     ]
    },
    {
     "name": "stderr",
     "output_type": "stream",
     "text": [
      "1060it [00:07, 173.76it/s]"
     ]
    },
    {
     "name": "stdout",
     "output_type": "stream",
     "text": [
      "removing Desssau-Roßlau\n"
     ]
    },
    {
     "name": "stderr",
     "output_type": "stream",
     "text": [
      "5952it [00:58, 133.79it/s]"
     ]
    },
    {
     "name": "stdout",
     "output_type": "stream",
     "text": [
      "removing Uckemark\n"
     ]
    },
    {
     "name": "stderr",
     "output_type": "stream",
     "text": [
      "8255it [01:19, 104.18it/s]\n"
     ]
    }
   ],
   "source": [
    "# clean location text because there were still some errors\n",
    "for x in tqdm(tab_incidents.all()):\n",
    "    if x['rg_id'] in manual_fixes:\n",
    "        x = {**x, **manual_fixes[x['rg_id']]}\n",
    "        \n",
    "    x['orig_county'] = clean_string(x['county'])\n",
    "    x['orig_city'] = clean_string(x['city'])\n",
    "    \n",
    "    x['county'] = clean_county(x['county'])\n",
    "    x['city'] = clean_string(x['city'])\n",
    "    \n",
    "    x = add_state_country(x)\n",
    "    \n",
    "    if x['date'] is None:\n",
    "        print(x)\n",
    "        raise ValueError\n",
    "        \n",
    "    if x['date'].year < 1990:\n",
    "        tab_incidents.delete(id=x['id'])\n",
    "        \n",
    "    #   manual fix\n",
    "    if x['city'] == 'Zerbst' and x['state'] == 'Sachsen-Anhalt':\n",
    "        x['city'] = 'Zerbst/Anhalt'\n",
    "    \n",
    "    tab_incidents.update(x, ['id'])"
   ]
  },
  {
   "cell_type": "code",
   "execution_count": 17,
   "metadata": {},
   "outputs": [],
   "source": [
    "# fill_missing_county()"
   ]
  },
  {
   "cell_type": "code",
   "execution_count": 18,
   "metadata": {},
   "outputs": [],
   "source": [
    "def geocode_all():\n",
    "    statement = 'SELECT DISTINCT city, county, state, country FROM incidents'\n",
    "    subs = list(db.query(statement))\n",
    "    r = requests.post('https://geocode.app.vis.one/', auth=auth, json={'provider': 'here', 'locations': [{'query': dict(x)} for x in subs]})\n",
    "    r.raise_for_status()\n",
    "    subs_location = r.json()['locations']\n",
    "    \n",
    "    return subs_location"
   ]
  },
  {
   "cell_type": "code",
   "execution_count": 19,
   "metadata": {},
   "outputs": [],
   "source": [
    "subs_location = geocode_all()"
   ]
  },
  {
   "cell_type": "code",
   "execution_count": 20,
   "metadata": {},
   "outputs": [
    {
     "data": {
      "text/plain": [
       "{'city': 'Magdeburg',\n",
       " 'country': 'Deutschland',\n",
       " 'county': 'Magdeburg',\n",
       " 'district': None,\n",
       " 'house_number': None,\n",
       " 'latitude': 52.13045,\n",
       " 'longitude': 11.63153,\n",
       " 'postal_code': '39104',\n",
       " 'query': {'city': 'Magdeburg',\n",
       "  'country': 'Deutschland',\n",
       "  'county': None,\n",
       "  'state': 'Sachsen-Anhalt'},\n",
       " 'state': 'Sachsen-Anhalt',\n",
       " 'street': None}"
      ]
     },
     "execution_count": 20,
     "metadata": {},
     "output_type": "execute_result"
    }
   ],
   "source": [
    "subs_location[0]"
   ]
  },
  {
   "cell_type": "code",
   "execution_count": 21,
   "metadata": {},
   "outputs": [],
   "source": [
    "def geocode_second(subs_location):\n",
    "    second_check = []\n",
    "    second_check_ids = []\n",
    "\n",
    "    for i, x in enumerate(subs_location):\n",
    "        if len(x) == 1 and 'county' in x['query'] and x['query']['county'] is not None:\n",
    "            x['query']['city'] = x['query']['city'] + ', ' + x['query']['county']\n",
    "            x['query']['county'] = None\n",
    "            second_check.append(x)\n",
    "            second_check_ids.append(i)\n",
    "            \n",
    "    print(len(second_check))\n",
    "    if len(second_check) == 0:\n",
    "        return subs_location\n",
    "    r = requests.post('https://geocode.app.vis.one/', auth=auth, json={'provider': 'here', 'locations': [{'query': x['query']} for x in second_check]})\n",
    "    r.raise_for_status()\n",
    "    \n",
    "    for i, x in enumerate(r.json()['locations']):\n",
    "        if len(x) != 1:\n",
    "            subs_location[second_check_ids[i]] = x\n",
    "            print('found!', x)\n",
    "    return subs_location"
   ]
  },
  {
   "cell_type": "code",
   "execution_count": 22,
   "metadata": {},
   "outputs": [],
   "source": [
    "# subs_location = geocode_second(subs_location)"
   ]
  },
  {
   "cell_type": "code",
   "execution_count": 23,
   "metadata": {},
   "outputs": [],
   "source": [
    "good_locations = []\n",
    "\n",
    "for x in subs_location:\n",
    "    if len(x) == 1:\n",
    "        print('error here, deleting for now', x)\n",
    "#         tab_incidents.delete(**x['query'])\n",
    "    else:\n",
    "#         rename\n",
    "        query = x.pop('query')\n",
    "        x['query_county'] = query['county']\n",
    "        x['query_city'] = query['city']\n",
    "        good_locations.append(x)"
   ]
  },
  {
   "cell_type": "code",
   "execution_count": 24,
   "metadata": {},
   "outputs": [],
   "source": [
    "tab_loc = db['locations']\n",
    "tab_loc.insert_many(good_locations)"
   ]
  },
  {
   "cell_type": "code",
   "execution_count": 25,
   "metadata": {},
   "outputs": [],
   "source": [
    "tab_loc.create_index(['id'])"
   ]
  },
  {
   "cell_type": "code",
   "execution_count": 26,
   "metadata": {},
   "outputs": [
    {
     "name": "stderr",
     "output_type": "stream",
     "text": [
      "8254it [00:48, 169.28it/s]\n"
     ]
    }
   ],
   "source": [
    "# Not really sure whether a seperate table for location is needed. It was introduced because in some cases, multiple locations are associated with incident.\n",
    "for x in tqdm(tab_incidents.all()):\n",
    "    x_query = {name: x[name] for name in ['state', 'country']}\n",
    "    row_loc = tab_loc.find_one(query_county=x['orig_county'], query_city=x['orig_city'], **x_query)\n",
    "    if row_loc is None:\n",
    "        row_loc = tab_loc.find_one(query_county=x['county'], query_city=x['orig_city'], **x_query)\n",
    "        if row_loc is None:\n",
    "            row_loc = tab_loc.find_one(query_county=x['orig_county'], query_city=x['city'], **x_query)\n",
    "            if row_loc is None:\n",
    "                row_loc = tab_loc.find_one(query_county=x['county'], query_city=x['city'], **x_query)\n",
    "                if row_loc is None:\n",
    "                    print(x)\n",
    "                    print(x_query)\n",
    "                    continue\n",
    "    row_loc_geo = {name: row_loc[name] for name in ['latitude', 'longitude', 'postal_code', 'street', 'house_number', 'district', 'city', 'county', 'state', 'country']}\n",
    "    merged = {**x, **row_loc_geo}\n",
    "    tab_incidents.update(merged, ['id'])"
   ]
  },
  {
   "cell_type": "code",
   "execution_count": 27,
   "metadata": {},
   "outputs": [],
   "source": [
    "final_loc =list(tab_loc.distinct(*['latitude', 'longitude', 'postal_code', 'street', 'house_number', 'district', 'city', 'county', 'state', 'country']))"
   ]
  },
  {
   "cell_type": "code",
   "execution_count": 28,
   "metadata": {},
   "outputs": [
    {
     "data": {
      "text/plain": [
       "896"
      ]
     },
     "execution_count": 28,
     "metadata": {},
     "output_type": "execute_result"
    }
   ],
   "source": [
    "len(final_loc)"
   ]
  },
  {
   "cell_type": "code",
   "execution_count": 29,
   "metadata": {},
   "outputs": [],
   "source": [
    "tab_loc.drop()"
   ]
  },
  {
   "cell_type": "code",
   "execution_count": 30,
   "metadata": {},
   "outputs": [],
   "source": [
    "# tab_loc_final = db['locations_final']\n",
    "tab_loc.insert_many(final_loc)"
   ]
  },
  {
   "cell_type": "code",
   "execution_count": 31,
   "metadata": {},
   "outputs": [
    {
     "data": {
      "text/plain": [
       "896"
      ]
     },
     "execution_count": 31,
     "metadata": {},
     "output_type": "execute_result"
    }
   ],
   "source": [
    "len(list(tab_loc.all()))"
   ]
  },
  {
   "cell_type": "code",
   "execution_count": null,
   "metadata": {},
   "outputs": [],
   "source": []
  }
 ],
 "metadata": {
  "kernelspec": {
   "display_name": "Python 3",
   "language": "python",
   "name": "python3"
  },
  "language_info": {
   "codemirror_mode": {
    "name": "ipython",
    "version": 3
   },
   "file_extension": ".py",
   "mimetype": "text/x-python",
   "name": "python",
   "nbconvert_exporter": "python",
   "pygments_lexer": "ipython3",
   "version": "3.8.5"
  }
 },
 "nbformat": 4,
 "nbformat_minor": 4
}
