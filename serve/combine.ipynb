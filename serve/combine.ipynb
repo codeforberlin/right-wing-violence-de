{
 "cells": [
  {
   "cell_type": "code",
   "execution_count": 7,
   "metadata": {},
   "outputs": [],
   "source": [
    "%load_ext lab_black"
   ]
  },
  {
   "cell_type": "code",
   "execution_count": 43,
   "metadata": {},
   "outputs": [],
   "source": [
    "from pathlib import Path\n",
    "import json\n",
    "import gettext\n",
    "\n",
    "from cleantext import clean\n",
    "import dataset\n",
    "import requests\n",
    "import pycountry\n",
    "from tqdm import tqdm\n",
    "from datetime import date, datetime"
   ]
  },
  {
   "cell_type": "code",
   "execution_count": 44,
   "metadata": {},
   "outputs": [],
   "source": [
    "german = gettext.translation(\"iso3166\", pycountry.LOCALES_DIR, languages=[\"de\"])\n",
    "german.install()\n",
    "# _(\"Germany\")"
   ]
  },
  {
   "cell_type": "code",
   "execution_count": 45,
   "metadata": {},
   "outputs": [],
   "source": [
    "with open(\"regions.json\") as json_file:\n",
    "    regions = json.load(json_file)"
   ]
  },
  {
   "cell_type": "code",
   "execution_count": 46,
   "metadata": {},
   "outputs": [],
   "source": [
    "manual_fixes = {\n",
    "    \"ca0dee4be1029c2ab24cdea755b88086\": {\"city\": \"Halle (Saale)\"},\n",
    "    \"https://www.raa-sachsen.de/support/chronik/vorfaelle/bon-courage-fassungslos-ueber-naziuebergriffe-auf-dem-bornaer-stadtfest-3219\": {\n",
    "        \"city\": \"Borna\"\n",
    "    },\n",
    "    \"a10d62daa23594df92c9704e1606dcfc\": {\n",
    "        \"city\": \"Oranienbaum-Wörlitz\",\n",
    "        \"county\": \"Wittenberg\",\n",
    "    },\n",
    "    \"000dad6aace24b3d8ebae940a8de8e72\": {\"city\": \"Dessau\"},\n",
    "    \"https://www.raa-sachsen.de/support/chronik/vorfaelle/goerlitz-2779\": {\n",
    "        \"date\": date(2010, 11, 14)\n",
    "    },\n",
    "    \"https://www.raa-sachsen.de/support/chronik/vorfaelle/leipzig-reudnitz-4976\": {\n",
    "        \"date\": date(2020, 11, 13)\n",
    "    },\n",
    "}"
   ]
  },
  {
   "cell_type": "code",
   "execution_count": 47,
   "metadata": {},
   "outputs": [],
   "source": [
    "regions = list(regions.values())"
   ]
  },
  {
   "cell_type": "code",
   "execution_count": 48,
   "metadata": {},
   "outputs": [],
   "source": [
    "regions_counties = [x for x in regions if x[\"level\"] == 3]"
   ]
  },
  {
   "cell_type": "code",
   "execution_count": 49,
   "metadata": {},
   "outputs": [],
   "source": [
    "def is_valid_county(county):\n",
    "    return (\n",
    "        len(\n",
    "            [\n",
    "                x\n",
    "                for x in regions_counties\n",
    "                if x[\"name\"].startswith(county)\n",
    "                and x[\"duration\"][\"until\"] == \"2019-12-31T00:00:00.000Z\"\n",
    "            ]\n",
    "        )\n",
    "        != 0\n",
    "    )"
   ]
  },
  {
   "cell_type": "code",
   "execution_count": 50,
   "metadata": {},
   "outputs": [],
   "source": [
    "auth = tuple(Path(\"secrets.txt\").read_text().split()[1:])"
   ]
  },
  {
   "cell_type": "code",
   "execution_count": 63,
   "metadata": {},
   "outputs": [
    {
     "name": "stdout",
     "output_type": "stream",
     "text": [
      "data/mobile-opferberatung-scraper.db\n",
      "data/raa-sachsen-scraper.db\n",
      "data/opferperspektive-scraper.db\n"
     ]
    }
   ],
   "source": [
    "all_incidents = []\n",
    "all_src = []\n",
    "all_chronicle = []\n",
    "\n",
    "for p in Path(\"data\").glob(\"*.db\"):\n",
    "    print(p)\n",
    "    try:\n",
    "        db = dataset.connect(\"sqlite:///\" + str(p))\n",
    "        all_incidents += db[\"incidents\"].all()\n",
    "        all_src += db[\"sources\"].all()\n",
    "        all_chronicle += db[\"chronicle\"].all()\n",
    "\n",
    "    except:\n",
    "        print(\"error\")"
   ]
  },
  {
   "cell_type": "code",
   "execution_count": 64,
   "metadata": {},
   "outputs": [],
   "source": [
    "for x in all_chronicle:\n",
    "    if \"region\" in x and len(x[\"region\"]) > 0:\n",
    "        continue\n",
    "    if \"iso3166_2\" in x and x[\"iso3166_2\"] != None and len(x[\"iso3166_2\"]) > 0:\n",
    "        x[\"region\"] = pycountry.subdivisions.get(code=x[\"iso3166_2\"]).name\n",
    "    elif \"iso3166_1\" in x and x[\"iso3166_1\"] != None and len(x[\"iso3166_1\"]) > 0:\n",
    "        x[\"region\"] = pycountry.countries.get(alpha_2=x[\"iso3166_1\"]).name\n",
    "    else:\n",
    "        raise ValueError(\"Need to specify region somehow\")"
   ]
  },
  {
   "cell_type": "code",
   "execution_count": 71,
   "metadata": {},
   "outputs": [],
   "source": [
    "# only using date (and without time (hour/minute)) for now\n",
    "\n",
    "\n",
    "def ensure_date(x):\n",
    "    if x is None:\n",
    "        return x\n",
    "    if isinstance(x, datetime):\n",
    "        return x.date()\n",
    "    elif isinstance(x, date):\n",
    "        return x\n",
    "    ValueError(\"neither date or datetime\")\n",
    "\n",
    "\n",
    "for row in all_src:\n",
    "    if \"date\" in row:\n",
    "        row[\"date\"] = ensure_date(row[\"date\"])\n",
    "    else:\n",
    "        row[\"date\"] = None"
   ]
  },
  {
   "cell_type": "code",
   "execution_count": 72,
   "metadata": {},
   "outputs": [],
   "source": [
    "db = dataset.connect(\"sqlite:///rechtegewalt.db\")\n",
    "\n",
    "tab_incidents = db[\"incidents\"]\n",
    "tab_incidents.insert_many(all_incidents)\n",
    "\n",
    "tab_src = db[\"sources\"]\n",
    "tab_src.insert_many(all_src)\n",
    "\n",
    "tab_chro = db[\"chronicles\"]\n",
    "tab_chro.insert_many(all_chronicle)\n",
    "\n",
    "tab_incidents.create_index([\"rg_id\"])\n",
    "tab_src.create_index([\"rg_id\"])\n",
    "\n",
    "tab_incidents.create_index([\"id\"])"
   ]
  },
  {
   "cell_type": "code",
   "execution_count": 73,
   "metadata": {},
   "outputs": [],
   "source": [
    "def add_state_country(row):\n",
    "    chro = tab_chro.find_one(chronicler_name=row[\"chronicler_name\"])\n",
    "    sub = pycountry.subdivisions.get(code=chro[\"iso3166_2\"])\n",
    "    row[\"state\"] = sub.name\n",
    "    row[\"country\"] = _(sub.country.name)\n",
    "    return row"
   ]
  },
  {
   "cell_type": "code",
   "execution_count": 74,
   "metadata": {},
   "outputs": [],
   "source": [
    "county_words = [\"Landkreis\", \"Landkeis\", \"Kreis\", \"LK\"]\n",
    "\n",
    "\n",
    "def clean_county(x):\n",
    "    if x is None or x == \"None\":\n",
    "        return None\n",
    "    x = clean_string(x)\n",
    "\n",
    "    for w in county_words:\n",
    "        w += \" \"\n",
    "        if x.startswith(w):\n",
    "            x = x[len(w) :]\n",
    "\n",
    "    if not is_valid_county(x):\n",
    "        print(\"removing\", x)\n",
    "        return None\n",
    "    return x\n",
    "\n",
    "\n",
    "def clean_city(x):\n",
    "    x = clean_string(x)\n",
    "    if x is None:\n",
    "        return None\n",
    "    assert len(x) > 0\n",
    "    return x\n",
    "\n",
    "\n",
    "def clean_string(x):\n",
    "    x = clean(x, lang=\"de\", lower=False)\n",
    "    if len(x) == 0:\n",
    "        return None\n",
    "    return x"
   ]
  },
  {
   "cell_type": "code",
   "execution_count": 75,
   "metadata": {},
   "outputs": [
    {
     "data": {
      "text/plain": [
       "[OrderedDict([('id', 933),\n",
       "              ('description',\n",
       "               'Zwei Männer beschimpfen gegen 19 Uhr in einer Straßenbahn an der Vogelweide einen 35-jährigen Mann aus Libyen. Als dieser am Marktplatz umsteigen will, schlagen die Unbekannten ihm gegen den Oberkörper. Dann versucht der 35-Jährige gleichzeitig mit den Angreifern in eine andere Bahn einzusteigen, wird aber von den beiden aus dem Fahrzeug gestoßen. Der Betroffene bleibt unverletzt. Der polizeiliche Staatsschutz ermittelt.'),\n",
       "              ('date', '2015-09-22 00:00:00.000000'),\n",
       "              ('url',\n",
       "               'http://www.mobile-opferberatung.de/monitoring/chronik2015/'),\n",
       "              ('rg_id', 'ca0dee4be1029c2ab24cdea755b88086'),\n",
       "              ('city', ''),\n",
       "              ('county', None),\n",
       "              ('chronicler_name', 'Mobile Opferberatung'),\n",
       "              ('title', None)]),\n",
       " OrderedDict([('id', 9282),\n",
       "              ('description',\n",
       "               'Zwei Männer beschimpfen gegen 19 Uhr in einer Straßenbahn an der Vogelweide einen 35-jährigen Mann aus Libyen. Als dieser am Marktplatz umsteigen will, schlagen die Unbekannten ihm gegen den Oberkörper. Dann versucht der 35-Jährige gleichzeitig mit den Angreifern in eine andere Bahn einzusteigen, wird aber von den beiden aus dem Fahrzeug gestoßen. Der Betroffene bleibt unverletzt. Der polizeiliche Staatsschutz ermittelt.'),\n",
       "              ('date', '2015-09-22 00:00:00.000000'),\n",
       "              ('url',\n",
       "               'http://www.mobile-opferberatung.de/monitoring/chronik2015/'),\n",
       "              ('rg_id', 'ca0dee4be1029c2ab24cdea755b88086'),\n",
       "              ('city', ''),\n",
       "              ('county', None),\n",
       "              ('chronicler_name', 'Mobile Opferberatung'),\n",
       "              ('title', None)]),\n",
       " OrderedDict([('id', 17631),\n",
       "              ('description',\n",
       "               'Zwei Männer beschimpfen gegen 19 Uhr in einer Straßenbahn an der Vogelweide einen 35-jährigen Mann aus Libyen. Als dieser am Marktplatz umsteigen will, schlagen die Unbekannten ihm gegen den Oberkörper. Dann versucht der 35-Jährige gleichzeitig mit den Angreifern in eine andere Bahn einzusteigen, wird aber von den beiden aus dem Fahrzeug gestoßen. Der Betroffene bleibt unverletzt. Der polizeiliche Staatsschutz ermittelt.'),\n",
       "              ('date', '2015-09-22 00:00:00.000000'),\n",
       "              ('url',\n",
       "               'http://www.mobile-opferberatung.de/monitoring/chronik2015/'),\n",
       "              ('rg_id', 'ca0dee4be1029c2ab24cdea755b88086'),\n",
       "              ('city', ''),\n",
       "              ('county', None),\n",
       "              ('chronicler_name', 'Mobile Opferberatung'),\n",
       "              ('title', None)]),\n",
       " OrderedDict([('id', 25980),\n",
       "              ('description',\n",
       "               'Zwei Männer beschimpfen gegen 19 Uhr in einer Straßenbahn an der Vogelweide einen 35-jährigen Mann aus Libyen. Als dieser am Marktplatz umsteigen will, schlagen die Unbekannten ihm gegen den Oberkörper. Dann versucht der 35-Jährige gleichzeitig mit den Angreifern in eine andere Bahn einzusteigen, wird aber von den beiden aus dem Fahrzeug gestoßen. Der Betroffene bleibt unverletzt. Der polizeiliche Staatsschutz ermittelt.'),\n",
       "              ('date', '2015-09-22 00:00:00.000000'),\n",
       "              ('url',\n",
       "               'http://www.mobile-opferberatung.de/monitoring/chronik2015/'),\n",
       "              ('rg_id', 'ca0dee4be1029c2ab24cdea755b88086'),\n",
       "              ('city', ''),\n",
       "              ('county', None),\n",
       "              ('chronicler_name', 'Mobile Opferberatung'),\n",
       "              ('title', None)])]"
      ]
     },
     "execution_count": 75,
     "metadata": {},
     "output_type": "execute_result"
    }
   ],
   "source": [
    "list(db.query('SELECT * FROM incidents where city=\"\"'))"
   ]
  },
  {
   "cell_type": "code",
   "execution_count": 76,
   "metadata": {},
   "outputs": [],
   "source": [
    "def fill_missing_county():\n",
    "    statement = \"SELECT * FROM incidents GROUP BY city, state having count(*) > 1\"\n",
    "    for row in db.query(statement):\n",
    "        dupli = list(tab_incidents.find(city=row[\"city\"], state=row[\"state\"]))\n",
    "        county_can = []\n",
    "        contains_none = False\n",
    "        for d in dupli:\n",
    "            if d[\"county\"] is not None:\n",
    "                county_can.append(d[\"county\"])\n",
    "            else:\n",
    "                contains_none = True\n",
    "\n",
    "        unique_can = list(set(county_can))\n",
    "        if contains_none and len(unique_can) == 1:\n",
    "            tab_incidents.update(\n",
    "                {\"city\": row[\"city\"], \"county\": unique_can[0]}, [\"city\"]\n",
    "            )\n",
    "            print(unique_can)"
   ]
  },
  {
   "cell_type": "code",
   "execution_count": 77,
   "metadata": {},
   "outputs": [
    {
     "name": "stderr",
     "output_type": "stream",
     "text": [
      "92it [00:00, 416.27it/s]"
     ]
    },
    {
     "name": "stdout",
     "output_type": "stream",
     "text": [
      "removing Anhalt-Zerbst\n",
      "removing Bördekreis\n",
      "removing Ohrekreis\n",
      "removing Anhalt-Zerbst\n",
      "removing Anhalt-Zerbst\n",
      "removing Anhalt-Zerbst\n",
      "removing Regionalexpress nach Berlin über Bitterfeld\n",
      "removing Ohrekreis\n",
      "removing Merseburg-Querfurt\n",
      "removing Bitterfeld\n",
      "removing Ohrekreis\n",
      "removing Halberstadt\n",
      "removing Ohrekreis\n"
     ]
    },
    {
     "name": "stderr",
     "output_type": "stream",
     "text": [
      "208it [00:00, 483.71it/s]"
     ]
    },
    {
     "name": "stdout",
     "output_type": "stream",
     "text": [
      "removing Anhalt-Zerbst\n",
      "removing Mansfelder Land\n",
      "removing Mansfelder Land\n",
      "removing Köthen\n",
      "removing Wernigerode\n",
      "removing Verwaltungsgemeinschaft\n",
      "removing Schönebeck\n"
     ]
    },
    {
     "name": "stderr",
     "output_type": "stream",
     "text": [
      "318it [00:00, 512.33it/s]"
     ]
    },
    {
     "name": "stdout",
     "output_type": "stream",
     "text": [
      "removing Bördekreis\n",
      "removing Merseburg-Querfurt\n",
      "removing Ohrekreis\n",
      "removing Wernigerode\n",
      "removing Köthen\n",
      "removing Schönebeck\n",
      "removing Saalkreis\n",
      "removing Köthen\n"
     ]
    },
    {
     "name": "stderr",
     "output_type": "stream",
     "text": [
      "541it [00:01, 535.14it/s]"
     ]
    },
    {
     "name": "stdout",
     "output_type": "stream",
     "text": [
      "removing Bördekreis\n",
      "removing Querfurt\n"
     ]
    },
    {
     "name": "stderr",
     "output_type": "stream",
     "text": [
      "910it [00:01, 507.43it/s]"
     ]
    },
    {
     "name": "stdout",
     "output_type": "stream",
     "text": [
      "removing Mansfeld Südharz\n",
      "removing Mansfeld Südharz\n"
     ]
    },
    {
     "name": "stderr",
     "output_type": "stream",
     "text": [
      "1126it [00:02, 524.90it/s]"
     ]
    },
    {
     "name": "stdout",
     "output_type": "stream",
     "text": [
      "removing Desssau-Roßlau\n"
     ]
    },
    {
     "name": "stderr",
     "output_type": "stream",
     "text": [
      "6101it [00:12, 526.31it/s]"
     ]
    },
    {
     "name": "stdout",
     "output_type": "stream",
     "text": [
      "removing Uckemark\n"
     ]
    },
    {
     "name": "stderr",
     "output_type": "stream",
     "text": [
      "8420it [00:16, 504.25it/s]"
     ]
    },
    {
     "name": "stdout",
     "output_type": "stream",
     "text": [
      "removing Anhalt-Zerbst\n",
      "removing Bördekreis\n",
      "removing Ohrekreis\n",
      "removing Anhalt-Zerbst\n",
      "removing Anhalt-Zerbst\n",
      "removing Anhalt-Zerbst\n",
      "removing Regionalexpress nach Berlin über Bitterfeld\n",
      "removing Ohrekreis\n",
      "removing Merseburg-Querfurt\n",
      "removing Bitterfeld\n",
      "removing Ohrekreis\n",
      "removing Halberstadt\n",
      "removing Ohrekreis\n",
      "removing Anhalt-Zerbst\n"
     ]
    },
    {
     "name": "stderr",
     "output_type": "stream",
     "text": [
      "8591it [00:17, 542.09it/s]"
     ]
    },
    {
     "name": "stdout",
     "output_type": "stream",
     "text": [
      "removing Mansfelder Land\n",
      "removing Mansfelder Land\n",
      "removing Köthen\n",
      "removing Wernigerode\n",
      "removing Verwaltungsgemeinschaft\n",
      "removing Schönebeck\n",
      "removing Bördekreis\n"
     ]
    },
    {
     "name": "stderr",
     "output_type": "stream",
     "text": [
      "8700it [00:17, 530.49it/s]"
     ]
    },
    {
     "name": "stdout",
     "output_type": "stream",
     "text": [
      "removing Merseburg-Querfurt\n",
      "removing Ohrekreis\n",
      "removing Wernigerode\n",
      "removing Köthen\n",
      "removing Schönebeck\n",
      "removing Saalkreis\n",
      "removing Köthen\n"
     ]
    },
    {
     "name": "stderr",
     "output_type": "stream",
     "text": [
      "8871it [00:17, 554.24it/s]"
     ]
    },
    {
     "name": "stdout",
     "output_type": "stream",
     "text": [
      "removing Bördekreis\n",
      "removing Querfurt\n"
     ]
    },
    {
     "name": "stderr",
     "output_type": "stream",
     "text": [
      "9283it [00:18, 537.90it/s]"
     ]
    },
    {
     "name": "stdout",
     "output_type": "stream",
     "text": [
      "removing Mansfeld Südharz\n",
      "removing Mansfeld Südharz\n"
     ]
    },
    {
     "name": "stderr",
     "output_type": "stream",
     "text": [
      "9443it [00:18, 512.89it/s]"
     ]
    },
    {
     "name": "stdout",
     "output_type": "stream",
     "text": [
      "removing Desssau-Roßlau\n"
     ]
    },
    {
     "name": "stderr",
     "output_type": "stream",
     "text": [
      "14439it [00:28, 536.89it/s]"
     ]
    },
    {
     "name": "stdout",
     "output_type": "stream",
     "text": [
      "removing Uckemark\n"
     ]
    },
    {
     "name": "stderr",
     "output_type": "stream",
     "text": [
      "16765it [00:32, 556.46it/s]"
     ]
    },
    {
     "name": "stdout",
     "output_type": "stream",
     "text": [
      "removing Anhalt-Zerbst\n",
      "removing Bördekreis\n",
      "removing Ohrekreis\n",
      "removing Anhalt-Zerbst\n",
      "removing Anhalt-Zerbst\n",
      "removing Anhalt-Zerbst\n",
      "removing Regionalexpress nach Berlin über Bitterfeld\n",
      "removing Ohrekreis\n",
      "removing Merseburg-Querfurt\n",
      "removing Bitterfeld\n",
      "removing Ohrekreis\n",
      "removing Halberstadt\n",
      "removing Ohrekreis\n",
      "removing Anhalt-Zerbst\n"
     ]
    },
    {
     "name": "stderr",
     "output_type": "stream",
     "text": [
      "16950it [00:32, 591.14it/s]"
     ]
    },
    {
     "name": "stdout",
     "output_type": "stream",
     "text": [
      "removing Mansfelder Land\n",
      "removing Mansfelder Land\n",
      "removing Köthen\n",
      "removing Wernigerode\n",
      "removing Verwaltungsgemeinschaft\n",
      "removing Schönebeck\n",
      "removing Bördekreis\n",
      "removing Merseburg-Querfurt\n"
     ]
    },
    {
     "name": "stderr",
     "output_type": "stream",
     "text": [
      "17010it [00:32, 575.76it/s]"
     ]
    },
    {
     "name": "stdout",
     "output_type": "stream",
     "text": [
      "removing Ohrekreis\n",
      "removing Wernigerode\n",
      "removing Köthen\n",
      "removing Schönebeck\n",
      "removing Saalkreis\n",
      "removing Köthen\n"
     ]
    },
    {
     "name": "stderr",
     "output_type": "stream",
     "text": [
      "17194it [00:33, 573.71it/s]"
     ]
    },
    {
     "name": "stdout",
     "output_type": "stream",
     "text": [
      "removing Bördekreis\n",
      "removing Querfurt\n"
     ]
    },
    {
     "name": "stderr",
     "output_type": "stream",
     "text": [
      "17581it [00:33, 525.97it/s]"
     ]
    },
    {
     "name": "stdout",
     "output_type": "stream",
     "text": [
      "removing Mansfeld Südharz\n",
      "removing Mansfeld Südharz\n"
     ]
    },
    {
     "name": "stderr",
     "output_type": "stream",
     "text": [
      "17794it [00:34, 523.58it/s]"
     ]
    },
    {
     "name": "stdout",
     "output_type": "stream",
     "text": [
      "removing Desssau-Roßlau\n"
     ]
    },
    {
     "name": "stderr",
     "output_type": "stream",
     "text": [
      "22821it [00:44, 511.43it/s]"
     ]
    },
    {
     "name": "stdout",
     "output_type": "stream",
     "text": [
      "removing Uckemark\n"
     ]
    },
    {
     "name": "stderr",
     "output_type": "stream",
     "text": [
      "25165it [00:48, 536.73it/s]"
     ]
    },
    {
     "name": "stdout",
     "output_type": "stream",
     "text": [
      "removing Anhalt-Zerbst\n",
      "removing Bördekreis\n",
      "removing Ohrekreis\n",
      "removing Anhalt-Zerbst\n",
      "removing Anhalt-Zerbst\n",
      "removing Anhalt-Zerbst\n",
      "removing Regionalexpress nach Berlin über Bitterfeld\n",
      "removing Ohrekreis\n",
      "removing Merseburg-Querfurt\n",
      "removing Bitterfeld\n",
      "removing Ohrekreis\n",
      "removing Halberstadt\n",
      "removing Ohrekreis\n",
      "removing Anhalt-Zerbst\n"
     ]
    },
    {
     "name": "stderr",
     "output_type": "stream",
     "text": [
      "25293it [00:49, 581.47it/s]"
     ]
    },
    {
     "name": "stdout",
     "output_type": "stream",
     "text": [
      "removing Mansfelder Land\n",
      "removing Mansfelder Land\n",
      "removing Köthen\n",
      "removing Wernigerode\n",
      "removing Verwaltungsgemeinschaft\n",
      "removing Schönebeck\n",
      "removing Bördekreis\n",
      "removing Merseburg-Querfurt\n",
      "removing Ohrekreis\n"
     ]
    },
    {
     "name": "stderr",
     "output_type": "stream",
     "text": [
      "25414it [00:49, 591.84it/s]"
     ]
    },
    {
     "name": "stdout",
     "output_type": "stream",
     "text": [
      "removing Wernigerode\n",
      "removing Köthen\n",
      "removing Schönebeck\n",
      "removing Saalkreis\n",
      "removing Köthen\n"
     ]
    },
    {
     "name": "stderr",
     "output_type": "stream",
     "text": [
      "25607it [00:49, 623.77it/s]"
     ]
    },
    {
     "name": "stdout",
     "output_type": "stream",
     "text": [
      "removing Bördekreis\n",
      "removing Querfurt\n"
     ]
    },
    {
     "name": "stderr",
     "output_type": "stream",
     "text": [
      "25965it [00:50, 569.27it/s]"
     ]
    },
    {
     "name": "stdout",
     "output_type": "stream",
     "text": [
      "removing Mansfeld Südharz\n",
      "removing Mansfeld Südharz\n"
     ]
    },
    {
     "name": "stderr",
     "output_type": "stream",
     "text": [
      "26201it [00:50, 580.66it/s]"
     ]
    },
    {
     "name": "stdout",
     "output_type": "stream",
     "text": [
      "removing Desssau-Roßlau\n"
     ]
    },
    {
     "name": "stderr",
     "output_type": "stream",
     "text": [
      "31141it [00:59, 543.07it/s]"
     ]
    },
    {
     "name": "stdout",
     "output_type": "stream",
     "text": [
      "removing Uckemark\n"
     ]
    },
    {
     "name": "stderr",
     "output_type": "stream",
     "text": [
      "33396it [01:03, 521.85it/s]\n"
     ]
    }
   ],
   "source": [
    "# clean location text because there were still some errors\n",
    "for x in tqdm(tab_incidents.all()):\n",
    "    if x[\"rg_id\"] in manual_fixes:\n",
    "        x = {**x, **manual_fixes[x[\"rg_id\"]]}\n",
    "\n",
    "    x[\"orig_county\"] = clean_string(x[\"county\"])\n",
    "    x[\"orig_city\"] = clean_string(x[\"city\"])\n",
    "\n",
    "    x[\"county\"] = clean_county(x[\"county\"])\n",
    "    x[\"city\"] = clean_string(x[\"city\"])\n",
    "\n",
    "    x = add_state_country(x)\n",
    "\n",
    "    if x[\"date\"] is None:\n",
    "        print(x)\n",
    "        raise ValueError\n",
    "\n",
    "    # ignore older data\n",
    "    if x[\"date\"].year < 1990:\n",
    "        tab_incidents.delete(id=x[\"id\"])\n",
    "\n",
    "    x[\"date\"] = ensure_date(x[\"date\"])\n",
    "\n",
    "    #   manual fix\n",
    "    if x[\"city\"] == \"Zerbst\" and x[\"state\"] == \"Sachsen-Anhalt\":\n",
    "        x[\"city\"] = \"Zerbst/Anhalt\"\n",
    "\n",
    "    tab_incidents.update(x, [\"id\"])"
   ]
  },
  {
   "cell_type": "code",
   "execution_count": 78,
   "metadata": {},
   "outputs": [],
   "source": [
    "# fill_missing_county()"
   ]
  },
  {
   "cell_type": "code",
   "execution_count": 79,
   "metadata": {},
   "outputs": [],
   "source": [
    "def geocode_all():\n",
    "    statement = \"SELECT DISTINCT city, county, state, country FROM incidents\"\n",
    "    subs = list(db.query(statement))\n",
    "    r = requests.post(\n",
    "        \"https://geocode.app.vis.one/\",\n",
    "        auth=auth,\n",
    "        json={\"provider\": \"here\", \"locations\": [{\"query\": dict(x)} for x in subs]},\n",
    "    )\n",
    "    r.raise_for_status()\n",
    "    subs_location = r.json()[\"locations\"]\n",
    "\n",
    "    return subs_location"
   ]
  },
  {
   "cell_type": "code",
   "execution_count": 80,
   "metadata": {},
   "outputs": [],
   "source": [
    "subs_location = geocode_all()"
   ]
  },
  {
   "cell_type": "code",
   "execution_count": 81,
   "metadata": {},
   "outputs": [
    {
     "data": {
      "text/plain": [
       "{'city': 'Halle (Saale)',\n",
       " 'country': 'Deutschland',\n",
       " 'county': 'Halle (Saale)',\n",
       " 'district': None,\n",
       " 'house_number': None,\n",
       " 'latitude': 51.4822,\n",
       " 'longitude': 11.97494,\n",
       " 'postal_code': '06108',\n",
       " 'query': {'city': 'Halle (Saale)',\n",
       "  'country': 'Deutschland',\n",
       "  'county': None,\n",
       "  'state': 'Sachsen-Anhalt'},\n",
       " 'state': 'Sachsen-Anhalt',\n",
       " 'street': None}"
      ]
     },
     "execution_count": 81,
     "metadata": {},
     "output_type": "execute_result"
    }
   ],
   "source": [
    "subs_location[0]"
   ]
  },
  {
   "cell_type": "code",
   "execution_count": 82,
   "metadata": {},
   "outputs": [],
   "source": [
    "def geocode_second(subs_location):\n",
    "    second_check = []\n",
    "    second_check_ids = []\n",
    "\n",
    "    for i, x in enumerate(subs_location):\n",
    "        if len(x) == 1 and \"county\" in x[\"query\"] and x[\"query\"][\"county\"] is not None:\n",
    "            x[\"query\"][\"city\"] = x[\"query\"][\"city\"] + \", \" + x[\"query\"][\"county\"]\n",
    "            x[\"query\"][\"county\"] = None\n",
    "            second_check.append(x)\n",
    "            second_check_ids.append(i)\n",
    "\n",
    "    print(len(second_check))\n",
    "    if len(second_check) == 0:\n",
    "        return subs_location\n",
    "    r = requests.post(\n",
    "        \"https://geocode.app.vis.one/\",\n",
    "        auth=auth,\n",
    "        json={\n",
    "            \"provider\": \"here\",\n",
    "            \"locations\": [{\"query\": x[\"query\"]} for x in second_check],\n",
    "        },\n",
    "    )\n",
    "    r.raise_for_status()\n",
    "\n",
    "    for i, x in enumerate(r.json()[\"locations\"]):\n",
    "        if len(x) != 1:\n",
    "            subs_location[second_check_ids[i]] = x\n",
    "            print(\"found!\", x)\n",
    "    return subs_location"
   ]
  },
  {
   "cell_type": "code",
   "execution_count": 83,
   "metadata": {},
   "outputs": [],
   "source": [
    "# subs_location = geocode_second(subs_location)"
   ]
  },
  {
   "cell_type": "code",
   "execution_count": 84,
   "metadata": {},
   "outputs": [
    {
     "name": "stdout",
     "output_type": "stream",
     "text": [
      "error here, deleting for now {'query': {'city': 'Dresden, Dresdner Heide', 'country': 'Deutschland', 'county': None, 'state': 'Sachsen'}}\n"
     ]
    }
   ],
   "source": [
    "good_locations = []\n",
    "\n",
    "for x in subs_location:\n",
    "    if len(x) == 1:\n",
    "        print(\"error here, deleting for now\", x)\n",
    "    #         tab_incidents.delete(**x['query'])\n",
    "    else:\n",
    "        #         rename\n",
    "        query = x.pop(\"query\")\n",
    "        x[\"query_county\"] = query[\"county\"]\n",
    "        x[\"query_city\"] = query[\"city\"]\n",
    "        good_locations.append(x)"
   ]
  },
  {
   "cell_type": "code",
   "execution_count": 85,
   "metadata": {},
   "outputs": [],
   "source": [
    "tab_loc = db[\"locations\"]\n",
    "tab_loc.insert_many(good_locations)"
   ]
  },
  {
   "cell_type": "code",
   "execution_count": 86,
   "metadata": {},
   "outputs": [],
   "source": [
    "tab_loc.create_index([\"id\"])"
   ]
  },
  {
   "cell_type": "code",
   "execution_count": 87,
   "metadata": {},
   "outputs": [
    {
     "name": "stderr",
     "output_type": "stream",
     "text": [
      "4288it [00:08, 475.44it/s]"
     ]
    },
    {
     "name": "stdout",
     "output_type": "stream",
     "text": [
      "OrderedDict([('id', 4240), ('description', 'Auf einem Feld in der Dresdner Heide, in der Nähe des Hammerweges, haben Unbekannte aus mehreren faustgroßen Steinen ein Hakenkreuz gelegt. Dieses hatte eine Größe von 6,50m x 6,80m. Die Kriminalpolizei hat die weiteren Ermittlungen übernommen.'), ('date', datetime.datetime(2013, 12, 23, 0, 0)), ('url', 'https://www.raa-sachsen.de/support/chronik/vorfaelle/dresdner-heide-3485'), ('rg_id', 'https://www.raa-sachsen.de/support/chronik/vorfaelle/dresdner-heide-3485'), ('city', 'Dresden, Dresdner Heide'), ('county', None), ('chronicler_name', 'RAA Sachsen'), ('title', 'Hakenkreuz aus Steinen gelegt'), ('orig_county', None), ('orig_city', 'Dresden, Dresdner Heide'), ('state', 'Sachsen'), ('country', 'Deutschland')])\n",
      "{'state': 'Sachsen', 'country': 'Deutschland'}\n"
     ]
    },
    {
     "name": "stderr",
     "output_type": "stream",
     "text": [
      "12656it [00:24, 542.58it/s]"
     ]
    },
    {
     "name": "stdout",
     "output_type": "stream",
     "text": [
      "OrderedDict([('id', 12589), ('description', 'Auf einem Feld in der Dresdner Heide, in der Nähe des Hammerweges, haben Unbekannte aus mehreren faustgroßen Steinen ein Hakenkreuz gelegt. Dieses hatte eine Größe von 6,50m x 6,80m. Die Kriminalpolizei hat die weiteren Ermittlungen übernommen.'), ('date', datetime.datetime(2013, 12, 23, 0, 0)), ('url', 'https://www.raa-sachsen.de/support/chronik/vorfaelle/dresdner-heide-3485'), ('rg_id', 'https://www.raa-sachsen.de/support/chronik/vorfaelle/dresdner-heide-3485'), ('city', 'Dresden, Dresdner Heide'), ('county', None), ('chronicler_name', 'RAA Sachsen'), ('title', 'Hakenkreuz aus Steinen gelegt'), ('orig_county', None), ('orig_city', 'Dresden, Dresdner Heide'), ('state', 'Sachsen'), ('country', 'Deutschland')])\n",
      "{'state': 'Sachsen', 'country': 'Deutschland'}\n"
     ]
    },
    {
     "name": "stderr",
     "output_type": "stream",
     "text": [
      "21002it [00:39, 551.15it/s]"
     ]
    },
    {
     "name": "stdout",
     "output_type": "stream",
     "text": [
      "OrderedDict([('id', 20938), ('description', 'Auf einem Feld in der Dresdner Heide, in der Nähe des Hammerweges, haben Unbekannte aus mehreren faustgroßen Steinen ein Hakenkreuz gelegt. Dieses hatte eine Größe von 6,50m x 6,80m. Die Kriminalpolizei hat die weiteren Ermittlungen übernommen.'), ('date', datetime.datetime(2013, 12, 23, 0, 0)), ('url', 'https://www.raa-sachsen.de/support/chronik/vorfaelle/dresdner-heide-3485'), ('rg_id', 'https://www.raa-sachsen.de/support/chronik/vorfaelle/dresdner-heide-3485'), ('city', 'Dresden, Dresdner Heide'), ('county', None), ('chronicler_name', 'RAA Sachsen'), ('title', 'Hakenkreuz aus Steinen gelegt'), ('orig_county', None), ('orig_city', 'Dresden, Dresdner Heide'), ('state', 'Sachsen'), ('country', 'Deutschland')])\n",
      "{'state': 'Sachsen', 'country': 'Deutschland'}\n"
     ]
    },
    {
     "name": "stderr",
     "output_type": "stream",
     "text": [
      "29355it [00:54, 560.53it/s]"
     ]
    },
    {
     "name": "stdout",
     "output_type": "stream",
     "text": [
      "OrderedDict([('id', 29287), ('description', 'Auf einem Feld in der Dresdner Heide, in der Nähe des Hammerweges, haben Unbekannte aus mehreren faustgroßen Steinen ein Hakenkreuz gelegt. Dieses hatte eine Größe von 6,50m x 6,80m. Die Kriminalpolizei hat die weiteren Ermittlungen übernommen.'), ('date', datetime.datetime(2013, 12, 23, 0, 0)), ('url', 'https://www.raa-sachsen.de/support/chronik/vorfaelle/dresdner-heide-3485'), ('rg_id', 'https://www.raa-sachsen.de/support/chronik/vorfaelle/dresdner-heide-3485'), ('city', 'Dresden, Dresdner Heide'), ('county', None), ('chronicler_name', 'RAA Sachsen'), ('title', 'Hakenkreuz aus Steinen gelegt'), ('orig_county', None), ('orig_city', 'Dresden, Dresdner Heide'), ('state', 'Sachsen'), ('country', 'Deutschland')])\n",
      "{'state': 'Sachsen', 'country': 'Deutschland'}\n"
     ]
    },
    {
     "name": "stderr",
     "output_type": "stream",
     "text": [
      "33392it [01:01, 538.58it/s]\n"
     ]
    }
   ],
   "source": [
    "# Not really sure whether a seperate table for location is needed. It was introduced because in some cases, multiple locations are associated with incident.\n",
    "for x in tqdm(tab_incidents.all()):\n",
    "    x_query = {name: x[name] for name in [\"state\", \"country\"]}\n",
    "    row_loc = tab_loc.find_one(\n",
    "        query_county=x[\"orig_county\"], query_city=x[\"orig_city\"], **x_query\n",
    "    )\n",
    "    if row_loc is None:\n",
    "        row_loc = tab_loc.find_one(\n",
    "            query_county=x[\"county\"], query_city=x[\"orig_city\"], **x_query\n",
    "        )\n",
    "        if row_loc is None:\n",
    "            row_loc = tab_loc.find_one(\n",
    "                query_county=x[\"orig_county\"], query_city=x[\"city\"], **x_query\n",
    "            )\n",
    "            if row_loc is None:\n",
    "                row_loc = tab_loc.find_one(\n",
    "                    query_county=x[\"county\"], query_city=x[\"city\"], **x_query\n",
    "                )\n",
    "                if row_loc is None:\n",
    "                    print(x)\n",
    "                    print(x_query)\n",
    "                    continue\n",
    "    row_loc_geo = {\n",
    "        name: row_loc[name]\n",
    "        for name in [\n",
    "            \"latitude\",\n",
    "            \"longitude\",\n",
    "            \"postal_code\",\n",
    "            \"street\",\n",
    "            \"house_number\",\n",
    "            \"district\",\n",
    "            \"city\",\n",
    "            \"county\",\n",
    "            \"state\",\n",
    "            \"country\",\n",
    "        ]\n",
    "    }\n",
    "    merged = {**x, **row_loc_geo}\n",
    "    tab_incidents.update(merged, [\"id\"])"
   ]
  },
  {
   "cell_type": "code",
   "execution_count": 88,
   "metadata": {},
   "outputs": [],
   "source": [
    "final_loc = list(\n",
    "    tab_loc.distinct(\n",
    "        *[\n",
    "            \"latitude\",\n",
    "            \"longitude\",\n",
    "            \"postal_code\",\n",
    "            \"street\",\n",
    "            \"house_number\",\n",
    "            \"district\",\n",
    "            \"city\",\n",
    "            \"county\",\n",
    "            \"state\",\n",
    "            \"country\",\n",
    "        ]\n",
    "    )\n",
    ")"
   ]
  },
  {
   "cell_type": "code",
   "execution_count": 89,
   "metadata": {},
   "outputs": [
    {
     "data": {
      "text/plain": [
       "887"
      ]
     },
     "execution_count": 89,
     "metadata": {},
     "output_type": "execute_result"
    }
   ],
   "source": [
    "len(final_loc)"
   ]
  },
  {
   "cell_type": "code",
   "execution_count": 90,
   "metadata": {},
   "outputs": [],
   "source": [
    "tab_loc.drop()"
   ]
  },
  {
   "cell_type": "code",
   "execution_count": 91,
   "metadata": {},
   "outputs": [],
   "source": [
    "# tab_loc_final = db['locations_final']\n",
    "tab_loc.insert_many(final_loc)"
   ]
  },
  {
   "cell_type": "code",
   "execution_count": 92,
   "metadata": {},
   "outputs": [
    {
     "data": {
      "text/plain": [
       "887"
      ]
     },
     "execution_count": 92,
     "metadata": {},
     "output_type": "execute_result"
    }
   ],
   "source": [
    "len(list(tab_loc.all()))"
   ]
  },
  {
   "cell_type": "code",
   "execution_count": null,
   "metadata": {},
   "outputs": [],
   "source": []
  },
  {
   "cell_type": "code",
   "execution_count": null,
   "metadata": {},
   "outputs": [],
   "source": []
  }
 ],
 "metadata": {
  "kernelspec": {
   "display_name": "Python 3",
   "language": "python",
   "name": "python3"
  },
  "language_info": {
   "codemirror_mode": {
    "name": "ipython",
    "version": 3
   },
   "file_extension": ".py",
   "mimetype": "text/x-python",
   "name": "python",
   "nbconvert_exporter": "python",
   "pygments_lexer": "ipython3",
   "version": "3.9.0"
  }
 },
 "nbformat": 4,
 "nbformat_minor": 4
}
