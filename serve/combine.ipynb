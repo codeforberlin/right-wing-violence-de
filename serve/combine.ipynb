{
 "cells": [
  {
   "cell_type": "code",
   "execution_count": 1,
   "metadata": {},
   "outputs": [],
   "source": [
    "%load_ext lab_black"
   ]
  },
  {
   "cell_type": "code",
   "execution_count": 24,
   "metadata": {},
   "outputs": [],
   "source": [
    "from pathlib import Path\n",
    "import json\n",
    "import gettext\n",
    "\n",
    "from cleantext import clean\n",
    "import dataset\n",
    "import requests\n",
    "import pycountry\n",
    "from tqdm import tqdm\n",
    "from datetime import datetime"
   ]
  },
  {
   "cell_type": "code",
   "execution_count": 25,
   "metadata": {},
   "outputs": [],
   "source": [
    "german = gettext.translation(\"iso3166\", pycountry.LOCALES_DIR, languages=[\"de\"])\n",
    "german.install()\n",
    "# _(\"Germany\")"
   ]
  },
  {
   "cell_type": "code",
   "execution_count": 26,
   "metadata": {},
   "outputs": [],
   "source": [
    "with open(\"regions.json\") as json_file:\n",
    "    regions = json.load(json_file)"
   ]
  },
  {
   "cell_type": "code",
   "execution_count": 27,
   "metadata": {},
   "outputs": [],
   "source": [
    "manual_fixes = {\n",
    "    \"ca0dee4be1029c2ab24cdea755b88086\": {\"city\": \"Halle (Saale)\"},\n",
    "    \"https://www.raa-sachsen.de/support/chronik/vorfaelle/bon-courage-fassungslos-ueber-naziuebergriffe-auf-dem-bornaer-stadtfest-3219\": {\n",
    "        \"city\": \"Borna\"\n",
    "    },\n",
    "    \"a10d62daa23594df92c9704e1606dcfc\": {\n",
    "        \"city\": \"Oranienbaum-Wörlitz\",\n",
    "        \"county\": \"Wittenberg\",\n",
    "    },\n",
    "    \"000dad6aace24b3d8ebae940a8de8e72\": {\"city\": \"Dessau\"},\n",
    "    \"https://www.raa-sachsen.de/support/chronik/vorfaelle/goerlitz-2779\": {\n",
    "        \"date\": datetime(2010, 11, 14)\n",
    "    },\n",
    "    \"https://www.raa-sachsen.de/support/chronik/vorfaelle/leipzig-reudnitz-4976\": {\n",
    "        \"date\": datetime(2020, 11, 13)\n",
    "    },\n",
    "}"
   ]
  },
  {
   "cell_type": "code",
   "execution_count": 28,
   "metadata": {},
   "outputs": [],
   "source": [
    "regions = list(regions.values())"
   ]
  },
  {
   "cell_type": "code",
   "execution_count": 29,
   "metadata": {},
   "outputs": [],
   "source": [
    "regions_counties = [x for x in regions if x[\"level\"] == 3]"
   ]
  },
  {
   "cell_type": "code",
   "execution_count": 30,
   "metadata": {},
   "outputs": [],
   "source": [
    "def is_valid_county(county):\n",
    "    return (\n",
    "        len(\n",
    "            [\n",
    "                x\n",
    "                for x in regions_counties\n",
    "                if x[\"name\"].startswith(county)\n",
    "                and x[\"duration\"][\"until\"] == \"2019-12-31T00:00:00.000Z\"\n",
    "            ]\n",
    "        )\n",
    "        != 0\n",
    "    )"
   ]
  },
  {
   "cell_type": "code",
   "execution_count": 31,
   "metadata": {},
   "outputs": [],
   "source": [
    "auth = tuple(Path(\"secrets.txt\").read_text().split()[1:])"
   ]
  },
  {
   "cell_type": "code",
   "execution_count": 32,
   "metadata": {},
   "outputs": [
    {
     "name": "stdout",
     "output_type": "stream",
     "text": [
      "data/mobile-opferberatung-scraper.db\n",
      "data/raa-sachsen-scraper.db\n",
      "data/opferperspektive-scraper.db\n"
     ]
    }
   ],
   "source": [
    "all_incidents = []\n",
    "all_src = []\n",
    "all_chronicle = []\n",
    "\n",
    "for p in Path(\"data\").glob(\"*.db\"):\n",
    "    print(p)\n",
    "    try:\n",
    "        db = dataset.connect(\"sqlite:///\" + str(p))\n",
    "        all_incidents += db[\"incidents\"].all()\n",
    "        all_src += db[\"sources\"].all()\n",
    "        all_chronicle += db[\"chronicle\"].all()\n",
    "\n",
    "    except:\n",
    "        print(\"error\")"
   ]
  },
  {
   "cell_type": "code",
   "execution_count": 33,
   "metadata": {},
   "outputs": [],
   "source": [
    "for x in all_chronicle:\n",
    "    if \"region\" in x and len(x[\"region\"]) > 0:\n",
    "        continue\n",
    "    if \"iso3166_2\" in x and x[\"iso3166_2\"] != None and len(x[\"iso3166_2\"]) > 0:\n",
    "        x[\"region\"] = pycountry.subdivisions.get(code=x[\"iso3166_2\"]).name\n",
    "    elif \"iso3166_1\" in x and x[\"iso3166_1\"] != None and len(x[\"iso3166_1\"]) > 0:\n",
    "        x[\"region\"] = pycountry.countries.get(alpha_2=x[\"iso3166_1\"]).name\n",
    "    else:\n",
    "        raise ValueError(\"Need to specify region somehow\")"
   ]
  },
  {
   "cell_type": "code",
   "execution_count": 34,
   "metadata": {},
   "outputs": [],
   "source": [
    "db = dataset.connect(\"sqlite:///rechtegewalt.db\")\n",
    "\n",
    "tab_incidents = db[\"incidents\"]\n",
    "tab_incidents.insert_many(all_incidents)\n",
    "\n",
    "tab_src = db[\"sources\"]\n",
    "tab_src.insert_many(all_src)\n",
    "\n",
    "tab_chro = db[\"chronicles\"]\n",
    "tab_chro.insert_many(all_chronicle)\n",
    "\n",
    "tab_incidents.create_index([\"rg_id\"])\n",
    "tab_src.create_index([\"rg_id\"])\n",
    "\n",
    "tab_incidents.create_index([\"id\"])"
   ]
  },
  {
   "cell_type": "code",
   "execution_count": 35,
   "metadata": {},
   "outputs": [],
   "source": [
    "def add_state_country(row):\n",
    "    chro = tab_chro.find_one(chronicler_name=row[\"chronicler_name\"])\n",
    "    sub = pycountry.subdivisions.get(code=chro[\"iso3166_2\"])\n",
    "    row[\"state\"] = sub.name\n",
    "    row[\"country\"] = _(sub.country.name)\n",
    "    return row"
   ]
  },
  {
   "cell_type": "code",
   "execution_count": 36,
   "metadata": {},
   "outputs": [],
   "source": [
    "county_words = [\"Landkreis\", \"Landkeis\", \"Kreis\", \"LK\"]\n",
    "\n",
    "\n",
    "def clean_county(x):\n",
    "    if x is None or x == \"None\":\n",
    "        return None\n",
    "    x = clean_string(x)\n",
    "\n",
    "    for w in county_words:\n",
    "        w += \" \"\n",
    "        if x.startswith(w):\n",
    "            x = x[len(w) :]\n",
    "\n",
    "    if not is_valid_county(x):\n",
    "        print(\"removing\", x)\n",
    "        return None\n",
    "    return x\n",
    "\n",
    "\n",
    "def clean_city(x):\n",
    "    x = clean_string(x)\n",
    "    if x is None:\n",
    "        return None\n",
    "    assert len(x) > 0\n",
    "    return x\n",
    "\n",
    "\n",
    "def clean_string(x):\n",
    "    x = clean(x, lang=\"de\", lower=False)\n",
    "    if len(x) == 0:\n",
    "        return None\n",
    "    return x"
   ]
  },
  {
   "cell_type": "code",
   "execution_count": 37,
   "metadata": {},
   "outputs": [
    {
     "data": {
      "text/plain": [
       "[OrderedDict([('id', 25980),\n",
       "              ('description',\n",
       "               'Zwei Männer beschimpfen gegen 19 Uhr in einer Straßenbahn an der Vogelweide einen 35-jährigen Mann aus Libyen. Als dieser am Marktplatz umsteigen will, schlagen die Unbekannten ihm gegen den Oberkörper. Dann versucht der 35-Jährige gleichzeitig mit den Angreifern in eine andere Bahn einzusteigen, wird aber von den beiden aus dem Fahrzeug gestoßen. Der Betroffene bleibt unverletzt. Der polizeiliche Staatsschutz ermittelt.'),\n",
       "              ('date', '2015-09-22 00:00:00.000000'),\n",
       "              ('url',\n",
       "               'http://www.mobile-opferberatung.de/monitoring/chronik2015/'),\n",
       "              ('rg_id', 'ca0dee4be1029c2ab24cdea755b88086'),\n",
       "              ('city', ''),\n",
       "              ('county', None),\n",
       "              ('chronicler_name', 'Mobile Opferberatung'),\n",
       "              ('title', None),\n",
       "              ('orig_county', None),\n",
       "              ('orig_city', None),\n",
       "              ('state', None),\n",
       "              ('country', None)])]"
      ]
     },
     "execution_count": 37,
     "metadata": {},
     "output_type": "execute_result"
    }
   ],
   "source": [
    "list(db.query('SELECT * FROM incidents where city=\"\"'))"
   ]
  },
  {
   "cell_type": "code",
   "execution_count": 38,
   "metadata": {},
   "outputs": [],
   "source": [
    "def fill_missing_county():\n",
    "    statement = \"SELECT * FROM incidents GROUP BY city, state having count(*) > 1\"\n",
    "    for row in db.query(statement):\n",
    "        dupli = list(tab_incidents.find(city=row[\"city\"], state=row[\"state\"]))\n",
    "        county_can = []\n",
    "        contains_none = False\n",
    "        for d in dupli:\n",
    "            if d[\"county\"] is not None:\n",
    "                county_can.append(d[\"county\"])\n",
    "            else:\n",
    "                contains_none = True\n",
    "\n",
    "        unique_can = list(set(county_can))\n",
    "        if contains_none and len(unique_can) == 1:\n",
    "            tab_incidents.update(\n",
    "                {\"city\": row[\"city\"], \"county\": unique_can[0]}, [\"city\"]\n",
    "            )\n",
    "            print(unique_can)"
   ]
  },
  {
   "cell_type": "code",
   "execution_count": null,
   "metadata": {},
   "outputs": [
    {
     "name": "stderr",
     "output_type": "stream",
     "text": [
      "4767it [00:08, 545.19it/s]"
     ]
    }
   ],
   "source": [
    "# clean location text because there were still some errors\n",
    "for x in tqdm(tab_incidents.all()):\n",
    "    if x[\"rg_id\"] in manual_fixes:\n",
    "        x = {**x, **manual_fixes[x[\"rg_id\"]]}\n",
    "\n",
    "    x[\"orig_county\"] = clean_string(x[\"county\"])\n",
    "    x[\"orig_city\"] = clean_string(x[\"city\"])\n",
    "\n",
    "    x[\"county\"] = clean_county(x[\"county\"])\n",
    "    x[\"city\"] = clean_string(x[\"city\"])\n",
    "\n",
    "    x = add_state_country(x)\n",
    "\n",
    "    if x[\"date\"] is None:\n",
    "        print(x)\n",
    "        raise ValueError\n",
    "\n",
    "    if x[\"date\"].year < 1990:\n",
    "        tab_incidents.delete(id=x[\"id\"])\n",
    "\n",
    "    #   manual fix\n",
    "    if x[\"city\"] == \"Zerbst\" and x[\"state\"] == \"Sachsen-Anhalt\":\n",
    "        x[\"city\"] = \"Zerbst/Anhalt\"\n",
    "\n",
    "    tab_incidents.update(x, [\"id\"])"
   ]
  },
  {
   "cell_type": "code",
   "execution_count": null,
   "metadata": {},
   "outputs": [],
   "source": [
    "# fill_missing_county()"
   ]
  },
  {
   "cell_type": "code",
   "execution_count": null,
   "metadata": {},
   "outputs": [],
   "source": [
    "auth"
   ]
  },
  {
   "cell_type": "code",
   "execution_count": 21,
   "metadata": {},
   "outputs": [],
   "source": [
    "def geocode_all():\n",
    "    statement = \"SELECT DISTINCT city, county, state, country FROM incidents\"\n",
    "    subs = list(db.query(statement))\n",
    "    r = requests.post(\n",
    "        \"https://geocode.app.vis.one/\",\n",
    "        auth=auth,\n",
    "        json={\"provider\": \"here\", \"locations\": [{\"query\": dict(x)} for x in subs]},\n",
    "    )\n",
    "    r.raise_for_status()\n",
    "    subs_location = r.json()[\"locations\"]\n",
    "\n",
    "    return subs_location"
   ]
  },
  {
   "cell_type": "code",
   "execution_count": 22,
   "metadata": {},
   "outputs": [
    {
     "ename": "TypeError",
     "evalue": "'tuple' object is not callable",
     "output_type": "error",
     "traceback": [
      "\u001b[0;31m---------------------------------------------------------------------------\u001b[0m",
      "\u001b[0;31mTypeError\u001b[0m                                 Traceback (most recent call last)",
      "\u001b[0;32m<ipython-input-22-6bf77827e0b8>\u001b[0m in \u001b[0;36m<module>\u001b[0;34m\u001b[0m\n\u001b[0;32m----> 1\u001b[0;31m \u001b[0msubs_location\u001b[0m \u001b[0;34m=\u001b[0m \u001b[0mgeocode_all\u001b[0m\u001b[0;34m(\u001b[0m\u001b[0;34m)\u001b[0m\u001b[0;34m\u001b[0m\u001b[0;34m\u001b[0m\u001b[0m\n\u001b[0m",
      "\u001b[0;32m<ipython-input-21-e3802a30c226>\u001b[0m in \u001b[0;36mgeocode_all\u001b[0;34m()\u001b[0m\n\u001b[1;32m      2\u001b[0m     \u001b[0mstatement\u001b[0m \u001b[0;34m=\u001b[0m \u001b[0;34m\"SELECT DISTINCT city, county, state, country FROM incidents\"\u001b[0m\u001b[0;34m\u001b[0m\u001b[0;34m\u001b[0m\u001b[0m\n\u001b[1;32m      3\u001b[0m     \u001b[0msubs\u001b[0m \u001b[0;34m=\u001b[0m \u001b[0mlist\u001b[0m\u001b[0;34m(\u001b[0m\u001b[0mdb\u001b[0m\u001b[0;34m.\u001b[0m\u001b[0mquery\u001b[0m\u001b[0;34m(\u001b[0m\u001b[0mstatement\u001b[0m\u001b[0;34m)\u001b[0m\u001b[0;34m)\u001b[0m\u001b[0;34m\u001b[0m\u001b[0;34m\u001b[0m\u001b[0m\n\u001b[0;32m----> 4\u001b[0;31m     r = requests.post(\n\u001b[0m\u001b[1;32m      5\u001b[0m         \u001b[0;34m\"https://geocode.app.vis.one/\"\u001b[0m\u001b[0;34m,\u001b[0m\u001b[0;34m\u001b[0m\u001b[0;34m\u001b[0m\u001b[0m\n\u001b[1;32m      6\u001b[0m         \u001b[0mauth\u001b[0m\u001b[0;34m=\u001b[0m\u001b[0mauth\u001b[0m\u001b[0;34m,\u001b[0m\u001b[0;34m\u001b[0m\u001b[0;34m\u001b[0m\u001b[0m\n",
      "\u001b[0;32m~/Library/Caches/pypoetry/virtualenvs/data.rechtegewalt.info-wpoddBee-py3.9/lib/python3.9/site-packages/requests/api.py\u001b[0m in \u001b[0;36mpost\u001b[0;34m(url, data, json, **kwargs)\u001b[0m\n\u001b[1;32m    117\u001b[0m     \"\"\"\n\u001b[1;32m    118\u001b[0m \u001b[0;34m\u001b[0m\u001b[0m\n\u001b[0;32m--> 119\u001b[0;31m     \u001b[0;32mreturn\u001b[0m \u001b[0mrequest\u001b[0m\u001b[0;34m(\u001b[0m\u001b[0;34m'post'\u001b[0m\u001b[0;34m,\u001b[0m \u001b[0murl\u001b[0m\u001b[0;34m,\u001b[0m \u001b[0mdata\u001b[0m\u001b[0;34m=\u001b[0m\u001b[0mdata\u001b[0m\u001b[0;34m,\u001b[0m \u001b[0mjson\u001b[0m\u001b[0;34m=\u001b[0m\u001b[0mjson\u001b[0m\u001b[0;34m,\u001b[0m \u001b[0;34m**\u001b[0m\u001b[0mkwargs\u001b[0m\u001b[0;34m)\u001b[0m\u001b[0;34m\u001b[0m\u001b[0;34m\u001b[0m\u001b[0m\n\u001b[0m\u001b[1;32m    120\u001b[0m \u001b[0;34m\u001b[0m\u001b[0m\n\u001b[1;32m    121\u001b[0m \u001b[0;34m\u001b[0m\u001b[0m\n",
      "\u001b[0;32m~/Library/Caches/pypoetry/virtualenvs/data.rechtegewalt.info-wpoddBee-py3.9/lib/python3.9/site-packages/requests/api.py\u001b[0m in \u001b[0;36mrequest\u001b[0;34m(method, url, **kwargs)\u001b[0m\n\u001b[1;32m     59\u001b[0m     \u001b[0;31m# cases, and look like a memory leak in others.\u001b[0m\u001b[0;34m\u001b[0m\u001b[0;34m\u001b[0m\u001b[0;34m\u001b[0m\u001b[0m\n\u001b[1;32m     60\u001b[0m     \u001b[0;32mwith\u001b[0m \u001b[0msessions\u001b[0m\u001b[0;34m.\u001b[0m\u001b[0mSession\u001b[0m\u001b[0;34m(\u001b[0m\u001b[0;34m)\u001b[0m \u001b[0;32mas\u001b[0m \u001b[0msession\u001b[0m\u001b[0;34m:\u001b[0m\u001b[0;34m\u001b[0m\u001b[0;34m\u001b[0m\u001b[0m\n\u001b[0;32m---> 61\u001b[0;31m         \u001b[0;32mreturn\u001b[0m \u001b[0msession\u001b[0m\u001b[0;34m.\u001b[0m\u001b[0mrequest\u001b[0m\u001b[0;34m(\u001b[0m\u001b[0mmethod\u001b[0m\u001b[0;34m=\u001b[0m\u001b[0mmethod\u001b[0m\u001b[0;34m,\u001b[0m \u001b[0murl\u001b[0m\u001b[0;34m=\u001b[0m\u001b[0murl\u001b[0m\u001b[0;34m,\u001b[0m \u001b[0;34m**\u001b[0m\u001b[0mkwargs\u001b[0m\u001b[0;34m)\u001b[0m\u001b[0;34m\u001b[0m\u001b[0;34m\u001b[0m\u001b[0m\n\u001b[0m\u001b[1;32m     62\u001b[0m \u001b[0;34m\u001b[0m\u001b[0m\n\u001b[1;32m     63\u001b[0m \u001b[0;34m\u001b[0m\u001b[0m\n",
      "\u001b[0;32m~/Library/Caches/pypoetry/virtualenvs/data.rechtegewalt.info-wpoddBee-py3.9/lib/python3.9/site-packages/requests/sessions.py\u001b[0m in \u001b[0;36mrequest\u001b[0;34m(self, method, url, params, data, headers, cookies, files, auth, timeout, allow_redirects, proxies, hooks, stream, verify, cert, json)\u001b[0m\n\u001b[1;32m    514\u001b[0m             \u001b[0mhooks\u001b[0m\u001b[0;34m=\u001b[0m\u001b[0mhooks\u001b[0m\u001b[0;34m,\u001b[0m\u001b[0;34m\u001b[0m\u001b[0;34m\u001b[0m\u001b[0m\n\u001b[1;32m    515\u001b[0m         )\n\u001b[0;32m--> 516\u001b[0;31m         \u001b[0mprep\u001b[0m \u001b[0;34m=\u001b[0m \u001b[0mself\u001b[0m\u001b[0;34m.\u001b[0m\u001b[0mprepare_request\u001b[0m\u001b[0;34m(\u001b[0m\u001b[0mreq\u001b[0m\u001b[0;34m)\u001b[0m\u001b[0;34m\u001b[0m\u001b[0;34m\u001b[0m\u001b[0m\n\u001b[0m\u001b[1;32m    517\u001b[0m \u001b[0;34m\u001b[0m\u001b[0m\n\u001b[1;32m    518\u001b[0m         \u001b[0mproxies\u001b[0m \u001b[0;34m=\u001b[0m \u001b[0mproxies\u001b[0m \u001b[0;32mor\u001b[0m \u001b[0;34m{\u001b[0m\u001b[0;34m}\u001b[0m\u001b[0;34m\u001b[0m\u001b[0;34m\u001b[0m\u001b[0m\n",
      "\u001b[0;32m~/Library/Caches/pypoetry/virtualenvs/data.rechtegewalt.info-wpoddBee-py3.9/lib/python3.9/site-packages/requests/sessions.py\u001b[0m in \u001b[0;36mprepare_request\u001b[0;34m(self, request)\u001b[0m\n\u001b[1;32m    447\u001b[0m \u001b[0;34m\u001b[0m\u001b[0m\n\u001b[1;32m    448\u001b[0m         \u001b[0mp\u001b[0m \u001b[0;34m=\u001b[0m \u001b[0mPreparedRequest\u001b[0m\u001b[0;34m(\u001b[0m\u001b[0;34m)\u001b[0m\u001b[0;34m\u001b[0m\u001b[0;34m\u001b[0m\u001b[0m\n\u001b[0;32m--> 449\u001b[0;31m         p.prepare(\n\u001b[0m\u001b[1;32m    450\u001b[0m             \u001b[0mmethod\u001b[0m\u001b[0;34m=\u001b[0m\u001b[0mrequest\u001b[0m\u001b[0;34m.\u001b[0m\u001b[0mmethod\u001b[0m\u001b[0;34m.\u001b[0m\u001b[0mupper\u001b[0m\u001b[0;34m(\u001b[0m\u001b[0;34m)\u001b[0m\u001b[0;34m,\u001b[0m\u001b[0;34m\u001b[0m\u001b[0;34m\u001b[0m\u001b[0m\n\u001b[1;32m    451\u001b[0m             \u001b[0murl\u001b[0m\u001b[0;34m=\u001b[0m\u001b[0mrequest\u001b[0m\u001b[0;34m.\u001b[0m\u001b[0murl\u001b[0m\u001b[0;34m,\u001b[0m\u001b[0;34m\u001b[0m\u001b[0;34m\u001b[0m\u001b[0m\n",
      "\u001b[0;32m~/Library/Caches/pypoetry/virtualenvs/data.rechtegewalt.info-wpoddBee-py3.9/lib/python3.9/site-packages/requests/models.py\u001b[0m in \u001b[0;36mprepare\u001b[0;34m(self, method, url, headers, files, data, params, auth, cookies, hooks, json)\u001b[0m\n\u001b[1;32m    316\u001b[0m         \u001b[0mself\u001b[0m\u001b[0;34m.\u001b[0m\u001b[0mprepare_cookies\u001b[0m\u001b[0;34m(\u001b[0m\u001b[0mcookies\u001b[0m\u001b[0;34m)\u001b[0m\u001b[0;34m\u001b[0m\u001b[0;34m\u001b[0m\u001b[0m\n\u001b[1;32m    317\u001b[0m         \u001b[0mself\u001b[0m\u001b[0;34m.\u001b[0m\u001b[0mprepare_body\u001b[0m\u001b[0;34m(\u001b[0m\u001b[0mdata\u001b[0m\u001b[0;34m,\u001b[0m \u001b[0mfiles\u001b[0m\u001b[0;34m,\u001b[0m \u001b[0mjson\u001b[0m\u001b[0;34m)\u001b[0m\u001b[0;34m\u001b[0m\u001b[0;34m\u001b[0m\u001b[0m\n\u001b[0;32m--> 318\u001b[0;31m         \u001b[0mself\u001b[0m\u001b[0;34m.\u001b[0m\u001b[0mprepare_auth\u001b[0m\u001b[0;34m(\u001b[0m\u001b[0mauth\u001b[0m\u001b[0;34m,\u001b[0m \u001b[0murl\u001b[0m\u001b[0;34m)\u001b[0m\u001b[0;34m\u001b[0m\u001b[0;34m\u001b[0m\u001b[0m\n\u001b[0m\u001b[1;32m    319\u001b[0m \u001b[0;34m\u001b[0m\u001b[0m\n\u001b[1;32m    320\u001b[0m         \u001b[0;31m# Note that prepare_auth must be last to enable authentication schemes\u001b[0m\u001b[0;34m\u001b[0m\u001b[0;34m\u001b[0m\u001b[0;34m\u001b[0m\u001b[0m\n",
      "\u001b[0;32m~/Library/Caches/pypoetry/virtualenvs/data.rechtegewalt.info-wpoddBee-py3.9/lib/python3.9/site-packages/requests/models.py\u001b[0m in \u001b[0;36mprepare_auth\u001b[0;34m(self, auth, url)\u001b[0m\n\u001b[1;32m    547\u001b[0m \u001b[0;34m\u001b[0m\u001b[0m\n\u001b[1;32m    548\u001b[0m             \u001b[0;31m# Allow auth to make its changes.\u001b[0m\u001b[0;34m\u001b[0m\u001b[0;34m\u001b[0m\u001b[0;34m\u001b[0m\u001b[0m\n\u001b[0;32m--> 549\u001b[0;31m             \u001b[0mr\u001b[0m \u001b[0;34m=\u001b[0m \u001b[0mauth\u001b[0m\u001b[0;34m(\u001b[0m\u001b[0mself\u001b[0m\u001b[0;34m)\u001b[0m\u001b[0;34m\u001b[0m\u001b[0;34m\u001b[0m\u001b[0m\n\u001b[0m\u001b[1;32m    550\u001b[0m \u001b[0;34m\u001b[0m\u001b[0m\n\u001b[1;32m    551\u001b[0m             \u001b[0;31m# Update self to reflect the auth changes.\u001b[0m\u001b[0;34m\u001b[0m\u001b[0;34m\u001b[0m\u001b[0;34m\u001b[0m\u001b[0m\n",
      "\u001b[0;31mTypeError\u001b[0m: 'tuple' object is not callable"
     ]
    }
   ],
   "source": [
    "subs_location = geocode_all()"
   ]
  },
  {
   "cell_type": "code",
   "execution_count": null,
   "metadata": {},
   "outputs": [],
   "source": [
    "subs_location[0]"
   ]
  },
  {
   "cell_type": "code",
   "execution_count": null,
   "metadata": {},
   "outputs": [],
   "source": [
    "def geocode_second(subs_location):\n",
    "    second_check = []\n",
    "    second_check_ids = []\n",
    "\n",
    "    for i, x in enumerate(subs_location):\n",
    "        if len(x) == 1 and 'county' in x['query'] and x['query']['county'] is not None:\n",
    "            x['query']['city'] = x['query']['city'] + ', ' + x['query']['county']\n",
    "            x['query']['county'] = None\n",
    "            second_check.append(x)\n",
    "            second_check_ids.append(i)\n",
    "            \n",
    "    print(len(second_check))\n",
    "    if len(second_check) == 0:\n",
    "        return subs_location\n",
    "    r = requests.post('https://geocode.app.vis.one/', auth=auth, json={'provider': 'here', 'locations': [{'query': x['query']} for x in second_check]})\n",
    "    r.raise_for_status()\n",
    "    \n",
    "    for i, x in enumerate(r.json()['locations']):\n",
    "        if len(x) != 1:\n",
    "            subs_location[second_check_ids[i]] = x\n",
    "            print('found!', x)\n",
    "    return subs_location"
   ]
  },
  {
   "cell_type": "code",
   "execution_count": null,
   "metadata": {},
   "outputs": [],
   "source": [
    "# subs_location = geocode_second(subs_location)"
   ]
  },
  {
   "cell_type": "code",
   "execution_count": null,
   "metadata": {},
   "outputs": [],
   "source": [
    "good_locations = []\n",
    "\n",
    "for x in subs_location:\n",
    "    if len(x) == 1:\n",
    "        print('error here, deleting for now', x)\n",
    "#         tab_incidents.delete(**x['query'])\n",
    "    else:\n",
    "#         rename\n",
    "        query = x.pop('query')\n",
    "        x['query_county'] = query['county']\n",
    "        x['query_city'] = query['city']\n",
    "        good_locations.append(x)"
   ]
  },
  {
   "cell_type": "code",
   "execution_count": null,
   "metadata": {},
   "outputs": [],
   "source": [
    "tab_loc = db['locations']\n",
    "tab_loc.insert_many(good_locations)"
   ]
  },
  {
   "cell_type": "code",
   "execution_count": null,
   "metadata": {},
   "outputs": [],
   "source": [
    "tab_loc.create_index(['id'])"
   ]
  },
  {
   "cell_type": "code",
   "execution_count": null,
   "metadata": {},
   "outputs": [],
   "source": [
    "# Not really sure whether a seperate table for location is needed. It was introduced because in some cases, multiple locations are associated with incident.\n",
    "for x in tqdm(tab_incidents.all()):\n",
    "    x_query = {name: x[name] for name in ['state', 'country']}\n",
    "    row_loc = tab_loc.find_one(query_county=x['orig_county'], query_city=x['orig_city'], **x_query)\n",
    "    if row_loc is None:\n",
    "        row_loc = tab_loc.find_one(query_county=x['county'], query_city=x['orig_city'], **x_query)\n",
    "        if row_loc is None:\n",
    "            row_loc = tab_loc.find_one(query_county=x['orig_county'], query_city=x['city'], **x_query)\n",
    "            if row_loc is None:\n",
    "                row_loc = tab_loc.find_one(query_county=x['county'], query_city=x['city'], **x_query)\n",
    "                if row_loc is None:\n",
    "                    print(x)\n",
    "                    print(x_query)\n",
    "                    continue\n",
    "    row_loc_geo = {name: row_loc[name] for name in ['latitude', 'longitude', 'postal_code', 'street', 'house_number', 'district', 'city', 'county', 'state', 'country']}\n",
    "    merged = {**x, **row_loc_geo}\n",
    "    tab_incidents.update(merged, ['id'])"
   ]
  },
  {
   "cell_type": "code",
   "execution_count": null,
   "metadata": {},
   "outputs": [],
   "source": [
    "final_loc =list(tab_loc.distinct(*['latitude', 'longitude', 'postal_code', 'street', 'house_number', 'district', 'city', 'county', 'state', 'country']))"
   ]
  },
  {
   "cell_type": "code",
   "execution_count": null,
   "metadata": {},
   "outputs": [],
   "source": [
    "len(final_loc)"
   ]
  },
  {
   "cell_type": "code",
   "execution_count": null,
   "metadata": {},
   "outputs": [],
   "source": [
    "tab_loc.drop()"
   ]
  },
  {
   "cell_type": "code",
   "execution_count": null,
   "metadata": {},
   "outputs": [],
   "source": [
    "# tab_loc_final = db['locations_final']\n",
    "tab_loc.insert_many(final_loc)"
   ]
  },
  {
   "cell_type": "code",
   "execution_count": null,
   "metadata": {},
   "outputs": [],
   "source": [
    "len(list(tab_loc.all()))"
   ]
  },
  {
   "cell_type": "code",
   "execution_count": null,
   "metadata": {},
   "outputs": [],
   "source": []
  }
 ],
 "metadata": {
  "kernelspec": {
   "display_name": "Python 3",
   "language": "python",
   "name": "python3"
  },
  "language_info": {
   "codemirror_mode": {
    "name": "ipython",
    "version": 3
   },
   "file_extension": ".py",
   "mimetype": "text/x-python",
   "name": "python",
   "nbconvert_exporter": "python",
   "pygments_lexer": "ipython3",
   "version": "3.9.0"
  }
 },
 "nbformat": 4,
 "nbformat_minor": 4
}
