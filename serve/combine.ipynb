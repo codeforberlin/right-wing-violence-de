{
 "cells": [
  {
   "cell_type": "code",
   "execution_count": 1,
   "metadata": {},
   "outputs": [],
   "source": [
    "from pathlib import Path\n",
    "\n",
    "from cleantext import clean\n",
    "import dataset\n",
    "import requests"
   ]
  },
  {
   "cell_type": "code",
   "execution_count": 2,
   "metadata": {},
   "outputs": [],
   "source": [
    "auth = tuple(Path('secrets.txt').read_text().split()[1:])"
   ]
  },
  {
   "cell_type": "code",
   "execution_count": 3,
   "metadata": {},
   "outputs": [
    {
     "name": "stdout",
     "output_type": "stream",
     "text": [
      "data/data_0.db\n",
      "data/data_1.db\n",
      "data/data_2.db\n"
     ]
    }
   ],
   "source": [
    "all_incidents = []\n",
    "all_src = []\n",
    "\n",
    "for p in Path('data').glob('*'):\n",
    "    print(p)\n",
    "    try:\n",
    "        db = dataset.connect('sqlite:///'  + str(p))\n",
    "        tab_incidents = db['incidents'].all()\n",
    "        tab_src = db['sources'].all()\n",
    "        all_incidents += tab_incidents\n",
    "        all_src += tab_src\n",
    "    except:\n",
    "        print('error')"
   ]
  },
  {
   "cell_type": "code",
   "execution_count": 4,
   "metadata": {},
   "outputs": [],
   "source": [
    "db = dataset.connect('sqlite:///rechtegewalt.db')\n",
    "\n",
    "tab_incidents = db['incidents']\n",
    "tab_incidents.insert_many(all_incidents)\n",
    "\n",
    "tab_src = db['sources']\n",
    "tab_src.insert_many(all_src)\n",
    "\n",
    "tab_incidents.create_index(['identifier'])\n",
    "tab_src.create_index(['identifier'])"
   ]
  },
  {
   "cell_type": "code",
   "execution_count": 5,
   "metadata": {},
   "outputs": [],
   "source": [
    "# clean location text because there were still some errors\n",
    "for x in tab_incidents.all():\n",
    "    x['subdivisions'] = clean(x['subdivisions'], lang='de', lower=False)\n",
    "    tab_incidents.update(x, ['id'])"
   ]
  },
  {
   "cell_type": "code",
   "execution_count": 6,
   "metadata": {},
   "outputs": [],
   "source": [
    "subs = tab_incidents.distinct('subdivisions')"
   ]
  },
  {
   "cell_type": "code",
   "execution_count": 7,
   "metadata": {},
   "outputs": [],
   "source": [
    "subs = list(map(lambda x: x['subdivisions'], subs))"
   ]
  },
  {
   "cell_type": "code",
   "execution_count": 8,
   "metadata": {},
   "outputs": [],
   "source": [
    "r = requests.post(f'https://geocode.app.vis.one/', auth=auth, json={'locations': [{'location': x} for x  in subs]})\n",
    "r.raise_for_status()\n",
    "subs_location = r.json()['locations']"
   ]
  },
  {
   "cell_type": "code",
   "execution_count": 9,
   "metadata": {},
   "outputs": [
    {
     "name": "stdout",
     "output_type": "stream",
     "text": [
      "error here, deleting for now\n",
      "{'location': 'Bon Courage fassungslos über Naziübergriffe auf dem Bornaer Stadtfest, LK Leipzig, Sachsen, Deutschland'}\n"
     ]
    }
   ],
   "source": [
    "good_locations = []\n",
    "\n",
    "for x in subs_location:\n",
    "    if len(x) == 1:\n",
    "        print('error here, deleting for now')\n",
    "        print(x)\n",
    "        tab_incidents.delete(subdivisions=x['location'])\n",
    "    else:\n",
    "        # rename\n",
    "        x['subdivisions'] = x.pop('location')\n",
    "        good_locations.append(x)"
   ]
  },
  {
   "cell_type": "code",
   "execution_count": 10,
   "metadata": {},
   "outputs": [],
   "source": [
    "tab_loc = db['locations']\n",
    "tab_loc.insert_many(good_locations)"
   ]
  },
  {
   "cell_type": "code",
   "execution_count": 11,
   "metadata": {},
   "outputs": [],
   "source": [
    "tab_loc.create_index(['subdivisions'])"
   ]
  },
  {
   "cell_type": "code",
   "execution_count": 56,
   "metadata": {},
   "outputs": [],
   "source": [
    "# # Not really sure whether a seperate table for location is needed. It was introduced because in some cases, multiple locations are associated with incident.\n",
    "# for x in tab_data.all():\n",
    "#     row_loc = tab_loc.find_one(identifier=x['identifier'])\n",
    "#     merged = {**row_loc, **x}\n",
    "#     tab_data.update(merged, ['id'])"
   ]
  }
 ],
 "metadata": {
  "kernelspec": {
   "display_name": "Python 3",
   "language": "python",
   "name": "python3"
  },
  "language_info": {
   "codemirror_mode": {
    "name": "ipython",
    "version": 3
   },
   "file_extension": ".py",
   "mimetype": "text/x-python",
   "name": "python",
   "nbconvert_exporter": "python",
   "pygments_lexer": "ipython3",
   "version": "3.8.4"
  }
 },
 "nbformat": 4,
 "nbformat_minor": 4
}
