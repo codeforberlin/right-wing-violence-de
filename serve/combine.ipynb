{
 "cells": [
  {
   "cell_type": "code",
   "execution_count": 1,
   "metadata": {},
   "outputs": [],
   "source": [
    "from pathlib import Path\n",
    "\n",
    "from cleantext import clean\n",
    "import dataset\n",
    "import requests\n",
    "import pycountry\n",
    "from tqdm import tqdm"
   ]
  },
  {
   "cell_type": "code",
   "execution_count": 2,
   "metadata": {},
   "outputs": [],
   "source": [
    "import gettext\n",
    "german = gettext.translation('iso3166', pycountry.LOCALES_DIR, languages=['de'])\n",
    "german.install()\n",
    "# _(\"Germany\")"
   ]
  },
  {
   "cell_type": "code",
   "execution_count": 3,
   "metadata": {},
   "outputs": [],
   "source": [
    "auth = tuple(Path('secrets.txt').read_text().split()[1:])"
   ]
  },
  {
   "cell_type": "code",
   "execution_count": 4,
   "metadata": {},
   "outputs": [
    {
     "name": "stdout",
     "output_type": "stream",
     "text": [
      "data/mobile-opferberatung-scraper.db\n",
      "data/raa-sachsen-scraper.db\n",
      "data/opferperspektive-scraper.db\n"
     ]
    }
   ],
   "source": [
    "all_incidents = []\n",
    "all_src = []\n",
    "all_chronicle = []\n",
    "\n",
    "for p in Path('data').glob('*.db'):\n",
    "    print(p)\n",
    "    try:\n",
    "        db = dataset.connect('sqlite:///'  + str(p))\n",
    "        all_incidents += db['incidents'].all()\n",
    "        all_src += db['sources'].all()\n",
    "        all_chronicle += db['chronicles'].all()\n",
    "\n",
    "    except:\n",
    "        print('error')"
   ]
  },
  {
   "cell_type": "code",
   "execution_count": 5,
   "metadata": {},
   "outputs": [],
   "source": [
    "db = dataset.connect('sqlite:///rechtegewalt.db')\n",
    "\n",
    "tab_incidents = db['incidents']\n",
    "tab_incidents.insert_many(all_incidents)\n",
    "\n",
    "tab_src = db['sources']\n",
    "tab_src.insert_many(all_src)\n",
    "\n",
    "tab_chro = db['chronicle']\n",
    "tab_chro.insert_many(all_chronicle)\n",
    "\n",
    "tab_incidents.create_index(['rg_id'])\n",
    "tab_src.create_index(['rg_id'])\n",
    "\n",
    "tab_incidents.create_index(['id'])"
   ]
  },
  {
   "cell_type": "code",
   "execution_count": 6,
   "metadata": {},
   "outputs": [],
   "source": [
    "def construct_location_string(row):\n",
    "    sub_array = eval(row['subdivisions'])\n",
    "    chro = tab_chro.find_one(chronicler_name=row['chronicler_name'])\n",
    "    sub = pycountry.subdivisions.get(code=chro['iso3166_2'])\n",
    "    sub_array = [x if type(x) is str else x[1] for x in sub_array] + [sub.name, _(sub.country.name)]\n",
    "\n",
    "    return ', '.join(sub_array)"
   ]
  },
  {
   "cell_type": "code",
   "execution_count": 7,
   "metadata": {},
   "outputs": [],
   "source": [
    "def clean_subdivisions(sub):\n",
    "    def cl(x):\n",
    "        return clean(x, lang='de', lower=False)\n",
    "    sub = eval(sub)\n",
    "    r = []\n",
    "    for x in sub:\n",
    "        if type(x) is str:\n",
    "            r.append(['', cl(x)])\n",
    "        else:\n",
    "            r.append(list(map(cl, x)))\n",
    "    return str(r)"
   ]
  },
  {
   "cell_type": "code",
   "execution_count": 8,
   "metadata": {},
   "outputs": [
    {
     "name": "stderr",
     "output_type": "stream",
     "text": [
      "8236it [00:33, 246.87it/s]\n"
     ]
    }
   ],
   "source": [
    "# clean location text because there were still some errors\n",
    "for x in tqdm(tab_incidents.all()):\n",
    "    x['subdivisions'] = clean_subdivisions(x['subdivisions'])\n",
    "    x['location_string'] = construct_location_string(x)\n",
    "    tab_incidents.update(x, ['id'])"
   ]
  },
  {
   "cell_type": "code",
   "execution_count": 9,
   "metadata": {},
   "outputs": [],
   "source": [
    "subs = list(map(lambda x: x['location_string'], tab_incidents.distinct('location_string')))"
   ]
  },
  {
   "cell_type": "code",
   "execution_count": 11,
   "metadata": {},
   "outputs": [],
   "source": [
    "r = requests.post('https://geocode.app.vis.one/', auth=auth, json={'locations': [{'location': x} for x  in subs]})\n",
    "r.raise_for_status()\n",
    "subs_location = r.json()['locations']"
   ]
  },
  {
   "cell_type": "code",
   "execution_count": 12,
   "metadata": {},
   "outputs": [
    {
     "name": "stdout",
     "output_type": "stream",
     "text": [
      "error here, deleting for now\n",
      "{'location': 'Bon Courage fassungslos über Naziübergriffe auf dem Bornaer Stadtfest, Leipzig, Sachsen, Deutschland'}\n"
     ]
    }
   ],
   "source": [
    "good_locations = []\n",
    "\n",
    "for x in subs_location:\n",
    "    if len(x) == 1:\n",
    "        print('error here, deleting for now')\n",
    "        print(x)\n",
    "        tab_incidents.delete(location_string=x['location'])\n",
    "    else:\n",
    "        # rename\n",
    "        x['location_string'] = x.pop('location')\n",
    "        good_locations.append(x)"
   ]
  },
  {
   "cell_type": "code",
   "execution_count": 13,
   "metadata": {},
   "outputs": [],
   "source": [
    "tab_loc = db['locations']\n",
    "tab_loc.insert_many(good_locations)"
   ]
  },
  {
   "cell_type": "code",
   "execution_count": 14,
   "metadata": {},
   "outputs": [],
   "source": [
    "tab_loc.create_index(['location_string'])\n",
    "tab_loc.create_index(['id'])"
   ]
  },
  {
   "cell_type": "code",
   "execution_count": 15,
   "metadata": {},
   "outputs": [
    {
     "name": "stderr",
     "output_type": "stream",
     "text": [
      "8235it [00:49, 165.61it/s]\n"
     ]
    }
   ],
   "source": [
    "# Not really sure whether a seperate table for location is needed. It was introduced because in some cases, multiple locations are associated with incident.\n",
    "for x in tqdm(tab_incidents.all()):\n",
    "    row_loc = tab_loc.find_one(location_string=x['location_string'])\n",
    "    merged = {**row_loc, **x}\n",
    "    tab_incidents.update(merged, ['id'])\n",
    "    row_loc['subdivisions'] = x['subdivisions']\n",
    "    tab_loc.update(row_loc, ['id'])"
   ]
  }
 ],
 "metadata": {
  "kernelspec": {
   "display_name": "Python 3",
   "language": "python",
   "name": "python3"
  },
  "language_info": {
   "codemirror_mode": {
    "name": "ipython",
    "version": 3
   },
   "file_extension": ".py",
   "mimetype": "text/x-python",
   "name": "python",
   "nbconvert_exporter": "python",
   "pygments_lexer": "ipython3",
   "version": "3.8.5"
  }
 },
 "nbformat": 4,
 "nbformat_minor": 4
}
