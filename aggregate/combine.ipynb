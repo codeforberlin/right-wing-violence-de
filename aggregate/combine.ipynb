{
 "cells": [
  {
   "cell_type": "markdown",
   "metadata": {},
   "source": [
    "# Combine and Clean Data Sources\n",
    "\n",
    "This notbook is used to combine all data in to a single Sqlite database. The cleaning evolved heavily so at some point, all this cleaning should be refactored into a seperate module."
   ]
  },
  {
   "cell_type": "code",
   "execution_count": 1,
   "metadata": {},
   "outputs": [],
   "source": [
    "%load_ext lab_black"
   ]
  },
  {
   "cell_type": "code",
   "execution_count": 2,
   "metadata": {},
   "outputs": [],
   "source": [
    "from pathlib import Path\n",
    "import json\n",
    "import gettext\n",
    "\n",
    "from cleantext import clean\n",
    "import dataset\n",
    "import requests\n",
    "import pycountry\n",
    "from tqdm import tqdm\n",
    "from datetime import date, datetime"
   ]
  },
  {
   "cell_type": "code",
   "execution_count": 3,
   "metadata": {},
   "outputs": [],
   "source": [
    "german = gettext.translation(\"iso3166\", pycountry.LOCALES_DIR, languages=[\"de\"])\n",
    "german.install()"
   ]
  },
  {
   "cell_type": "markdown",
   "metadata": {},
   "source": [
    "## Manual Fixes\n",
    "\n",
    "There are sometimes errors in the data. Since each incident has a uniquie id, fix it here."
   ]
  },
  {
   "cell_type": "code",
   "execution_count": 4,
   "metadata": {},
   "outputs": [],
   "source": [
    "manual_fixes = {\n",
    "    \"ca0dee4be1029c2ab24cdea755b88086\": {\"city\": \"Halle (Saale)\"},\n",
    "    \"https://www.raa-sachsen.de/support/chronik/vorfaelle/bon-courage-fassungslos-ueber-naziuebergriffe-auf-dem-bornaer-stadtfest-3219\": {\n",
    "        \"city\": \"Borna\"\n",
    "    },\n",
    "    \"mobile-beratung-a10d62daa23594df92c9704e1606dcfc\": {\n",
    "        \"city\": \"Oranienbaum-Wörlitz\",\n",
    "        \"county\": \"Wittenberg\",\n",
    "    },\n",
    "    \"mobile-beratung-000dad6aace24b3d8ebae940a8de8e72\": {\"city\": \"Dessau\"},\n",
    "    \"https://www.raa-sachsen.de/support/chronik/vorfaelle/goerlitz-2779\": {\n",
    "        \"date\": date(2010, 11, 14)\n",
    "    },\n",
    "    \"https://www.raa-sachsen.de/support/chronik/vorfaelle/leipzig-reudnitz-4976\": {\n",
    "        \"date\": date(2020, 11, 13)\n",
    "    },\n",
    "}"
   ]
  },
  {
   "cell_type": "markdown",
   "metadata": {},
   "source": [
    "## Valid Regions\n",
    "\n",
    "Taken regions.json from <https://github.com/datenguide/metadata>\n",
    "\n",
    "These files contains a list of all valid regios. If a region is not in there, filter it out. This greatly the performance of the geocoding api. It's not optimal that we acutlaly throw this information await. This information should be kept actually. (TODO)"
   ]
  },
  {
   "cell_type": "code",
   "execution_count": 5,
   "metadata": {},
   "outputs": [],
   "source": [
    "with open(\"regions.json\") as json_file:\n",
    "    regions = json.load(json_file)\n",
    "\n",
    "regions = list(regions.values())\n",
    "regions_counties = [x for x in regions if x[\"level\"] == 3]\n",
    "\n",
    "\n",
    "def is_valid_county(county):\n",
    "    return (\n",
    "        len(\n",
    "            [\n",
    "                x\n",
    "                for x in regions_counties\n",
    "                if x[\"name\"].startswith(county)\n",
    "                and x[\"duration\"][\"until\"] == \"2019-12-31T00:00:00.000Z\"\n",
    "            ]\n",
    "        )\n",
    "        != 0\n",
    "    )"
   ]
  },
  {
   "cell_type": "markdown",
   "metadata": {},
   "source": [
    "Read it some secrets later needed to comunicate with an internal API"
   ]
  },
  {
   "cell_type": "code",
   "execution_count": 6,
   "metadata": {},
   "outputs": [],
   "source": [
    "auth = tuple(Path(\"secrets.txt\").read_text().split()[1:])"
   ]
  },
  {
   "cell_type": "code",
   "execution_count": 7,
   "metadata": {},
   "outputs": [
    {
     "name": "stdout",
     "output_type": "stream",
     "text": [
      "data/muenchen-chronik-scraper.db\n",
      "data/mpower-scraper.db\n",
      "data/ezra-converter.db\n",
      "data/reachout-scraper.db\n",
      "data/response-scraper.db\n",
      "data/leuchtlinie-scraper.db\n",
      "data/kleine-randnotiz-converter.db\n",
      "data/mobile-opferberatung-scraper.db\n",
      "data/raa-sachsen-scraper.db\n",
      "data/opferperspektive-scraper.db\n",
      "data/opferberatung-rheinland-scraper.db\n",
      "data/lobbi-scraper.db\n"
     ]
    }
   ],
   "source": [
    "all_incidents = []\n",
    "all_src = []\n",
    "all_chronicle = []\n",
    "\n",
    "for p in Path(\"data\").glob(\"*.db\"):\n",
    "    print(p)\n",
    "    db = dataset.connect(\"sqlite:///\" + str(p))\n",
    "    all_incidents += db[\"incidents\"].all()\n",
    "    all_src += db[\"sources\"].all()\n",
    "\n",
    "    new_chro = list(db[\"chronicle\"].all())\n",
    "    if len(new_chro) == 0:\n",
    "        new_chro = db[\"chronicles\"].all()\n",
    "\n",
    "    all_chronicle += new_chro"
   ]
  },
  {
   "cell_type": "code",
   "execution_count": 8,
   "metadata": {},
   "outputs": [],
   "source": [
    "for x in all_chronicle:\n",
    "    if \"region\" in x and len(x[\"region\"]) > 0:\n",
    "        continue\n",
    "    if \"iso3166_2\" in x and x[\"iso3166_2\"] != None and len(x[\"iso3166_2\"]) > 0:\n",
    "        x[\"region\"] = pycountry.subdivisions.get(code=x[\"iso3166_2\"]).name\n",
    "    elif \"iso3166_1\" in x and x[\"iso3166_1\"] != None and len(x[\"iso3166_1\"]) > 0:\n",
    "        x[\"region\"] = pycountry.countries.get(alpha_2=x[\"iso3166_1\"]).name\n",
    "    else:\n",
    "        raise ValueError(\"Need to specify region somehow\")"
   ]
  },
  {
   "cell_type": "code",
   "execution_count": 9,
   "metadata": {},
   "outputs": [],
   "source": [
    "# only using date (and without time (hour/minute)) for now\n",
    "\n",
    "\n",
    "def ensure_date(x):\n",
    "    if x is None:\n",
    "        return x\n",
    "    if isinstance(x, datetime):\n",
    "        return x.date()\n",
    "    elif isinstance(x, date):\n",
    "        return x\n",
    "    ValueError(\"neither date or datetime\")\n",
    "\n",
    "\n",
    "for row in all_src:\n",
    "    if \"date\" in row:\n",
    "        row[\"date\"] = ensure_date(row[\"date\"])\n",
    "    else:\n",
    "        row[\"date\"] = None"
   ]
  },
  {
   "cell_type": "code",
   "execution_count": 10,
   "metadata": {},
   "outputs": [],
   "source": [
    "db = dataset.connect(\"sqlite:///rechtegewalt.db\")"
   ]
  },
  {
   "cell_type": "code",
   "execution_count": 11,
   "metadata": {},
   "outputs": [],
   "source": [
    "tab_incidents = db[\"incidents\"]\n",
    "for x in all_incidents:\n",
    "    if \"id\" in x:\n",
    "        x.pop(\"id\")\n",
    "tab_incidents.insert_many(all_incidents)\n",
    "\n",
    "tab_src = db[\"sources\"]\n",
    "for x in all_src:\n",
    "    if \"id\" in x:\n",
    "        x.pop(\"id\")\n",
    "tab_src.insert_many(all_src)\n",
    "\n",
    "tab_chro = db[\"chronicles\"]\n",
    "for x in all_chronicle:\n",
    "    if \"id\" in x:\n",
    "        x.pop(\"id\")\n",
    "tab_chro.insert_many(all_chronicle)\n",
    "\n",
    "tab_incidents.create_index([\"rg_id\"])\n",
    "tab_src.create_index([\"rg_id\"])\n",
    "\n",
    "# tab_incidents.create_index([\"id\"])"
   ]
  },
  {
   "cell_type": "code",
   "execution_count": 12,
   "metadata": {},
   "outputs": [],
   "source": [
    "def add_state_country(row):\n",
    "    #     print(row)\n",
    "    chro = tab_chro.find_one(chronicler_name=row[\"chronicler_name\"])\n",
    "    #     print(chro)\n",
    "    sub = pycountry.subdivisions.get(code=chro[\"iso3166_2\"])\n",
    "    assert sub is not None\n",
    "    row[\"state\"] = sub.name\n",
    "    row[\"country\"] = _(sub.country.name)\n",
    "    return row"
   ]
  },
  {
   "cell_type": "code",
   "execution_count": 13,
   "metadata": {},
   "outputs": [],
   "source": [
    "county_words = [\"Landkreis\", \"Landkeis\", \"Kreis\", \"LK\"]\n",
    "\n",
    "\n",
    "def clean_county(x):\n",
    "    if x is None or x == \"None\":\n",
    "        return None\n",
    "    x = clean_string(x)\n",
    "\n",
    "    for w in county_words:\n",
    "        w += \" \"\n",
    "        if x.startswith(w):\n",
    "            x = x[len(w) :]\n",
    "\n",
    "    if not is_valid_county(x):\n",
    "        print(\"removing\", x)\n",
    "        return None\n",
    "    return x\n",
    "\n",
    "\n",
    "def clean_city(x):\n",
    "    x = clean_string(x)\n",
    "    if x is None:\n",
    "        return None\n",
    "    assert len(x) > 0\n",
    "    return x\n",
    "\n",
    "\n",
    "def clean_string(x):\n",
    "    x = clean(x, lang=\"de\", lower=False)\n",
    "    if len(x) == 0:\n",
    "        return None\n",
    "    return x"
   ]
  },
  {
   "cell_type": "code",
   "execution_count": 14,
   "metadata": {},
   "outputs": [],
   "source": [
    "def fill_missing_county():\n",
    "    statement = \"SELECT * FROM incidents GROUP BY city, state having count(*) > 1\"\n",
    "    for row in db.query(statement):\n",
    "        dupli = list(tab_incidents.find(city=row[\"city\"], state=row[\"state\"]))\n",
    "        county_can = []\n",
    "        contains_none = False\n",
    "        for d in dupli:\n",
    "            if d[\"county\"] is not None:\n",
    "                county_can.append(d[\"county\"])\n",
    "            else:\n",
    "                contains_none = True\n",
    "\n",
    "        unique_can = list(set(county_can))\n",
    "        if contains_none and len(unique_can) == 1:\n",
    "            tab_incidents.update(\n",
    "                {\"city\": row[\"city\"], \"county\": unique_can[0]}, [\"city\"]\n",
    "            )\n",
    "            print(unique_can)"
   ]
  },
  {
   "cell_type": "code",
   "execution_count": 15,
   "metadata": {},
   "outputs": [
    {
     "name": "stderr",
     "output_type": "stream",
     "text": [
      "622it [00:01, 495.72it/s]"
     ]
    },
    {
     "name": "stdout",
     "output_type": "stream",
     "text": [
      "date is broken, skipping\n",
      "OrderedDict([('id', 564), ('chronicler_name', 'München Chronik'), ('tags', 'Der Dritte Weg'), ('motives', 'Gegen Geflüchtete, Rassismus'), ('contexts', 'Flugblattverteilaktion'), ('factums', ''), ('city', 'Landkreis München'), ('description', 'Weil alle Unterkünfte überfüllt sind, bringen die Landkreisbehörden vorübergehend Asylsuchende in der Turnhalle des Förderzentrums Unterschleißheim unter. Wie in einer vergleichbaren Situation im August 2014 schon einmal, verteilen daraufhin Aktivist_innen der Neonazipartei „Der Dritte Weg“ rassistische Flugblätter in die Briefkästen von Anwohner_innen.\\n\\n\\nBei den verteilten Pam,phleten handelt es sich um die bekannten „Dritte-Weg“-Flugblätter „Asylmißbrauch in Deutschland endlich stoppen“. In den vom „Dritten-Weg“-Vorsitzenden Klaus Armstroff (Weidenthal) presserechtlich verantworteten Flugblättern heißt es u. a.: \\n„(…) zahllose vollkommen kulturfremde Menschen werden mit den hart erarbeiteten Steuermitteln deutscher Bürger hier auf ewig durchgefüttert“\\n und \\n„Wir brauchen deshalb für kulturfremde Ausländer keine wie auch immer geartete ‚Willkommenskultur‘, sondern eine konsequente ‚Rückführungskultur‘, die unsere Identität als Volk erhält“.'), ('title', 'Flugblattverteilung gegen Geflüchtete'), ('date', None), ('rg_id', 'https://muenchen-chronik.de/ende-mai-2015-der-dritte-weg-flugblattverteilung-gegen-gefluechtete/'), ('url', 'https://muenchen-chronik.de/ende-mai-2015-der-dritte-weg-flugblattverteilung-gegen-gefluechtete/'), ('county', None), ('postal_code', None), ('state', 'Bayern'), ('latitude', None), ('longitude', None), ('address', None), ('orig_county', None), ('orig_city', 'Landkreis München'), ('country', 'Deutschland')])\n",
      "date is broken, skipping\n",
      "OrderedDict([('id', 580), ('chronicler_name', 'München Chronik'), ('tags', 'Die Freiheit (DF), Internationale Gesellschaft für Menschenrechte (IGfM München), Michael Stürzenberger'), ('motives', 'GMF allgemein, Islamfeindlichkeit'), ('contexts', 'Kundgebung/Mahnwache'), ('factums', ''), ('city', 'BA 01 Altstadt - Lehel'), ('description', 'Zu einer Kundgebung „für Menschenrechte und für den Schutz von Christen im Nahen Osten“ rufen nicht nur (laut Veranstalter_innen-Eigenbezeichnung) „orientalische Christen“ auf, sondern auch die Münchner Gruppe der ultrarechten „Internationalen Gesellschaft für Menschenrechte“ (IGfM München).\\n\\n\\nAn der Versammlung von ca. 14.00 bis 17.00 Uhr auf dem Stachus nehmen ein halbes Dutzend Aktivist_innen der rechtspopulistischen Partei „Die Freiheit“ (DF) teil. Der DF-Bundesvorsitzende Michael Stürzenberger hält auch eine Rede.'), ('title', 'Kundgebung'), ('date', None), ('rg_id', 'https://muenchen-chronik.de/25-oktober-2014-internationale-gesellschaft-fuer-menschenrechte-kundgebung/'), ('url', 'https://muenchen-chronik.de/25-oktober-2014-internationale-gesellschaft-fuer-menschenrechte-kundgebung/'), ('county', None), ('postal_code', None), ('state', 'Bayern'), ('latitude', None), ('longitude', None), ('address', None), ('orig_county', None), ('orig_city', 'BA 01 Altstadt - Lehel'), ('country', 'Deutschland')])\n",
      "date is broken, skipping\n",
      "OrderedDict([('id', 607), ('chronicler_name', 'München Chronik'), ('tags', 'Sowboda, Stepan Bandera'), ('motives', 'Sonstiges'), ('contexts', 'Kundgebung/Mahnwache'), ('factums', ''), ('city', 'BA 02 Ludwigsvorstadt - Isarvorstadt'), ('description', \"Gegrüßt wird mit drei Fingern – dem Parteisymbol der nazistischen ‚Swoboda‘.\\n\\n\\nZur Unterstützung der Proteste gegen die Regierung in Kiew veranstaltet ein Bündnis von Ukrainer_innen eine „Mini-Maidan“-Aktion auf dem Sendlinger Tor-Platz. Mit zu den Verantwortlichen gehören aber auch zwei Aktivisten der deutschen und Münchner „Zellen“ (Eigenbezeichnung) der neonazistischen Partei „Swoboda“ („Freiheit“).\\n\\n\\nDie ukrainische Partei „Swoboda“ wurde 1991 unter dem damaligen Namen „Sozial-nationale Partei der Ukraine“ gegründet und 2004 in „Allukrainische Vereinigung ‚Swoboda'“ umbenannt.\\n\\n\\nSwoboda knüpft in ihrer rassistischen und antirussischen Ausrichtung durchaus an die „Organisation der Ukrainischen Nationalisten“ (OUN-B) unter Stepan Bandera an. Die OUN-B hatte zunächst mit Nazideutschland kooperiert. Im Juni 1941 proklamierte Bandera nach dem Einmarsch der Wehrmacht die ukrainische Unabhängigkeit. In der Unabhängigkeitserklärung war eine „enge Zusammenarbeit mit dem nationalsozialistischen Großdeutschland unter dem Führer Adolf Hitler“ vorgesehen, um so „dem ukrainischen Volk zu helfen, sich von der Moskauer Okkupation zu befreien“. Die UPA als militärischer Arm der OUN-B war bis 1944 an der Ermordung zehntausender Juden, Polen und Russen beteiligt.\\n\\n\\nBandera wurde aufgrund der Unabhängigkeitserklärung 1941 von den Deutschen ins KZ Sachsenhausen deportiert, 1944 aber wieder entlassen. Anschließend kämpfte er zunächst mit den sowjetischen Partisanen gegen die Deutschen, dann wieder gegen die Rote Armee für die ukrainische Unabhängigkeit. Bandera ist auf dem Münchner Waldfriedhof begraben.\\n\\n\\n„Swoboda“ erhielt bei den jüngsten Parlamentswahlen in der Ukraine im November 2012 10,44 Prozent der Stimmen. Die Partei ist angedockt an die „Allianz der europäischen nationalen Bewegungen“, unter anderem mit dem französischen „Front National“, der „British National Party“ und der ungarischen „Jobbik“. Oleg Tyagnibok , den Vorsitzenden der Partei in der Ukraine, führte das „Simon Wiesenthal Center“ (SWC) im Jahr 2012 an Platz 5 auf seiner weltweiten Liste einflussreicher antisemitischer Politiker. Tyagnibok hatte laut dem SWC „Säuberungsaktionen“ gegen Jüdinnen und Juden in der Ukraine gefordert. Delegierte von „Swoboda“ besuchten im Mai 2013 die NPD im sächsischen Landtag.\\n\\n\\nDie „Euro-Maidan München“ -Aktion wird am Freitag, 31. Januar 2014, am Abend mit einer Kundgebung auf dem Sendlinger-Tor-Platz eröffnet. Zu den auf der Bühne Anwesenden und Redner_innen gehören mit Taras Berezhansky, dem Vorsitzenden der Münchner „Swoboda“-„Zelle“ und Stadtrat der Swoboda im ukrainischen Ivano-Frankivsk, sowie mit Alexei Emelianenko zwei wichtige „Swoboda“-Unterstützer.\\n\\n\\nAm Samstag: Kundgebung in den ukrainischen Nationalfarben blau und gelb. Foto: a.i.d.a.\\n\\n\\nDie beiden Aktivisten treten auf dem Sendlinger Tor-Platz als Privatpersonen auf, sind bei der Versammlung jedoch offiziell als Ordner bzw. Redner/Moderator eingesetzt.\\n\\n\\nSeit Beginn der Proteste Ende November 2013 sind auf dem Maidan-Platz in Kiew neben den blau-gelben Flaggen der Ukraine auch „Swoboda“-Parteifahnen und rot-schwarzen Fahnen. Die schwarz-rote Fahne wird auch von der Partei „Kongress Ukrainischer Nationalisten“ benutzt. Zugleich ist sie eine Reminiszenz an die ehemalige „Ukrainische Aufständische Armee“ (UPA).\\n\\n\\nIn München ist das Erscheinungsbild anders als in Kiew: nur nationale Symbole sind erwünscht, die Veranstalter_innen untersagen ausdrücklich Parteifahnen und andere politische Kennzeichen. Während der gesamten Aktion versuchen die Organisator_innen, die Mitwikung der extrem rechten Partei nicht deutlich werden zu lassen.\\n\\n\\nDas ganze Wochenende wird aber auch auf dem Sendlinger-Tor-Platz die Parole „Ruhm sei der Ukraine“ – „Den Helden sei Ruhm“ gerufen. Diese alte Parole wurde auch von der „Ukrainischen Aufständischen Armee“ (UPA) benutzt, heute wird sie dennoch als Oppositionsparole wieder verwendet. Niemand schreitet ein, als eine Sängerin des Duos „Lilia und Maryna“ mehrfach mit dem“ukrainischen Dreizack“ grüßt – der Hand mit den drei abgespreizten Fingern und zugleich „Swoboda“-Parteisymbol.\\n\\n\\nIn der Ukraine sind die drei Oppositionsparteien UDAR unter Vitali Klitschko (Akronym für „Ukrainische Demokratische Allianz für Reformen“, „udar“ bedeutet auch „Faustschlag“), „Batkiwschtschyna“ („Vaterland“) unter der inhaftierten Parteichefin Julia Timoschenko und die nazistische „Swoboda“ unter Parteichef Oleg Tiahnybok die wichtigsten Teile der Protestbewegung. Tiahnybok, Klitschko und Arseni Jazenjuk, „Vaterlands“-Fraktionsvorsitzender, sind die Gesichter der Proteste auf dem Kiewer Maidan.\\n\\n\\nAuch Taras Berezhansky (3.v.r.), der Vorsitzende der Münchner ‚Swoboda‘, singt die ukrainische Nationalhymne. Foto: a.i.d.a.\\n\\n\\nMit Vitali Klitschko und Arseni Jazenjuk treten am Samstag, 1. Februar 2014, ab 12.00 Uhr, zwei der populärsten Oppositionspolitiker auch auf dem „Mini-Maidan“ in München auf. Der extrem rechte Tiahnybok nimmt dagegen an der Münchner Versammlung nicht teil. Er hatte in der Vergangenheit immer wieder die bayerische Landeshauptstadt besucht – zuletzt im August 2013, bei der Gründung der Münchner Parteizelle der „Swoboda“.\\n\\n\\nNeben Evgenia Timoschenko, der Tochter von Julia Timoschenko, spricht auch der ehemalige ukrainische Außenminister Petro Poroschenko zu den Veranstaltungsteilnehmer_innen. Poroschenko stellt in seiner Rede die Frage: „Was müssen wir tun, um gegen die derzeitige Regierung zu gewinnen?“ und beantwortet sie gleich selbst: „Vor allem müssen wir eins sein. Niemand darf einen Keil zwischen uns, zwischen die Oppositionsparteien treiben“. Was aber auch bedeutet, dass im Kampf gegen die Regierung somit auch die Kooperation mit Neonazis legitimiert ist.\\n\\n\\n„Swoboda“-Unterstützer Alexei Emelianenko hält wie schon am Freitag mindestens eine Ansprache von der Bühne. Der „Swoboda“-Funktionär Taras Berezhansky tritt wieder als Ordner auf der Versammlung und mit einem Theaterstück auf der Bühne in Erscheinung.\\n\\n\\nAuch demokratische Politiker_innen von den GRÜNEN und der SPD reden wie schon auf der Kundgebung, ohne sich von den mitveranstaltenden extrem Rechten zu distanzieren.\\n\\n\\nAm Sonntag, 2. Februar 2014 laufen mehrere hundert Teilnehmende um 12.00 Uhr in einer Demonstration über Oberanger und Marienplatz zum Odeonsplatz. Von der „Swoboda“ sind heute nur einzelne Sympathisant_innen dabei.\\n\\n\\nAuf der Abschlusskundgebung singt die bekannte ukrainische Schlagersängerin Ruslana die Nationalhymne.\"), ('title', 'Swoboda Aktivisten beim Münchener „Mini-Maidan“'), ('date', None), ('rg_id', 'https://muenchen-chronik.de/31-januar-2014-bis-2-februar-2014-die-neonazistische-swoboda-partei-beteiligt-sich-am-muenchener-mini-maidan/'), ('url', 'https://muenchen-chronik.de/31-januar-2014-bis-2-februar-2014-die-neonazistische-swoboda-partei-beteiligt-sich-am-muenchener-mini-maidan/'), ('county', None), ('postal_code', None), ('state', 'Bayern'), ('latitude', None), ('longitude', None), ('address', None), ('orig_county', None), ('orig_city', 'BA 02 Ludwigsvorstadt - Isarvorstadt'), ('country', 'Deutschland')])\n"
     ]
    },
    {
     "name": "stderr",
     "output_type": "stream",
     "text": [
      "872it [00:01, 481.33it/s]"
     ]
    },
    {
     "name": "stdout",
     "output_type": "stream",
     "text": [
      "date is broken, skipping\n",
      "OrderedDict([('id', 790), ('chronicler_name', 'ezra'), ('tags', None), ('motives', None), ('contexts', None), ('factums', None), ('city', 'Jena/Erfurt'), ('description', 'Während der Wahlkampfperiode wurden Morddrohungen gegen mehrere Politiker*innen ausgesprochen. Sie richten sich unter anderem gegen den CDU-Landeschef Mike Mohring und Dirk Adams, den Fraktionschef der Thüringer Grünen. Mohring erhielt Ende September erst eine handgeschriebene Postkarte mit Drohungen und Beleidigungen, in der indirekt Bezug auf den Mord am Kasseler Regierungspräsidenten Walter Lübcke genommen wurde. Im Oktober folgte dann eine Drohmail in der die Absender*innen einen Messer- oder Autobombenanschlag auf seine Person ankündigten, sollte Mohring nicht sofort seinen Wahlkampf einstellen. Dirk Adams erhielt einige Tage später eine E-Mail mit einer ähnlichen Drohung der „Cyber-Reichswehr“, wenn er nicht bei den Grünen austreten sollte.'), ('title', 'Morddrohungen gegen Politiker*innen im Zuge der Thüringer Landtagswahlen'), ('date', None), ('rg_id', 'ezra-936'), ('url', 'https://ezra.de/chronik/'), ('county', 'Stadt Jena'), ('postal_code', None), ('state', 'Thüringen'), ('latitude', None), ('longitude', None), ('address', None), ('orig_county', 'Stadt Jena'), ('orig_city', 'Jena/Erfurt'), ('country', 'Deutschland')])\n"
     ]
    },
    {
     "name": "stderr",
     "output_type": "stream",
     "text": [
      "14466it [00:26, 563.53it/s]"
     ]
    },
    {
     "name": "stdout",
     "output_type": "stream",
     "text": [
      "date is broken, skipping\n",
      "OrderedDict([('id', 14355), ('chronicler_name', 'Opferberatung Rheinland'), ('tags', None), ('motives', None), ('contexts', None), ('factums', None), ('city', 'Aachen'), ('description', 'In der Nacht griffen mehrere, teils stadtbekannte Neonazis zwei Personen in der Aachener Innenstadt an. Dabei traten und schlugen die Angreifer auch auf einen Betroffenen ein, der am Boden lag. Beide wurden verletzt, eine Person erlitt eine schwere Gehirnerschütterung.'), ('title', None), ('date', None), ('rg_id', 'https://www.opferberatung-rheinland.de/chronik-der-gewalt/detail/10/1172012-aachen'), ('url', 'https://www.opferberatung-rheinland.de/chronik-der-gewalt/detail/10/1172012-aachen'), ('county', None), ('postal_code', None), ('state', 'Nordrhein-Westfalen'), ('latitude', None), ('longitude', None), ('address', None), ('orig_county', None), ('orig_city', 'Aachen'), ('country', 'Deutschland')])\n",
      "date is broken, skipping\n",
      "OrderedDict([('id', 14356), ('chronicler_name', 'Opferberatung Rheinland'), ('tags', None), ('motives', None), ('contexts', None), ('factums', None), ('city', 'Detmold'), ('description', 'Eine Sinti-Familie wurde in der Nacht in Detmold-Pivitsheide von einer Gruppe Jugendlicher rassistisch und mit Nazi-Parolen beschimpft und mit Softair-Waffen beschossen. Dabei wurde eine Person von abprallenden Kugeln verletzt.'), ('title', None), ('date', None), ('rg_id', 'https://www.opferberatung-rheinland.de/chronik-der-gewalt/detail/10/1172012-detmold'), ('url', 'https://www.opferberatung-rheinland.de/chronik-der-gewalt/detail/10/1172012-detmold'), ('county', None), ('postal_code', None), ('state', 'Nordrhein-Westfalen'), ('latitude', None), ('longitude', None), ('address', None), ('orig_county', None), ('orig_city', 'Detmold'), ('country', 'Deutschland')])\n",
      "date is broken, skipping\n",
      "OrderedDict([('id', 14362), ('chronicler_name', 'Opferberatung Rheinland'), ('tags', None), ('motives', None), ('contexts', None), ('factums', None), ('city', 'Wuppertal'), ('description', 'Eine 24-Jährige und ein 21-Jähriger beobachteten in der Nacht mehrere Personen, die eine Hauswand mit rechtsextremen Parolen besprühten, und alarmierten die Polizei. Als die ZeugInnen kurz danach auf drei der TäterInnen trafen, versuchten sie diese festzuhalten. Dabei kam es zu Rangeleien und Faustschlägen, wodurch die ZeugInnen leicht verletzt wurden. Nach ihrem Eintreffen stellte die Polizei bei den polizeilich bekannten Heranwachsenden aus dem rechtsextremen Spektrum Spraydose, Plakate sowie Klebstoff sicher. Der Staatschutz nahm Ermittlungen wegen gefährlicher Körperverletzung und Sachbeschädigung auf.'), ('title', None), ('date', None), ('rg_id', 'https://www.opferberatung-rheinland.de/chronik-der-gewalt/detail/7/852012-wuppertal'), ('url', 'https://www.opferberatung-rheinland.de/chronik-der-gewalt/detail/7/852012-wuppertal'), ('county', None), ('postal_code', None), ('state', 'Nordrhein-Westfalen'), ('latitude', None), ('longitude', None), ('address', None), ('orig_county', None), ('orig_city', 'Wuppertal'), ('country', 'Deutschland')])\n",
      "date is broken, skipping\n",
      "OrderedDict([('id', 14363), ('chronicler_name', 'Opferberatung Rheinland'), ('tags', None), ('motives', None), ('contexts', None), ('factums', None), ('city', 'Hamm'), ('description', 'In der Nacht geriet ein an der Rückseite einer Moschee befindlicher Papiercontainer in Brand. An der Moschee entstand leichter Gebäudeschaden. Ob dies fahrlässig oder vorsätzlich geschah und politisch motiviert war, ist unklar.'), ('title', None), ('date', None), ('rg_id', 'https://www.opferberatung-rheinland.de/chronik-der-gewalt/detail/3/452012-hamm'), ('url', 'https://www.opferberatung-rheinland.de/chronik-der-gewalt/detail/3/452012-hamm'), ('county', None), ('postal_code', None), ('state', 'Nordrhein-Westfalen'), ('latitude', None), ('longitude', None), ('address', None), ('orig_county', None), ('orig_city', 'Hamm'), ('country', 'Deutschland')])\n",
      "date is broken, skipping\n",
      "OrderedDict([('id', 14370), ('chronicler_name', 'Opferberatung Rheinland'), ('tags', None), ('motives', None), ('contexts', None), ('factums', None), ('city', 'Leverkusen'), ('description', 'In der Nacht griffen Neonazis das selbstverwaltete Zentrum „Kulturausbesserungswerk\" in Leverkusen Opladen an. Dabei wurden Fensterscheiben zerstört, Metall-Kunstwerke umgeworfen und das Kulturzentrum mit Aufklebern in Hakenkreuzform beklebt. Zuvor soll die Gruppe in der Nähe des Opladener Bahnhofs extrem rechte Propaganda verklebt haben. Der Trägerverein des Kulturzentrums erstattete Strafanzeige.'), ('title', None), ('date', None), ('rg_id', 'https://www.opferberatung-rheinland.de/chronik-der-gewalt/detail/11/1242012-leverkusen'), ('url', 'https://www.opferberatung-rheinland.de/chronik-der-gewalt/detail/11/1242012-leverkusen'), ('county', None), ('postal_code', None), ('state', 'Nordrhein-Westfalen'), ('latitude', None), ('longitude', None), ('address', None), ('orig_county', None), ('orig_city', 'Leverkusen'), ('country', 'Deutschland')])\n",
      "date is broken, skipping\n",
      "OrderedDict([('id', 14380), ('chronicler_name', 'Opferberatung Rheinland'), ('tags', None), ('motives', None), ('contexts', None), ('factums', None), ('city', 'Dortmund'), ('description', 'Unbekannte besprühten eine Hauswand im Dortmunder Stadtteil Hörde mit einem Hakenkreuz. Ob sich die Tat gezielt gegen den dort ansässigen Verein „Gefangeneninitiative 90 e. V.\" richtete, ist noch ungeklärt.'), ('title', None), ('date', None), ('rg_id', 'https://www.opferberatung-rheinland.de/chronik-der-gewalt/detail/6/732012-dortmund'), ('url', 'https://www.opferberatung-rheinland.de/chronik-der-gewalt/detail/6/732012-dortmund'), ('county', None), ('postal_code', None), ('state', 'Nordrhein-Westfalen'), ('latitude', None), ('longitude', None), ('address', None), ('orig_county', None), ('orig_city', 'Dortmund'), ('country', 'Deutschland')])\n",
      "date is broken, skipping\n",
      "OrderedDict([('id', 14381), ('chronicler_name', 'Opferberatung Rheinland'), ('tags', None), ('motives', None), ('contexts', None), ('factums', None), ('city', 'Dortmund'), ('description', 'Im Verlauf des Wochenendes wurden verschiedene Gebäude in Dortmund, darunter die für türkische Hochzeiten beliebte Eventhalle SA-DE, mit Parolen und Hakenkreuzen beschmiert.'), ('title', None), ('date', None), ('rg_id', 'https://www.opferberatung-rheinland.de/chronik-der-gewalt/detail/2/332012-dortmund'), ('url', 'https://www.opferberatung-rheinland.de/chronik-der-gewalt/detail/2/332012-dortmund'), ('county', None), ('postal_code', None), ('state', 'Nordrhein-Westfalen'), ('latitude', None), ('longitude', None), ('address', None), ('orig_county', None), ('orig_city', 'Dortmund'), ('country', 'Deutschland')])\n",
      "date is broken, skipping\n",
      "OrderedDict([('id', 14411), ('chronicler_name', 'Opferberatung Rheinland'), ('tags', None), ('motives', None), ('contexts', None), ('factums', None), ('city', 'Duisburg'), ('description', 'In einem offenen Diskussionsforum auf Facebook rufen mehrere Nutzer_innen am Wochenende dazu auf, ein von Rumänen und Bulgaren bewohntes Hochhaus in Duisburg-Rheinhausen niederzubrennen. Die rassistische Hetze gegen Zuwander_innen aus Südosteuropa erreicht damit in Duisburg ein neues Eskalationsniveau. Gegen Nutzer_innen, die offensichtlich ihren Klarnamen benutzten, gingen bei der Polizei mehrere Anzeigen ein. Nur wenige Tage später (13.8.2013) beschmierten Unbekannte Wände rund um das Haus mit rassistischen Parolen.'), ('title', None), ('date', None), ('rg_id', 'https://www.opferberatung-rheinland.de/chronik-der-gewalt/detail/10/1182013-duisburg'), ('url', 'https://www.opferberatung-rheinland.de/chronik-der-gewalt/detail/10/1182013-duisburg'), ('county', None), ('postal_code', None), ('state', 'Nordrhein-Westfalen'), ('latitude', None), ('longitude', None), ('address', None), ('orig_county', None), ('orig_city', 'Duisburg'), ('country', 'Deutschland')])\n",
      "date is broken, skipping\n",
      "OrderedDict([('id', 14435), ('chronicler_name', 'Opferberatung Rheinland'), ('tags', None), ('motives', None), ('contexts', None), ('factums', None), ('city', 'Bonn'), ('description', 'Im Bonner Stadteil Küdinghoven kam es am 2. Januar gegen 18:00 Uhr zu einem Großbrand in einem Mehrfamilienhaus, von dem insgesamt 27 Personen betroffen waren. Zehn Betroffene mussten mit Verdacht auf Rauchgasvergiftung im Krankenhaus behandelt werden. Laut ersten Erkenntnissen der Polizei wurde im Keller des Hauses Sperrmüll fahrlässig oder vorsätzlich in Brand gesteckt. Konkrete Hinweise auf eine „fremdenfeindlich\" oder anders politisch motivierte Straftat gäbe es noch nicht, die Ermittlungen gingen aber in alle Richtungen. Am 4. Januar wurde in demselben Wohnobjekt auf einem Balkon ein Kleidungsstück auf einer Wäscheleine in Brand gesetzt. Am 7. Januar stellte eine Bewohnerin fest, dass bei dem in ihrer Garage abgestellten PKW die Reifen zerstochen wurden und die dort gelagerten Sommerreifen Brandschäden aufwiesen.'), ('title', None), ('date', None), ('rg_id', 'https://www.opferberatung-rheinland.de/chronik-der-gewalt/detail/2-4-und-712013-bonn'), ('url', 'https://www.opferberatung-rheinland.de/chronik-der-gewalt/detail/2-4-und-712013-bonn'), ('county', None), ('postal_code', None), ('state', 'Nordrhein-Westfalen'), ('latitude', None), ('longitude', None), ('address', None), ('orig_county', None), ('orig_city', 'Bonn'), ('country', 'Deutschland')])\n",
      "date is broken, skipping\n",
      "OrderedDict([('id', 14436), ('chronicler_name', 'Opferberatung Rheinland'), ('tags', None), ('motives', None), ('contexts', None), ('factums', None), ('city', 'Dormagen'), ('description', 'Der Rohbau einer Moschee in Dormagen wurde in der Nacht zu Sonntag von unbekannten Tätern an etwa 40 bis 50 Stellen mit Hakenkreuzen, rechten und islamfeindlichen Parolen beschmiert. Zeugen entdeckten die einen Quadratmeter großen Hakenkreuze am Morgen und alarmierten die Polizei. Am Sonntag versammelten sich am Tatort spontan rund 300 Menschen zu einer Solidaritätskundgebung.\\nBereits ein Jahr zuvor waren am Tor des Moscheebaus Hakenkreuze gesprüht worden.'), ('title', None), ('date', None), ('rg_id', 'https://www.opferberatung-rheinland.de/chronik-der-gewalt/detail/20/211214-dormagen'), ('url', 'https://www.opferberatung-rheinland.de/chronik-der-gewalt/detail/20/211214-dormagen'), ('county', None), ('postal_code', None), ('state', 'Nordrhein-Westfalen'), ('latitude', None), ('longitude', None), ('address', None), ('orig_county', None), ('orig_city', 'Dormagen'), ('country', 'Deutschland')])\n",
      "date is broken, skipping\n",
      "OrderedDict([('id', 14447), ('chronicler_name', 'Opferberatung Rheinland'), ('tags', None), ('motives', None), ('contexts', None), ('factums', None), ('city', 'Amtzell'), ('description', 'Am Rande des U17-Pfingstturniers in Amtzell (Baden-Württemberg) wurde ein Nachwuchsspieler von Borussia Mönchengladbach erst rassistisch beleidigt und dann angegriffen. Borussias Physiotherapeut, der sich den Angreifern in den Weg stellte, wurde ebenfalls attackiert und verletzt. Er musste im Krankenhaus behandelt werden. Die alarmierte Polizei nahm die beiden jugendlichen Täter fest.'), ('title', None), ('date', None), ('rg_id', 'https://www.opferberatung-rheinland.de/chronik-der-gewalt/detail/7/8614-amtzell'), ('url', 'https://www.opferberatung-rheinland.de/chronik-der-gewalt/detail/7/8614-amtzell'), ('county', None), ('postal_code', None), ('state', 'Nordrhein-Westfalen'), ('latitude', None), ('longitude', None), ('address', None), ('orig_county', None), ('orig_city', 'Amtzell'), ('country', 'Deutschland')])\n",
      "date is broken, skipping\n",
      "OrderedDict([('id', 14449), ('chronicler_name', 'Opferberatung Rheinland'), ('tags', None), ('motives', None), ('contexts', None), ('factums', None), ('city', 'Köln'), ('description', 'Unbekannte besprühten in der Nacht den Pkw eines Kneipeninhabers mit Hakenkreuzen und rechten Parolen. Das Lokal „Limes Cologne\", das sich in der Vergangenheit an Initiativen gegen Rechts beteiligte, war bereits mehrfach Attacken von Neonazis (Aufkleber-Aktionen, Drohanrufe, Sachbeschädigungen) ausgesetzt. Schockierend und nicht hinnehmbar sei, so der Inhaber, dass diese Aktionen nun auf den Privatbereich ausgedehnt würden. Von der Polizei forderte er, dass die Tat eindeutig als der Kölner Neonazi-Szene zuzuordnende Aktion eingestuft werde.'), ('title', None), ('date', None), ('rg_id', 'https://www.opferberatung-rheinland.de/chronik-der-gewalt/detail/16/17514-koeln'), ('url', 'https://www.opferberatung-rheinland.de/chronik-der-gewalt/detail/16/17514-koeln'), ('county', None), ('postal_code', None), ('state', 'Nordrhein-Westfalen'), ('latitude', None), ('longitude', None), ('address', None), ('orig_county', None), ('orig_city', 'Köln'), ('country', 'Deutschland')])\n"
     ]
    },
    {
     "name": "stderr",
     "output_type": "stream",
     "text": [
      "14579it [00:26, 553.69it/s]"
     ]
    },
    {
     "name": "stdout",
     "output_type": "stream",
     "text": [
      "date is broken, skipping\n",
      "OrderedDict([('id', 14473), ('chronicler_name', 'Opferberatung Rheinland'), ('tags', None), ('motives', None), ('contexts', None), ('factums', None), ('city', 'Köln'), ('description', 'Auf der Baustelle einer Flüchtlingsunterkunft in Köln-Hochkirchen wurde der zuständige Bauleiter mit einem Stein beworfen. Er blieb zum Glück unverletzt, nur ein Firmenwagen wurde durch den Wurf beschädigt. Weil bereits ein Stromgenerator sabotiert wurde und weitere Sabotageakte zur Verhinderung des Baus befürchtet werden, wurden verstärkte Sicherheitsmaßnahmen realisiert.'), ('title', None), ('date', None), ('rg_id', 'https://www.opferberatung-rheinland.de/chronik-der-gewalt/detail/mitte-okt-2015-koeln'), ('url', 'https://www.opferberatung-rheinland.de/chronik-der-gewalt/detail/mitte-okt-2015-koeln'), ('county', None), ('postal_code', None), ('state', 'Nordrhein-Westfalen'), ('latitude', None), ('longitude', None), ('address', None), ('orig_county', None), ('orig_city', 'Köln'), ('country', 'Deutschland')])\n",
      "date is broken, skipping\n",
      "OrderedDict([('id', 14489), ('chronicler_name', 'Opferberatung Rheinland'), ('tags', None), ('motives', None), ('contexts', None), ('factums', None), ('city', 'Wuppertal'), ('description', 'Bereits zweimal brannte es in einer leerstehenden Wohnung in einem Mehrfamilienhaus, in dem die Stadt Wuppertal mehrere Wohnungen für die Unterbringung von Flüchtlingen angemietet hat. In beiden Fällen geht die Polizei von Brandstiftung aus. Verletzt wurde niemand und das Gebäude musste nicht geräumt werden. Anhaltspunkte für eine „fremdenfeindliche Tat\" hat die Polizei bislang nicht.'), ('title', None), ('date', None), ('rg_id', 'https://www.opferberatung-rheinland.de/chronik-der-gewalt/detail/277-und-7815-wuppertal'), ('url', 'https://www.opferberatung-rheinland.de/chronik-der-gewalt/detail/277-und-7815-wuppertal'), ('county', None), ('postal_code', None), ('state', 'Nordrhein-Westfalen'), ('latitude', None), ('longitude', None), ('address', None), ('orig_county', None), ('orig_city', 'Wuppertal'), ('country', 'Deutschland')])\n",
      "date is broken, skipping\n",
      "OrderedDict([('id', 14515), ('chronicler_name', 'Opferberatung Rheinland'), ('tags', None), ('motives', None), ('contexts', None), ('factums', None), ('city', 'Duisburg'), ('description', 'Eine Party der antirassistischen Ultra-Gruppe \"Kohorte\" wurde gegen 3 Uhr morgens von rund 20 Personen der rechten Szene angegriffen. Mitglieder der Gruppen Division Duisburg, Toastbrot Duisburg (TBDU), Neudorfer Aktionsfront (NAF), Nationaler Widerstand Duisburg (NWDU) sowie weitere fußballfremde Personen aus der rechten Szene versuchten sich mit Faustschlägen, dem Werfen von Stühlen und dem Einsatz von Pfefferspray Zutritt zur Veranstaltung zu verschaffen.'), ('title', None), ('date', None), ('rg_id', 'https://www.opferberatung-rheinland.de/chronik-der-gewalt/detail/10/1112015-duisburg'), ('url', 'https://www.opferberatung-rheinland.de/chronik-der-gewalt/detail/10/1112015-duisburg'), ('county', None), ('postal_code', None), ('state', 'Nordrhein-Westfalen'), ('latitude', None), ('longitude', None), ('address', None), ('orig_county', None), ('orig_city', 'Duisburg'), ('country', 'Deutschland')])\n",
      "date is broken, skipping\n",
      "OrderedDict([('id', 14523), ('chronicler_name', 'Opferberatung Rheinland'), ('tags', None), ('motives', None), ('contexts', None), ('factums', None), ('city', 'Moers'), ('description', 'In der Nacht zu Sonntag besprühten Unbekannte eine katholische Kirche in der Moerser Innenstadt mit einem Hakenkreuz und einem NPD-Schriftzug. Hintergrund der Tat könnte das Konzert „Schalom – Kirche trifft Synagoge“ sein, mit dem am Sonntagabend an die Deportation jüdischer Moerser nach Riga erinnert wurde.'), ('title', None), ('date', None), ('rg_id', 'https://www.opferberatung-rheinland.de/chronik-der-gewalt/detail/10/111216-moers'), ('url', 'https://www.opferberatung-rheinland.de/chronik-der-gewalt/detail/10/111216-moers'), ('county', None), ('postal_code', None), ('state', 'Nordrhein-Westfalen'), ('latitude', None), ('longitude', None), ('address', None), ('orig_county', None), ('orig_city', 'Moers'), ('country', 'Deutschland')])\n",
      "date is broken, skipping\n",
      "OrderedDict([('id', 14525), ('chronicler_name', 'Opferberatung Rheinland'), ('tags', None), ('motives', None), ('contexts', None), ('factums', None), ('city', 'Wermelskirchen'), ('description', 'Unbekannte zerstörten in der Nacht mit einer Bordsteinscheibe das Schaufenster des Weltladens. Da zuvor der F(l)airladen im nahegelegenen Remscheid-Lüttringhausen in diesem Jahr mehrfach von solchen Attacken betroffen war, schließen die Ermittlungsbehörden einen Zusammenhang der Taten nicht aus. Der Weltladen in Wermelskirchen ist zwar nicht direkt in der Flüchtlingshilfe aktiv, aber an die Gemeinde und die Flüchtlings-Initiative „Willkommen in Wermelskirchen“ angegliedert.'), ('title', None), ('date', None), ('rg_id', 'https://www.opferberatung-rheinland.de/chronik-der-gewalt/detail/1/21216-wermelskirchen'), ('url', 'https://www.opferberatung-rheinland.de/chronik-der-gewalt/detail/1/21216-wermelskirchen'), ('county', None), ('postal_code', None), ('state', 'Nordrhein-Westfalen'), ('latitude', None), ('longitude', None), ('address', None), ('orig_county', None), ('orig_city', 'Wermelskirchen'), ('country', 'Deutschland')])\n",
      "date is broken, skipping\n",
      "OrderedDict([('id', 14540), ('chronicler_name', 'Opferberatung Rheinland'), ('tags', None), ('motives', None), ('contexts', None), ('factums', None), ('city', 'Remscheid'), ('description', 'Am Wochenende kam es in Remscheid erneut zu einer Reihe von Sachbeschädigungen an Einrichtungen oder Fahrzeugen von Menschen, die sich in der Flüchtlingshilfe engagieren: Das Fenster eines Autos mit einem Aufkleber gegen \\nRassismus\\n wurde mit einem Stein eingeschlagen, die Schaukästen einer Kirchengemeinde wurden beschädigt und mit einem Stein wurde die Scheibe eines Weltladens zerstört. Die Polizei ordnet die Sachbeschädigungen einer Reihe rechtsmotivierter Straftaten von bislang unbekannten Tätern zu.'), ('title', None), ('date', None), ('rg_id', 'https://www.opferberatung-rheinland.de/chronik-der-gewalt/detail/1-31016-remscheid'), ('url', 'https://www.opferberatung-rheinland.de/chronik-der-gewalt/detail/1-31016-remscheid'), ('county', None), ('postal_code', None), ('state', 'Nordrhein-Westfalen'), ('latitude', None), ('longitude', None), ('address', None), ('orig_county', None), ('orig_city', 'Remscheid'), ('country', 'Deutschland')])\n",
      "date is broken, skipping\n",
      "OrderedDict([('id', 14547), ('chronicler_name', 'Opferberatung Rheinland'), ('tags', None), ('motives', None), ('contexts', None), ('factums', None), ('city', 'Essen'), ('description', 'Unbekannte befestigten in der Nacht einen gespaltenen Schweinekopf am Zaun einer im Bau befindlichen DITIB-Moschee im Essener Stadtteil Altenessen. Das Bündnis „Essen stellt sich quer“ rief zu einer Mahnwache vor Ort auf und der Essener Oberbürgermeister verurteilte den Versuch, „Muslime in unserer Stadt einzuschüchtern und sie in ihren religiösen Gefühlen zu kränken.“'), ('title', None), ('date', None), ('rg_id', 'https://www.opferberatung-rheinland.de/chronik-der-gewalt/detail/15/16916-essen'), ('url', 'https://www.opferberatung-rheinland.de/chronik-der-gewalt/detail/15/16916-essen'), ('county', None), ('postal_code', None), ('state', 'Nordrhein-Westfalen'), ('latitude', None), ('longitude', None), ('address', None), ('orig_county', None), ('orig_city', 'Essen'), ('country', 'Deutschland')])\n",
      "date is broken, skipping\n",
      "OrderedDict([('id', 14549), ('chronicler_name', 'Opferberatung Rheinland'), ('tags', None), ('motives', None), ('contexts', None), ('factums', None), ('city', 'Höxter'), ('description', 'In Höxter haben Unbekannte am Wochenende versucht, an einer türkischen Moschee ein Feuer zu legen. Sie zündeten einen laminierten DIN-A-4 Zettel an, der sich an der Eingangstür der Moschee befand. Der entstandene Schaden blieb gering. Der Staatsschutz der Polizei wurde in die Ermittlungen wegen versuchter Brandstiftung eingeschaltet.'), ('title', None), ('date', None), ('rg_id', 'https://www.opferberatung-rheinland.de/chronik-der-gewalt/detail/10/11916-hoexter'), ('url', 'https://www.opferberatung-rheinland.de/chronik-der-gewalt/detail/10/11916-hoexter'), ('county', None), ('postal_code', None), ('state', 'Nordrhein-Westfalen'), ('latitude', None), ('longitude', None), ('address', None), ('orig_county', None), ('orig_city', 'Höxter'), ('country', 'Deutschland')])\n",
      "date is broken, skipping\n",
      "OrderedDict([('id', 14553), ('chronicler_name', 'Opferberatung Rheinland'), ('tags', None), ('motives', None), ('contexts', None), ('factums', None), ('city', 'Nettetal'), ('description', 'Auf eine im Bau befindliche Geflüchtetenunterkunft in Nettetal haben Unbekannte am 27. bzw. 29. August Steine geworfen. Die dort arbeitenden Menschen wurden zum Glück nicht verletzt, sie wollten aber nicht weiterarbeiten und wurden durch andere Arbeiter ersetzt. Bereits zuvor hatte eine erste Baufirma gekündigt, nachdem Arbeiter \"ständig fotografiert, sie teilweise bedroht und die Einfahrt versperrt war\", so ein Vertreter der Bauherren. Gegen die Unterkunft haben sich Anwohner zu einer Interessengemeinschaft zusammengeschlossen.'), ('title', None), ('date', None), ('rg_id', 'https://www.opferberatung-rheinland.de/chronik-der-gewalt/detail/27/29816-nettetal'), ('url', 'https://www.opferberatung-rheinland.de/chronik-der-gewalt/detail/27/29816-nettetal'), ('county', None), ('postal_code', None), ('state', 'Nordrhein-Westfalen'), ('latitude', None), ('longitude', None), ('address', None), ('orig_county', None), ('orig_city', 'Nettetal'), ('country', 'Deutschland')])\n",
      "date is broken, skipping\n",
      "OrderedDict([('id', 14566), ('chronicler_name', 'Opferberatung Rheinland'), ('tags', None), ('motives', None), ('contexts', None), ('factums', None), ('city', 'Bochum'), ('description', 'In der Nacht von Samstag auf Sonntag kam es an einem Nebengebäude einer Moschee in Bochum-Langendreer zu einer versuchten Brandstiftung. Ersten polizeilichen Ermittlungen zufolge zündelten unbekannte Täter von außen am Gebäude. Es entstand dadurch geringer Sachschaden. Da ein fremdenfeindlicher Hintergrund nicht ausgeschlossen wird, übernahm der Staatsschutz die Ermittlungen.'), ('title', None), ('date', None), ('rg_id', 'https://www.opferberatung-rheinland.de/chronik-der-gewalt/detail/2/3716-bochum'), ('url', 'https://www.opferberatung-rheinland.de/chronik-der-gewalt/detail/2/3716-bochum'), ('county', None), ('postal_code', None), ('state', 'Nordrhein-Westfalen'), ('latitude', None), ('longitude', None), ('address', None), ('orig_county', None), ('orig_city', 'Bochum'), ('country', 'Deutschland')])\n",
      "date is broken, skipping\n",
      "OrderedDict([('id', 14579), ('chronicler_name', 'Opferberatung Rheinland'), ('tags', None), ('motives', None), ('contexts', None), ('factums', None), ('city', 'Remscheid'), ('description', 'In Remscheid-Lennep wurden am Wochenende die Schaufensterscheibe einer Caritas-Einrichtung und ein Fahrzeug der Diakonie Remscheid durch Steinwürfe beschädigt. Außerdem wurde ein Auto mit dem Aufkleber \"refugees wellcome\" beschädigt. Die Polizei vermutet einen Zusammenhang mit ähnlichen Vorfällen am Flair Weltladen in Lüttringhausen (Januar und Februar) und schließt einen politischen Hintergrund der Tat nicht aus, da sich die betroffenen Einrichtungen in der Flüchtlingshilfe engagieren.'), ('title', None), ('date', None), ('rg_id', 'https://www.opferberatung-rheinland.de/chronik-der-gewalt/detail/29/30416-remscheid'), ('url', 'https://www.opferberatung-rheinland.de/chronik-der-gewalt/detail/29/30416-remscheid'), ('county', None), ('postal_code', None), ('state', 'Nordrhein-Westfalen'), ('latitude', None), ('longitude', None), ('address', None), ('orig_county', None), ('orig_city', 'Remscheid'), ('country', 'Deutschland')])\n"
     ]
    },
    {
     "name": "stderr",
     "output_type": "stream",
     "text": [
      "14691it [00:26, 551.19it/s]"
     ]
    },
    {
     "name": "stdout",
     "output_type": "stream",
     "text": [
      "date is broken, skipping\n",
      "OrderedDict([('id', 14587), ('chronicler_name', 'Opferberatung Rheinland'), ('tags', None), ('motives', None), ('contexts', None), ('factums', None), ('city', 'Grevenbroich'), ('description', 'Unbekannte Täter besprühten in der Nacht von Dienstag auf Mittwoch das Auto einer Grevenbroicher Familie mit rassistischen und rechten Parolen. Die Betroffenen und die Polizei gehen aufgrund der Tatumstände davon aus, dass es sich um eine gezielte Tat handelt und der oder die Täter die Familie kennen. Der Staatsschutz nahm Ermittlungen wegen einer fremdenfeindlich motivierten Straftat auf.'), ('title', None), ('date', None), ('rg_id', 'https://www.opferberatung-rheinland.de/chronik-der-gewalt/detail/5/6416-grevenbroich'), ('url', 'https://www.opferberatung-rheinland.de/chronik-der-gewalt/detail/5/6416-grevenbroich'), ('county', None), ('postal_code', None), ('state', 'Nordrhein-Westfalen'), ('latitude', None), ('longitude', None), ('address', None), ('orig_county', None), ('orig_city', 'Grevenbroich'), ('country', 'Deutschland')])\n",
      "date is broken, skipping\n",
      "OrderedDict([('id', 14594), ('chronicler_name', 'Opferberatung Rheinland'), ('tags', None), ('motives', None), ('contexts', None), ('factums', None), ('city', 'Grevenbroich'), ('description', 'In der Nacht von Freitag auf Samstag zerschnitten unbekannte Täter_innen Dachplanen von zwei Leichtbauhallen in Grevenbroich, in die bald Geflüchtete einziehen sollten. Dadurch entstand erheblicher Sachschaden. Der Staatsschutz Düsseldorf hat die Ermittlungen aufgenommen, weil ein „fremdenfeindlicher\" Hintergrund der Tat nicht ausgeschlossen ist.'), ('title', None), ('date', None), ('rg_id', 'https://www.opferberatung-rheinland.de/chronik-der-gewalt/detail/11/12316-grevenbroich'), ('url', 'https://www.opferberatung-rheinland.de/chronik-der-gewalt/detail/11/12316-grevenbroich'), ('county', None), ('postal_code', None), ('state', 'Nordrhein-Westfalen'), ('latitude', None), ('longitude', None), ('address', None), ('orig_county', None), ('orig_city', 'Grevenbroich'), ('country', 'Deutschland')])\n",
      "date is broken, skipping\n",
      "OrderedDict([('id', 14598), ('chronicler_name', 'Opferberatung Rheinland'), ('tags', None), ('motives', None), ('contexts', None), ('factums', None), ('city', 'Kleve'), ('description', 'Unbekannte zerstörten in der Nacht von Montag auf Dienstag vier Fensterscheiben der geplanten Flüchtlingsunterkunft in Kleve durch Steinwürfe. Der Staatsschutz der Polizei Krefeld hat die Ermittlungen übernommen, für Kleves Bürgermeisterin Sonja Northing kann es sich laut Presse aber auch um einen \"Dumme-Jungen-Streich\" gehandelt haben.'), ('title', None), ('date', None), ('rg_id', 'https://www.opferberatung-rheinland.de/chronik-der-gewalt/detail/292/1316-kleve'), ('url', 'https://www.opferberatung-rheinland.de/chronik-der-gewalt/detail/292/1316-kleve'), ('county', None), ('postal_code', None), ('state', 'Nordrhein-Westfalen'), ('latitude', None), ('longitude', None), ('address', None), ('orig_county', None), ('orig_city', 'Kleve'), ('country', 'Deutschland')])\n",
      "date is broken, skipping\n",
      "OrderedDict([('id', 14601), ('chronicler_name', 'Opferberatung Rheinland'), ('tags', None), ('motives', None), ('contexts', None), ('factums', None), ('city', 'Remscheid'), ('description', 'Bereits zweimal wurden in diesem Jahr die Schaufensterscheiben einer ökumenischen Initiative in Remscheid zerstört. Aufgrund einer Art „Bekennerschreiben\" schließt die Polizei eine politisch motivierte Tat Rechter nicht aus. Die Initiative engagiert sich für einen fairen Nord-Süd-Ausgleich und ist Mitglied im Bündnis Remscheid tolerant.'), ('title', None), ('date', None), ('rg_id', 'https://www.opferberatung-rheinland.de/chronik-der-gewalt/detail/131-und-21216-remscheid'), ('url', 'https://www.opferberatung-rheinland.de/chronik-der-gewalt/detail/131-und-21216-remscheid'), ('county', None), ('postal_code', None), ('state', 'Nordrhein-Westfalen'), ('latitude', None), ('longitude', None), ('address', None), ('orig_county', None), ('orig_city', 'Remscheid'), ('country', 'Deutschland')])\n",
      "date is broken, skipping\n",
      "OrderedDict([('id', 14605), ('chronicler_name', 'Opferberatung Rheinland'), ('tags', None), ('motives', None), ('contexts', None), ('factums', None), ('city', 'Warburg'), ('description', 'Auf eine noch unbewohnte städtische Unterkunft für Geflüchtete in Warburg wurden kurz hintereinander zwei Brandanschläge verübt. In der Nacht zu Donnerstag (4.2.) hatten Unbekannte vergeblich versucht, eine Eingangstür in Brand zu stecken. In der Nacht zu Montag (8.2.) mußte die Feuerwehr dann die brennende Holzverkleidung eines Fensters löschen. Die Brandstifter hatten offensichtlich versucht, das Innere des Gebäudes in Brand zu setzen, indem sie eine Fensterverkleidung lockerten und eine brennbare Flüssigkeit hineinschütteten.'), ('title', None), ('date', None), ('rg_id', 'https://www.opferberatung-rheinland.de/chronik-der-gewalt/detail/4-und-8216-warburg'), ('url', 'https://www.opferberatung-rheinland.de/chronik-der-gewalt/detail/4-und-8216-warburg'), ('county', None), ('postal_code', None), ('state', 'Nordrhein-Westfalen'), ('latitude', None), ('longitude', None), ('address', None), ('orig_county', None), ('orig_city', 'Warburg'), ('country', 'Deutschland')])\n",
      "date is broken, skipping\n",
      "OrderedDict([('id', 14635), ('chronicler_name', 'Opferberatung Rheinland'), ('tags', None), ('motives', None), ('contexts', None), ('factums', None), ('city', 'Erftstadt'), ('description', 'Unbekannte warfen an Heiligabend einen Pflasterstein in eine Unterkunft für Geflüchtete im Ortsteil Gymnich. Am Tag darauf schossen Unbekannte gegen 20 Uhr mit Stahlkugeln auf die Scheiben im ersten Obergeschoss derselben Wohnanlage. Verletzt wurde zum Glück niemand. Insgesamt sollen bei den Anschlägen fünf Glasfenster beschädigt worden sein.'), ('title', None), ('date', None), ('rg_id', 'https://www.opferberatung-rheinland.de/chronik-der-gewalt/detail/24/251217-erftstadt'), ('url', 'https://www.opferberatung-rheinland.de/chronik-der-gewalt/detail/24/251217-erftstadt'), ('county', None), ('postal_code', None), ('state', 'Nordrhein-Westfalen'), ('latitude', None), ('longitude', None), ('address', None), ('orig_county', None), ('orig_city', 'Erftstadt'), ('country', 'Deutschland')])\n",
      "date is broken, skipping\n",
      "OrderedDict([('id', 14641), ('chronicler_name', 'Opferberatung Rheinland'), ('tags', None), ('motives', None), ('contexts', None), ('factums', None), ('city', 'Engelskirchen'), ('description', 'Eine SPD-Politikerin wurde nach der Bundestagswahl auf Facebook, per E-Mail, Post und auf dem Anrufbeantworter in ihrem Büro massiv beleidigt und bedroht – bis hin zu Morddrohungen. Auslöser war ein Interview am Wahlabend, in dem sie zum Wahlerfolg der AfD Stellung bezogen hatte und das in rechten Foren und Netzwerken verbreitet worden war.'), ('title', None), ('date', None), ('rg_id', 'https://www.opferberatung-rheinland.de/chronik-der-gewalt/detail/25/26917-engelskirchen'), ('url', 'https://www.opferberatung-rheinland.de/chronik-der-gewalt/detail/25/26917-engelskirchen'), ('county', None), ('postal_code', None), ('state', 'Nordrhein-Westfalen'), ('latitude', None), ('longitude', None), ('address', None), ('orig_county', None), ('orig_city', 'Engelskirchen'), ('country', 'Deutschland')])\n",
      "date is broken, skipping\n",
      "OrderedDict([('id', 14653), ('chronicler_name', 'Opferberatung Rheinland'), ('tags', None), ('motives', None), ('contexts', None), ('factums', None), ('city', 'Bottrop'), ('description', 'Zwischen Freitag und Dienstag beschossen Unbekannte das Parteibüro der Linken in Bottrop mit Stahlkugeln, möglicherweise mit einer Zwille oder Softairpistole. Ein Rollladen wurde durchschlagen und eine Scheibe beschädigt. Das Büro war zum Zeitpunkt des Angriffs nicht besetzt.'), ('title', None), ('date', None), ('rg_id', 'https://www.opferberatung-rheinland.de/chronik-der-gewalt/detail/21/25417-bottrop'), ('url', 'https://www.opferberatung-rheinland.de/chronik-der-gewalt/detail/21/25417-bottrop'), ('county', None), ('postal_code', None), ('state', 'Nordrhein-Westfalen'), ('latitude', None), ('longitude', None), ('address', None), ('orig_county', None), ('orig_city', 'Bottrop'), ('country', 'Deutschland')])\n",
      "date is broken, skipping\n",
      "OrderedDict([('id', 14665), ('chronicler_name', 'Opferberatung Rheinland'), ('tags', None), ('motives', None), ('contexts', None), ('factums', None), ('city', 'Mönchengladbach'), ('description', 'Eine Gruppe von 13 Kindern und Jugendlichen (12-17 Jahre) brach in ein gerade renoviertes und vor der Eröffnung stehendes Hotel ein, verwüstete die Inneneinrichtung, stahl Einrichtungsgegenstände und beschmierte die Wände u. a. mit Hakenkreuzen und Beleidigungen. Laut Polizei sollen die Kinder und Jugendlichen nicht gewusst haben, dass die Betreiber des Hotels Syrer sind.'), ('title', None), ('date', None), ('rg_id', 'https://www.opferberatung-rheinland.de/chronik-der-gewalt/detail/6-1022017-moenchengladbach'), ('url', 'https://www.opferberatung-rheinland.de/chronik-der-gewalt/detail/6-1022017-moenchengladbach'), ('county', None), ('postal_code', None), ('state', 'Nordrhein-Westfalen'), ('latitude', None), ('longitude', None), ('address', None), ('orig_county', None), ('orig_city', 'Mönchengladbach'), ('country', 'Deutschland')])\n",
      "date is broken, skipping\n",
      "OrderedDict([('id', 14670), ('chronicler_name', 'Opferberatung Rheinland'), ('tags', None), ('motives', None), ('contexts', None), ('factums', None), ('city', 'Moers'), ('description', 'In den ersten sechs Wochen des Jahres erhielten mehrere Reisebüros und Restaurants in der Innenstadt von Moers rassistische Drohbriefe. In einem der handschriftlichen Zettel, der mit \"Pro NRW\" unterzeichnet war, wurde den Mitarbeitern eines Reisebüros angedroht, dass sie ihres Lebens nicht mehr sicher seien, sollten sie weiter Reisen in die Türkei verkaufen. Ende März durchsuchte die Polizei die Wohnung eines 57-jährigen Tatverdächtigen in Moers und stellte 28 weitere Drohbriefe mit rassistischem Inhalt sicher.'), ('title', None), ('date', None), ('rg_id', 'https://www.opferberatung-rheinland.de/chronik-der-gewalt/detail/jan/febr-2017-moers'), ('url', 'https://www.opferberatung-rheinland.de/chronik-der-gewalt/detail/jan/febr-2017-moers'), ('county', None), ('postal_code', None), ('state', 'Nordrhein-Westfalen'), ('latitude', None), ('longitude', None), ('address', None), ('orig_county', None), ('orig_city', 'Moers'), ('country', 'Deutschland')])\n"
     ]
    },
    {
     "name": "stderr",
     "output_type": "stream",
     "text": [
      "14802it [00:27, 535.04it/s]"
     ]
    },
    {
     "name": "stdout",
     "output_type": "stream",
     "text": [
      "date is broken, skipping\n",
      "OrderedDict([('id', 14698), ('chronicler_name', 'Opferberatung Rheinland'), ('tags', None), ('motives', None), ('contexts', None), ('factums', None), ('city', 'Dortmund'), ('description', 'Rechtsextreme griffen in Dortmund innerhalb von wenigen Tagen dreimal einen 26-jährigen Juden an. Am Sonntagmittag beschimpften und beleidigten ihn drei polizeibekannte Neonazis aus Dortmund und Schwelm, einen Faustschlag in Richtung seines Kopfes konnte der Betroffene zum Glück abwehren. Am Sonntagabend traf er erneut auf die Gewalttäter, die mehrfach den Hitlergruß zeigten und den Mann antisemitisch beleidigten und bedrohten. Drei Tage zuvor war er am Rande einer Neonazi-Kundgebung von dem 21-Jährigen Neonazi aus Schwelm antisemitisch beleidigt und gestoßen worden.'), ('title', None), ('date', None), ('rg_id', 'https://www.opferberatung-rheinland.de/chronik-der-gewalt/detail/21-u-24618-dortmund'), ('url', 'https://www.opferberatung-rheinland.de/chronik-der-gewalt/detail/21-u-24618-dortmund'), ('county', None), ('postal_code', None), ('state', 'Nordrhein-Westfalen'), ('latitude', None), ('longitude', None), ('address', None), ('orig_county', None), ('orig_city', 'Dortmund'), ('country', 'Deutschland')])\n",
      "date is broken, skipping\n",
      "OrderedDict([('id', 14699), ('chronicler_name', 'Opferberatung Rheinland'), ('tags', None), ('motives', None), ('contexts', None), ('factums', None), ('city', 'Waltrop'), ('description', 'In Waltrop wurden zwischen Mittwoch und Donnerstag neue noch unbewohnte Wohncontainer für Geflüchtete in Brand gesetzt. Das Feuer erlosch zum Glück von selbst, verletzt wurde niemand. Im September 2016 waren die alten Wohncontainer an gleicher Stelle abgebrannt. Während die Polizei damals einen technischen Defekt vermutete, geht sie im aktuellen Fall von Brandstiftung aus.'), ('title', None), ('date', None), ('rg_id', 'https://www.opferberatung-rheinland.de/chronik-der-gewalt/detail/13/14618-waltrop'), ('url', 'https://www.opferberatung-rheinland.de/chronik-der-gewalt/detail/13/14618-waltrop'), ('county', None), ('postal_code', None), ('state', 'Nordrhein-Westfalen'), ('latitude', None), ('longitude', None), ('address', None), ('orig_county', None), ('orig_city', 'Waltrop'), ('country', 'Deutschland')])\n",
      "date is broken, skipping\n",
      "OrderedDict([('id', 14713), ('chronicler_name', 'Opferberatung Rheinland'), ('tags', None), ('motives', None), ('contexts', None), ('factums', None), ('city', 'Lennestadt'), ('description', 'Im Ortsteil Meggen steckten Unbekannte das Holztor eines leerstehenden türkischen Lebensmittelgeschäfts mit Brandbeschleuniger in Brand. Die alarmierte Feuerwehr konnte das Feuer zum Glück schnell löschen, sodass die Bewohner_innen des Mehrfamilienhauses unverletzt blieben. Die Polizei schließt nach ersten Ermittlungen einen „fremdenfeindlichen Hintergrund“ nicht aus, da eine Woche vor der Brandstiftung rechtsextreme Parolen und Symbole an der Fassade des Hauses festgestellt wurden und das Haus von einer syrischen Familie und einem türkeistämmigen Mann bewohnt wird.'), ('title', None), ('date', None), ('rg_id', 'https://www.opferberatung-rheinland.de/chronik-der-gewalt/detail/27/28118-lennestadt'), ('url', 'https://www.opferberatung-rheinland.de/chronik-der-gewalt/detail/27/28118-lennestadt'), ('county', None), ('postal_code', None), ('state', 'Nordrhein-Westfalen'), ('latitude', None), ('longitude', None), ('address', None), ('orig_county', None), ('orig_city', 'Lennestadt'), ('country', 'Deutschland')])\n",
      "date is broken, skipping\n",
      "OrderedDict([('id', 14718), ('chronicler_name', 'Opferberatung Rheinland'), ('tags', None), ('motives', None), ('contexts', None), ('factums', None), ('city', 'Heinsberg'), ('description', 'In der Nacht zu Sonntag wurden alle Fensterscheiben der Kreisgeschäftsstelle der Grünen in Heinsberg zerschlagen. Dabei handelte es sich nicht um den ersten Angriff auf das Büro in diesem Jahr. Vermutlich politisch rechts motivierte Sachbeschädigungen gab es bereits im Juni und Juli. Anfang Dezember zerstörten Unbekannte dann in einer Nacht den Briefkasten und einige Tage später den Eingangsbereich und das Schaufenster.'), ('title', None), ('date', None), ('rg_id', 'https://www.opferberatung-rheinland.de/chronik-der-gewalt/detail/22/231219-heinsberg'), ('url', 'https://www.opferberatung-rheinland.de/chronik-der-gewalt/detail/22/231219-heinsberg'), ('county', None), ('postal_code', None), ('state', 'Nordrhein-Westfalen'), ('latitude', None), ('longitude', None), ('address', None), ('orig_county', None), ('orig_city', 'Heinsberg'), ('country', 'Deutschland')])\n",
      "date is broken, skipping\n",
      "OrderedDict([('id', 14745), ('chronicler_name', 'Opferberatung Rheinland'), ('tags', None), ('motives', None), ('contexts', None), ('factums', None), ('city', 'Köln/Altena'), ('description', 'Die Kölner Oberbürgermeisterin Henriette Reker und der Bürgermeister der Stadt Altena, Andreas Hollstein, haben Morddrohungen von einem offensichtlich rechtsextremen Verfasser erhalten. In der anonymen Mail wird ein Zusammenhang mit dem Mord an dem Kasseler Regierungspräsidenten Walter Lübcke hergestellt. Dort heißt es unter anderem wörtlich: \"Die Phase bevorstehender Säuberungen wurde mit Walter Lübcke eingeleitet.\" Beide Kommunalpolitiker hatten sich nach der Festnahme eines mutmaßlich rechtsextremen Tatverdächtigen im Mordfall Lübcke zu Wort gemeldet und waren 2015 bzw. 2017 wegen ihrer Haltung in der Flüchtlingspolitik mit einem Messer angegriffen worden.'), ('title', None), ('date', None), ('rg_id', 'https://www.opferberatung-rheinland.de/chronik-der-gewalt/detail/18/19619-koeln/altena'), ('url', 'https://www.opferberatung-rheinland.de/chronik-der-gewalt/detail/18/19619-koeln/altena'), ('county', None), ('postal_code', None), ('state', 'Nordrhein-Westfalen'), ('latitude', None), ('longitude', None), ('address', None), ('orig_county', None), ('orig_city', 'Köln/Altena'), ('country', 'Deutschland')])\n",
      "date is broken, skipping\n",
      "OrderedDict([('id', 14747), ('chronicler_name', 'Opferberatung Rheinland'), ('tags', None), ('motives', None), ('contexts', None), ('factums', None), ('city', 'Köln'), ('description', 'Einige Tage vor dem 15. Jahrestag des NSU-Terroranschlages in der Kölner Keupstraße verteilten Unbekannte Flugblätter mit der Androhung von Gewalttaten gegen Muslime in der Nähe des Tatortes. Einige in unfrankierten Briefumschlägen verpackte Flyer wurden von Anwohner*innen in deren Briefkästen aufgefunden. Muslime werden in den Hetzbotschaften als \"willfähriges Werkzeug der Juden\" bezeichnet, gegen die gezielte Angriffe bald starten würden. Zudem enthalten sie eine Hakenkreuzdarstellung.'), ('title', None), ('date', None), ('rg_id', 'https://www.opferberatung-rheinland.de/chronik-der-gewalt/detail/295-3619-koeln'), ('url', 'https://www.opferberatung-rheinland.de/chronik-der-gewalt/detail/295-3619-koeln'), ('county', None), ('postal_code', None), ('state', 'Nordrhein-Westfalen'), ('latitude', None), ('longitude', None), ('address', None), ('orig_county', None), ('orig_city', 'Köln'), ('country', 'Deutschland')])\n",
      "date is broken, skipping\n",
      "OrderedDict([('id', 14757), ('chronicler_name', 'Opferberatung Rheinland'), ('tags', None), ('motives', None), ('contexts', None), ('factums', None), ('city', 'Essen'), ('description', 'In der Nacht wurde ein soziokulturelles Zentrum in Essen von Unbekannten beschossen. Ein Projekttil schlug in eine Wand ein, verletzt wurde zum Glück niemand. Im Leitbild des Kulturzentrums werden der „Widerstand gegen faschistische und menschenverachtende Bestrebungen in der Gesellschaft“ sowie Toleranz und der Gedanke der Völkerverständigung betont. Laut Polizei werde in alle Richtungen ermittelt.'), ('title', None), ('date', None), ('rg_id', 'https://www.opferberatung-rheinland.de/chronik-der-gewalt/detail/26/27319-essen'), ('url', 'https://www.opferberatung-rheinland.de/chronik-der-gewalt/detail/26/27319-essen'), ('county', None), ('postal_code', None), ('state', 'Nordrhein-Westfalen'), ('latitude', None), ('longitude', None), ('address', None), ('orig_county', None), ('orig_city', 'Essen'), ('country', 'Deutschland')])\n",
      "date is broken, skipping\n",
      "OrderedDict([('id', 14769), ('chronicler_name', 'Opferberatung Rheinland'), ('tags', None), ('motives', None), ('contexts', None), ('factums', None), ('city', 'Aachen'), ('description', 'Das Autonome Zentrum (AZ) Aachen verweist in einer Stellungnahme auf mehrere Sachbeschädigungen und zahlreiche Bedrohungen und Angriffsversuche durch Neonazis. So wurde am 19. August – zeitgleich zu einer Gedenkveranstaltung für die Toten von Hanau – die Eingangstür des AZ beschädigt. Nach weiteren Sachbeschädigungen in den folgenden Tagen wurde am 23. August das Kürzel der „Kameradschaft Aachener Land“ (KAL) an die Tür geschmiert – an diesem Tag jährte sich das Verbot der KAL zum achten Mal.'), ('title', None), ('date', None), ('rg_id', 'https://www.opferberatung-rheinland.de/chronik-der-gewalt/detail/19-u-23-820-aachen'), ('url', 'https://www.opferberatung-rheinland.de/chronik-der-gewalt/detail/19-u-23-820-aachen'), ('county', None), ('postal_code', None), ('state', 'Nordrhein-Westfalen'), ('latitude', None), ('longitude', None), ('address', None), ('orig_county', None), ('orig_city', 'Aachen'), ('country', 'Deutschland')])\n",
      "date is broken, skipping\n",
      "OrderedDict([('id', 14775), ('chronicler_name', 'Opferberatung Rheinland'), ('tags', None), ('motives', None), ('contexts', None), ('factums', None), ('city', 'Oberhausen'), ('description', 'In der Nacht haben Unbekannte versucht, die Schaufensterscheibe einer Flüchtlingsberatungsstelle in Oberhausen einzuschlagen. Dabei ging aber nur die äußere Scheibe der Doppelverglasung zu Bruch. Da sich hinter der Scheibe eine Zeichnung befand, schließt die Polizei einen „fremdenfeindlichen“ Hintergrund nicht aus und schaltete den polizeilichen Staatsschutz ein.'), ('title', None), ('date', None), ('rg_id', 'https://www.opferberatung-rheinland.de/chronik-der-gewalt/detail/22/23720-oberhausen'), ('url', 'https://www.opferberatung-rheinland.de/chronik-der-gewalt/detail/22/23720-oberhausen'), ('county', None), ('postal_code', None), ('state', 'Nordrhein-Westfalen'), ('latitude', None), ('longitude', None), ('address', None), ('orig_county', None), ('orig_city', 'Oberhausen'), ('country', 'Deutschland')])\n",
      "date is broken, skipping\n",
      "OrderedDict([('id', 14794), ('chronicler_name', 'Opferberatung Rheinland'), ('tags', None), ('motives', None), ('contexts', None), ('factums', None), ('city', 'Essen, Hagen, Unna, Bielefeld'), ('description', 'Am Mittwoch und Donnerstag erhielten Moscheen in Essen, Hagen, Unna und Bielefeld über E-Mails Bombendrohungen.\\xa0 Dabei soll es sich um inhaltlich ähnliche Drohungen mit rechtsextremen und islamfeindlichen Hintergrund gehandelt haben. In allen vier Fällen wurden die Gebäude weiträumig abgesperrt und mit Spürhunden durchsucht. Verdächtiges wurde nicht gefunden. Angesichts der Vielzahl von Drohungen gegen Moscheen auch im letzten Jahr mahnten Islamverbände und mehrere Politiker*innen mehr Schutz sowie mehr Engagement gegen Islamfeindlichkeit an.'), ('title', None), ('date', None), ('rg_id', 'https://www.opferberatung-rheinland.de/chronik-der-gewalt/detail/12/13220-essen-hagen-unna-bielefeld'), ('url', 'https://www.opferberatung-rheinland.de/chronik-der-gewalt/detail/12/13220-essen-hagen-unna-bielefeld'), ('county', None), ('postal_code', None), ('state', 'Nordrhein-Westfalen'), ('latitude', None), ('longitude', None), ('address', None), ('orig_county', None), ('orig_city', 'Essen, Hagen, Unna, Bielefeld'), ('country', 'Deutschland')])\n"
     ]
    },
    {
     "name": "stderr",
     "output_type": "stream",
     "text": [
      "16042it [00:29, 542.88it/s]\n"
     ]
    }
   ],
   "source": [
    "# clean location text because there were still some errors\n",
    "for x in tqdm(tab_incidents.all()):\n",
    "    if x[\"rg_id\"] in manual_fixes:\n",
    "        x = {**x, **manual_fixes[x[\"rg_id\"]]}\n",
    "\n",
    "    x[\"county\"] = x[\"orig_county\"] = clean_string(x[\"county\"])\n",
    "    x[\"city\"] = x[\"orig_city\"] = clean_string(x[\"city\"])\n",
    "\n",
    "    if \"address\" in x and x[\"address\"] is not None:\n",
    "        x[\"address\"] = x[\"orig_address\"] = clean_string(x[\"address\"])\n",
    "\n",
    "    x = add_state_country(x)\n",
    "\n",
    "    if x[\"date\"] is None:\n",
    "        print(\"date is broken, skipping\")\n",
    "        print(x)\n",
    "        tab_incidents.delete(id=x[\"id\"])\n",
    "        continue\n",
    "    #         raise ValueError\n",
    "\n",
    "    # ignore older data\n",
    "    if x[\"date\"].year < 1990:\n",
    "        tab_incidents.delete(id=x[\"id\"])\n",
    "\n",
    "    x[\"date\"] = ensure_date(x[\"date\"])\n",
    "\n",
    "    #   manual fix\n",
    "    if x[\"city\"] == \"Zerbst\" and x[\"state\"] == \"Sachsen-Anhalt\":\n",
    "        x[\"city\"] = \"Zerbst/Anhalt\"\n",
    "\n",
    "    tab_incidents.update(x, [\"id\"])"
   ]
  },
  {
   "cell_type": "code",
   "execution_count": 17,
   "metadata": {},
   "outputs": [],
   "source": [
    "# fill_missing_county()"
   ]
  },
  {
   "cell_type": "code",
   "execution_count": 18,
   "metadata": {},
   "outputs": [],
   "source": [
    "def geocode_all():\n",
    "    tab_incidents.create_column(\"district\", db.types.text)\n",
    "    statement = (\n",
    "        \"SELECT DISTINCT address, city, district, county, state, country FROM incidents\"\n",
    "    )\n",
    "    subs = list(db.query(statement))\n",
    "\n",
    "    # the geocoding api has problems with Leipzig as County. (There is a Landkreis Leipzig and a seperate City Leipzig)\n",
    "    removed_counties_with_ids = []\n",
    "    for i, x in enumerate(subs):\n",
    "        if x[\"state\"] is None:\n",
    "            print(x)\n",
    "        if x[\"county\"] == \"Leipzig\":\n",
    "            removed_county = x.pop(\"county\")\n",
    "            x[\"county\"] = None\n",
    "            removed_counties_with_ids.append([removed_county, i])\n",
    "\n",
    "    r = requests.post(\n",
    "        \"https://geocode.app.vis.one/\",\n",
    "        auth=auth,\n",
    "        json={\"provider\": \"here\", \"locations\": [{\"query\": dict(x)} for x in subs]},\n",
    "    )\n",
    "    r.raise_for_status()\n",
    "    subs_location = r.json()[\"locations\"]\n",
    "\n",
    "    # add back county since it was correct\n",
    "    for x, i in removed_counties_with_ids:\n",
    "        subs_location[i][\"query\"][\"county\"] = x\n",
    "\n",
    "    return subs_location"
   ]
  },
  {
   "cell_type": "code",
   "execution_count": 19,
   "metadata": {},
   "outputs": [],
   "source": [
    "subs_location = geocode_all()"
   ]
  },
  {
   "cell_type": "code",
   "execution_count": 20,
   "metadata": {},
   "outputs": [],
   "source": [
    "def geocode_second(subs_location):\n",
    "    second_check = []\n",
    "    second_check_ids = []\n",
    "\n",
    "    for i, x in enumerate(subs_location):\n",
    "        if len(x) == 1 and \"county\" in x[\"query\"] and x[\"query\"][\"county\"] is not None:\n",
    "            x[\"query\"][\"city\"] = x[\"query\"][\"city\"] + \", \" + x[\"query\"][\"county\"]\n",
    "            x[\"query\"][\"county\"] = None\n",
    "            second_check.append(x)\n",
    "            second_check_ids.append(i)\n",
    "\n",
    "    print(len(second_check))\n",
    "    if len(second_check) == 0:\n",
    "        return subs_location\n",
    "    r = requests.post(\n",
    "        \"https://geocode.app.vis.one/\",\n",
    "        auth=auth,\n",
    "        json={\n",
    "            \"provider\": \"here\",\n",
    "            \"locations\": [{\"query\": x[\"query\"]} for x in second_check],\n",
    "        },\n",
    "    )\n",
    "    r.raise_for_status()\n",
    "\n",
    "    for i, x in enumerate(r.json()[\"locations\"]):\n",
    "        if len(x) != 1:\n",
    "            subs_location[second_check_ids[i]] = x\n",
    "            print(\"found!\", x)\n",
    "    return subs_location"
   ]
  },
  {
   "cell_type": "code",
   "execution_count": 21,
   "metadata": {},
   "outputs": [],
   "source": [
    "# not used right now?\n",
    "# subs_location = geocode_second(subs_location)"
   ]
  },
  {
   "cell_type": "code",
   "execution_count": 22,
   "metadata": {},
   "outputs": [
    {
     "name": "stdout",
     "output_type": "stream",
     "text": [
      "error here, deleting for now {'query': {'address': None, 'city': 'Unbekannt', 'country': 'Deutschland', 'county': None, 'district': None, 'state': 'Bayern'}}\n",
      "error here, deleting for now {'query': {'address': None, 'city': 'BA 02 Ludwigsvorstadt - Isarvorstadt, BA 04 Schwabing-West, BA 05 Au - Haidhausen, BA 06 Sendling, BA 09 Neuhausen - Nymphenburg, BA 23 Allach - Untermenzing', 'country': 'Deutschland', 'county': None, 'district': None, 'state': 'Bayern'}}\n",
      "error here, deleting for now {'query': {'address': None, 'city': 'Heideberg (BaWü)', 'country': 'Deutschland', 'county': None, 'district': None, 'state': 'Rheinland-Pfalz'}}\n",
      "error here, deleting for now {'query': {'address': None, 'city': None, 'country': 'Deutschland', 'county': None, 'district': None, 'state': 'Thüringen'}}\n",
      "error here, deleting for now {'query': {'address': None, 'city': None, 'country': 'Deutschland', 'county': None, 'district': None, 'state': 'Hessen'}}\n",
      "error here, deleting for now {'query': {'address': None, 'city': 'Islamfeindlichkeit', 'country': 'Deutschland', 'county': None, 'district': None, 'state': 'Hessen'}}\n",
      "error here, deleting for now {'query': {'address': None, 'city': 'Lahr', 'country': 'Deutschland', 'county': None, 'district': None, 'state': 'Baden-Württemberg'}}\n",
      "error here, deleting for now {'query': {'address': None, 'city': 'unbekannt', 'country': 'Deutschland', 'county': None, 'district': None, 'state': 'Baden-Württemberg'}}\n",
      "error here, deleting for now {'query': {'address': None, 'city': None, 'country': 'Deutschland', 'county': None, 'district': None, 'state': 'Baden-Württemberg'}}\n",
      "error here, deleting for now {'query': {'address': None, 'city': 'Volksverhetzung SS 130 StGB', 'country': 'Deutschland', 'county': None, 'district': None, 'state': 'Baden-Württemberg'}}\n",
      "error here, deleting for now {'query': {'address': 'Blocklander Hemmstraße', 'city': 'Niederblockland', 'country': 'Deutschland', 'county': None, 'district': None, 'state': 'Bremen'}}\n",
      "error here, deleting for now {'query': {'address': None, 'city': 'Gorau', 'country': 'Deutschland', 'county': None, 'district': None, 'state': 'Sachsen-Anhalt'}}\n",
      "error here, deleting for now {'query': {'address': None, 'city': None, 'country': 'Deutschland', 'county': None, 'district': None, 'state': 'Sachsen-Anhalt'}}\n",
      "error here, deleting for now {'query': {'address': None, 'city': 'Dresden, Dresdner Heide', 'country': 'Deutschland', 'county': None, 'district': None, 'state': 'Sachsen'}}\n"
     ]
    }
   ],
   "source": [
    "good_locations = []\n",
    "\n",
    "for x in subs_location:\n",
    "    if len(x) == 1:\n",
    "        #         could not geocode these locations\n",
    "        print(\"error here, deleting for now\", x)\n",
    "    #         tab_incidents.delete(**x['query'])\n",
    "    else:\n",
    "        #         rename\n",
    "        query = x.pop(\"query\")\n",
    "        x[\"query_county\"] = query[\"county\"]\n",
    "        x[\"query_city\"] = query[\"city\"]\n",
    "        x[\"query_address\"] = query[\"address\"]\n",
    "        good_locations.append(x)"
   ]
  },
  {
   "cell_type": "code",
   "execution_count": 23,
   "metadata": {},
   "outputs": [],
   "source": [
    "tab_loc = db[\"locations\"]\n",
    "tab_loc.insert_many(good_locations)"
   ]
  },
  {
   "cell_type": "code",
   "execution_count": 24,
   "metadata": {},
   "outputs": [],
   "source": [
    "tab_loc.create_index([\"id\"])"
   ]
  },
  {
   "cell_type": "markdown",
   "metadata": {},
   "source": [
    "## Merging Locations\n",
    "\n",
    "We are trying out several ways to merge the location with geolocation back to the old without. Since we maniputlated the county etc., we have to try varioous ways how to merge. This should get improved (TDOO)\n",
    "\n",
    "\n",
    "Not really sure whether a seperate table for location is needed. It was introduced because in some cases, multiple locations are associated with incident."
   ]
  },
  {
   "cell_type": "code",
   "execution_count": 25,
   "metadata": {},
   "outputs": [
    {
     "name": "stderr",
     "output_type": "stream",
     "text": [
      "0it [00:00, ?it/s]"
     ]
    },
    {
     "name": "stdout",
     "output_type": "stream",
     "text": [
      "OrderedDict([('id', 11), ('chronicler_name', 'München Chronik'), ('tags', ''), ('motives', ''), ('contexts', ''), ('factums', ''), ('city', 'Unbekannt'), ('description', 'Eine 71-Jährige mit Wohnsitz in München schreit am Sonntagnachmittag gegen 16.00 Uhr in der Maximilianstraße lautstark rassistische Parolen. Zeug*innen alarmieren daraufhin die Polizei, welche die Frau im Bereich des Karlsplatzes antreffen und festnehmen kann. Die 71-Jährige wird zur Behandlung in ein psychiatrisches Krankenhaus eingewiesen, da laut Polizei \\n„aufgrund ihres Verhaltens und weiterer Äußerungen auch eine Eigengefährdung der Frau nicht ausgeschlossen werden konnte“\\n.'), ('title', 'Rassistische Parolen'), ('date', datetime.datetime(2020, 11, 8, 0, 0)), ('rg_id', 'https://muenchen-chronik.de/8-november-2020-rassistische-parolen/'), ('url', 'https://muenchen-chronik.de/8-november-2020-rassistische-parolen/'), ('county', None), ('postal_code', None), ('state', 'Bayern'), ('latitude', None), ('longitude', None), ('address', None), ('orig_county', None), ('orig_city', 'Unbekannt'), ('country', 'Deutschland'), ('orig_address', None), ('district', None)])\n",
      "{'state': 'Bayern', 'country': 'Deutschland'}\n"
     ]
    },
    {
     "name": "stderr",
     "output_type": "stream",
     "text": [
      "76it [00:00, 358.53it/s]"
     ]
    },
    {
     "name": "stdout",
     "output_type": "stream",
     "text": [
      "OrderedDict([('id', 37), ('chronicler_name', 'München Chronik'), ('tags', ''), ('motives', 'Antisemitismus'), ('contexts', 'Öffentlicher Raum allgemein'), ('factums', 'Beleidigung/Beschimpfung/Bedrohung'), ('city', 'Unbekannt'), ('description', 'Die „Recherche- und Informationsstelle Antisemitismus Bayern“ (RIAS Bayern) berichtet auf Facebook im Nachhinein von einem antisemitischen Vorfall in der Stadt:\\n\\n\\nEine Passantin lief mit einem Freund im Zentrum Münchens auf dem Gehsteig, als auf einmal eine Radfahrerin laut \\n„Judensau“\\n rief. Die Passantin war schockiert und dachte, ihr Begleiter, der Jude ist, sei gemeint. Dann bemerkte sie, dass sich die Radlerin im Streit mit einem weiteren Radfahrer befand und diesen beschimpfte. Die Zeugin informierte RIAS Bayern, da sie nicht möchte, dass der Vorfall untergeht.'), ('title', 'Antisemitische Beschimpfung'), ('date', datetime.datetime(2020, 9, 9, 0, 0)), ('rg_id', 'https://muenchen-chronik.de/9-september-2020-antisemitische-beschimpfung/'), ('url', 'https://muenchen-chronik.de/9-september-2020-antisemitische-beschimpfung/'), ('county', None), ('postal_code', None), ('state', 'Bayern'), ('latitude', None), ('longitude', None), ('address', None), ('orig_county', None), ('orig_city', 'Unbekannt'), ('country', 'Deutschland'), ('orig_address', None), ('district', None)])\n",
      "{'state': 'Bayern', 'country': 'Deutschland'}\n",
      "OrderedDict([('id', 59), ('chronicler_name', 'München Chronik'), ('tags', 'Alternative für Deutschland (AfD), Freiheitliche Partei Österreichs (FPÖ)'), ('motives', 'Eigenwerbung'), ('contexts', 'Diskussions-/Vortragsveranstaltung intern, Lokal/Restaurant/Club'), ('factums', ''), ('city', 'Unbekannt'), ('description', 'Die Auslandsorganisation der extrem rechten italienischen Partei „Lega“, die sich „Lega nel Mondo“ nennt, richtet am Freitagabend eine Veranstaltung aus. Auftreten soll laut Ankündigung Marco Tirapelle, der Auslandskoordinator der Lega nel Mondo und der Lega-Abgeordnete Vito Comencini. Außerdem angekündig wird der AfD-Abgeordnete im Europaparlament Markus Buchheit. Buchheit war lange Mitarbeiter der extrem rechten österreichischen FPÖ im Europaparlament und ist seit 2019 selbst Abgeordneter mit AfD-Parteibuch.'), ('title', 'Lega – Veranstaltung mit AfD-Abgeordnetem'), ('date', datetime.datetime(2020, 7, 10, 0, 0)), ('rg_id', 'https://muenchen-chronik.de/10-juli-2020-lega-veranstaltung-mit-afd-abgeordnetem/'), ('url', 'https://muenchen-chronik.de/10-juli-2020-lega-veranstaltung-mit-afd-abgeordnetem/'), ('county', None), ('postal_code', None), ('state', 'Bayern'), ('latitude', None), ('longitude', None), ('address', None), ('orig_county', None), ('orig_city', 'Unbekannt'), ('country', 'Deutschland'), ('orig_address', None), ('district', None)])\n",
      "{'state': 'Bayern', 'country': 'Deutschland'}\n",
      "OrderedDict([('id', 67), ('chronicler_name', 'München Chronik'), ('tags', 'Covid-19, Freiheitsversammlung München'), ('motives', 'Sonstiges, Verschwörungsideologien'), ('contexts', 'Diskussions-/Vortragsveranstaltung öffentlich'), ('factums', ''), ('city', 'Unbekannt'), ('description', 'Am Samstagnachmittag findet ab 15 Uhr auf dem Wittelsbacherplatz eine Kundgebung gegen die Infektionsschutzmaßnahmen statt. Den Organisator*innen der selbsternannten \\n„Freiheitsversammlung München“\\n schließen sich ca. 50 Teilnehmende an. Am offenen Mikrophon sprechen sich die Redner*innen gegen die Infektionsschutzmaßnahmen, die Bundesregierung und den Virologen Christian Drosten aus. Eine Rednerin verbreitet eine Sammlung von Verschwörungsideologien über Computer-Chips, die Menschen angeblich eingepflanzt werden sollen und Bill Gates, der die Gesundheitsforschung kontrolliere und für sich ausnutze. Auch gegen angebliche Chemikalien, die am Himmel in Form sogenannter „Chemtrails“ durch die Regierung versprüht würden, und die vorgeblichen Schäden des neuen Mobilfunkstandards 5G wettert die Frau. Sie nehme an der Kungebung teil, \\n„damit wir überlegen, wie wir das System zum Kippen bekommen können“\\n, ruft sie unter lautem Applaus der Teilnehmenden.\\n\\n\\nEin anderer Redner spricht davon, dass die Infektionsschutzmaßnahmen eine \\n„Einsperrung wie im KZ“\\n bedeuteten. Die Covid-19-Infektionen seien großteils erfunden, nur zwei Prozent seien real. Auch er verbreitet Verschwörungsideologien über Bill Gates und dessen Rolle bei der Entwicklung eines Impfstoffes gegen Covid-19.\\n\\n\\nUm 16.45 Uhr zieht die Gruppe in einer Demonstration zum nahegelegenen Kultusministerium, um dort ihre Forderungen nach einer Beendigung der Infektionsschutzmaßnahmen in Schulen, Kitas und Kindergärten zu präsentieren.'), ('title', 'Proteste gegen die Infektionsschutzmaßnahmen'), ('date', datetime.datetime(2020, 6, 27, 0, 0)), ('rg_id', 'https://muenchen-chronik.de/27-juni-2020-proteste-gegen-die-infektionsschutzmassnahmen/'), ('url', 'https://muenchen-chronik.de/27-juni-2020-proteste-gegen-die-infektionsschutzmassnahmen/'), ('county', None), ('postal_code', None), ('state', 'Bayern'), ('latitude', None), ('longitude', None), ('address', None), ('orig_county', None), ('orig_city', 'Unbekannt'), ('country', 'Deutschland'), ('orig_address', None), ('district', None)])\n",
      "{'state': 'Bayern', 'country': 'Deutschland'}\n",
      "OrderedDict([('id', 76), ('chronicler_name', 'München Chronik'), ('tags', ''), ('motives', 'Antisemitismus'), ('contexts', 'Mail'), ('factums', 'Beleidigung/Beschimpfung/Bedrohung'), ('city', 'Unbekannt'), ('description', 'Gegen 13.00 Uhr erhält der Vorsitzende des „Verbandes Jüdischer Studenten in Bayern“ (VSJB), Michael Movchin, eine antisemitische E-Mail über ein Online-Kontaktformular. Die Mail stammt von einem Absender, der sich „Antijude totdiesenmördern“ nennt und als Mailadresse „judensindscheisse@gasmann.de“ angegeben hat. Der wirre Inhalt der Mail lautet im Original: \\n„Halten Sie ihr Maul Sie Massenmörder und Kinderficker!!! 12 Mill Deutsche tot durch Juden, 150 Mill Afrikaner, 150 Mill Indianer, 350 Mill Menschen Islam was Judenscheisse ist und 350 tot durch US Juden und deren Kriege“.'), ('title', 'Antisemitische Drohmail'), ('date', datetime.datetime(2020, 6, 1, 0, 0)), ('rg_id', 'https://muenchen-chronik.de/1-juni-2020-antisemitische-drohmail/'), ('url', 'https://muenchen-chronik.de/1-juni-2020-antisemitische-drohmail/'), ('county', None), ('postal_code', None), ('state', 'Bayern'), ('latitude', None), ('longitude', None), ('address', None), ('orig_county', None), ('orig_city', 'Unbekannt'), ('country', 'Deutschland'), ('orig_address', None), ('district', None)])\n",
      "{'state': 'Bayern', 'country': 'Deutschland'}\n",
      "OrderedDict([('id', 82), ('chronicler_name', 'München Chronik'), ('tags', 'Heil Hitler, Sieg Heil'), ('motives', 'Gegen politischen Gegner'), ('contexts', 'Internet/Soziale Netzwerke'), ('factums', 'Beleidigung/Beschimpfung/Bedrohung'), ('city', 'Unbekannt'), ('description', 'Die Fraktionsvorsitzende der Grünen im bayerischen Landtag, Katharina Schulze, startet am Dienstagabend gegen 20.00 Uhr einen Live-Stream auf Instagram. Einige Nutzer*innen stören die Online-Veranstaltung jedoch massiv und beleidigen die Politikerin aufs Übelste, z.T. mit Todesdrohungen (\\n„Ich habe einen gefolterten Tod für dich vorbereitet“, „Geh dich aufhängen“, „Ich werde dich abstechen für Deutschland“\\n) und neonazistischen Parolen (\\n„Heil Hitler“, „Sieg Heil“\\n).\\n\\n\\nDie Polizei ermittelt rund zwei Wochen später einen 41-Jährigen aus Leipzig, der für einige der Drohungen bzw. Parolen mitverantwortlich sein soll.'), ('title', 'Veranstaltungstörung und Drohungen in Livestream'), ('date', datetime.datetime(2020, 5, 26, 0, 0)), ('rg_id', 'https://muenchen-chronik.de/26-mai-2020-veranstaltungstoerung-und-drohungen-in-livestream/'), ('url', 'https://muenchen-chronik.de/26-mai-2020-veranstaltungstoerung-und-drohungen-in-livestream/'), ('county', None), ('postal_code', None), ('state', 'Bayern'), ('latitude', None), ('longitude', None), ('address', None), ('orig_county', None), ('orig_city', 'Unbekannt'), ('country', 'Deutschland'), ('orig_address', None), ('district', None)])\n",
      "{'state': 'Bayern', 'country': 'Deutschland'}\n"
     ]
    },
    {
     "name": "stderr",
     "output_type": "stream",
     "text": [
      "214it [00:00, 415.94it/s]"
     ]
    },
    {
     "name": "stdout",
     "output_type": "stream",
     "text": [
      "OrderedDict([('id', 141), ('chronicler_name', 'München Chronik'), ('tags', ''), ('motives', 'Antisemitismus'), ('contexts', 'ÖPNV'), ('factums', 'Beleidigung/Beschimpfung/Bedrohung'), ('city', 'Unbekannt'), ('description', 'Die „Recherche- und Informationsstelle Antisemitismus Bayern“ (RIAS Bayern) berichtet im Nachhinein über einen antisemitischem Vorfall:\\n\\n\\nEin älterer Mann rief in einem Bus im Münchner Westen laut\\n „jüdische Scheiße!“\\n und \\n„es war vor 70 Jahren, warum sollten wir heute Mitleid mit Juden haben?“\\n. Ein Zeuge sprach den Mann auf seinen Antisemitismus an. Der Mann wurde wütend und behauptete, selbst jüdischer Abstammung zu sein. Der Zeuge wiederholte, dass die Äußerungen reiner Antisemitismus seien. Daraufhin drohte ihm der Mann an, den Kehlkopf einzuschlagen. Andere Passagiere unterstützten den Betroffenen, woraufhin der Täter seine Drohung gegenüber allen Anwesenden wiederholte. Dann fing der Täter an, wirr zu schreien, er sei vom Verfassungsschutz, und wenn die Passagiere ihn weiter belästigten, würde er die GSG 9, eine Spezialeinheit der Bundespolizei, holen, die alle nach Guantanamo verfrachten würde. Dann stieg der Täter aus. Nach der antisemitischen Bedrohung sprach eine ältere Dame den Betroffenen an und lobte sein Einschreiten, was ihn sehr berührte. Für Betroffene von Antisemitismus ist es häufig eine große Belastung, dass sie keine Solidarität von Umstehenden erfahren. Dass das hier anders war, ist deshalb besonders hervorzuheben.\\n\\n\\nDie Polizei teilt am 23. Januar 2020 mit, einen 41-jährigen Münchner als mutmaßlichen Täter ermittelt zu haben. Weil der Mann nachweislich an einer psychischen Erkrankung leide, sei \\n„aufgrund der Gesamtumstände ein politischer Hintergrund für dieses Tat auszuschließen.“'), ('title', 'Antisemitische Beschimpfung und Bedrohung'), ('date', datetime.datetime(2019, 12, 4, 0, 0)), ('rg_id', 'https://muenchen-chronik.de/4-dezember-2019-antisemitische-beschimpfung-und-bedrohung/'), ('url', 'https://muenchen-chronik.de/4-dezember-2019-antisemitische-beschimpfung-und-bedrohung/'), ('county', None), ('postal_code', None), ('state', 'Bayern'), ('latitude', None), ('longitude', None), ('address', None), ('orig_county', None), ('orig_city', 'Unbekannt'), ('country', 'Deutschland'), ('orig_address', None), ('district', None)])\n",
      "{'state': 'Bayern', 'country': 'Deutschland'}\n",
      "OrderedDict([('id', 162), ('chronicler_name', 'München Chronik'), ('tags', ''), ('motives', 'Rassismus'), ('contexts', 'Private Institution, Sonstiges'), ('factums', 'Diskriminierung'), ('city', 'Unbekannt'), ('description', 'Eine Frau wird bei der Suche nach einer Wohnung in München von potentiellen Vermieter*innen wiederholt rassistisch diskriminiert.\\n\\n\\nDie Ungleichbehandlung zeigt sich besonders deutlich, wenn sie Vermieter*innen auf verschiedenen Wegen anfragt: Falls sie sich telefonisch meldet und keinen Namen angibt, wird sie sehr höflich und interessiert behandelt. Schickt sie aber eine E-Mail mit ihrem Namen, erhält sie keine Rückmeldung oder eine Absage.\\n\\n\\nNach einer solchen Ablehnung spricht sie mit einer Kolleg*in über ihre Erlebnisse, die sich daraufhin bereiterklärt, ihr zu helfen. Sie entschließen sich, zu diesem Zweck ein Testing durchzuführen. Ihre Kolleg*in schickt eine Anfrage gleichen Inhalts an die Vermieter*innen, der einzige Unterschied ist der Name unter der E-Mail. Das Ergebnis ist eindeutig: Die Kolleg*in erhält eine freundliche und interessierte Antwort, obwohl die Vermieter*innen der Betroffenen erklärt hatten, dass die Wohnung bereits vergeben sei.\\n\\n\\nDa die Betroffene einen Namen hat, der in Deutschland nicht häufig vorkommt und ihre Kolleg*in einen in Bayern sehr geläufigen Namen trägt, geht sie von einem rassistischen Hintergrund der Diskriminierung aus.'), ('title', 'Rassistische Diskriminierung bei der Wohnungssuche'), ('date', datetime.datetime(2019, 9, 22, 0, 0)), ('rg_id', 'https://muenchen-chronik.de/september-2019-rassistische-diskriminierung-bei-der-wohnungssuche/'), ('url', 'https://muenchen-chronik.de/september-2019-rassistische-diskriminierung-bei-der-wohnungssuche/'), ('county', None), ('postal_code', None), ('state', 'Bayern'), ('latitude', None), ('longitude', None), ('address', None), ('orig_county', None), ('orig_city', 'Unbekannt'), ('country', 'Deutschland'), ('orig_address', None), ('district', None)])\n",
      "{'state': 'Bayern', 'country': 'Deutschland'}\n"
     ]
    },
    {
     "name": "stderr",
     "output_type": "stream",
     "text": [
      "343it [00:00, 412.22it/s]"
     ]
    },
    {
     "name": "stdout",
     "output_type": "stream",
     "text": [
      "OrderedDict([('id', 281), ('chronicler_name', 'München Chronik'), ('tags', ''), ('motives', 'Rassismus'), ('contexts', 'Arbeitsplatz'), ('factums', 'Beleidigung/Beschimpfung/Bedrohung'), ('city', 'Unbekannt'), ('description', 'In einem großen metallverarbeitenden Betrieb im Münchener Osten nutzt ein*e Mitarbeiter*in immer wieder heftige rassistische Schimpfwörter und Redewendungen als Flüche. Eine weitere beschäftigte Person weist auf die Problematik hin. Aus Ärger über den Widerspruch, beschwert sich die Person, deren rassistische Aussagen kritisiert wurden, bei ihrem Vorgesetzten. Dieser nimmt keine kritische Position zu den Äußerungen ein, woraufhin die intervenierende Person Rat beim Betriebsrat sucht. Als Reaktion darauf wird sie entlassen. Vorgeworfen wird ihr die Nicht-Einhaltung des Dienstweges. Eine Auseinandersetzung mit den rassistischen Einstellungen, den gefallenen Äußerungen und deren Auswirkungen auf das Betriebsklima durch das Unternehmen findet anscheinend nicht statt.'), ('title', 'Rassismus am Arbeitsplatz'), ('date', datetime.datetime(2018, 8, 14, 0, 0)), ('rg_id', 'https://muenchen-chronik.de/14-august-2018-rassismus-am-arbeitsplatz/'), ('url', 'https://muenchen-chronik.de/14-august-2018-rassismus-am-arbeitsplatz/'), ('county', None), ('postal_code', None), ('state', 'Bayern'), ('latitude', None), ('longitude', None), ('address', None), ('orig_county', None), ('orig_city', 'Unbekannt'), ('country', 'Deutschland'), ('orig_address', None), ('district', None)])\n",
      "{'state': 'Bayern', 'country': 'Deutschland'}\n",
      "OrderedDict([('id', 295), ('chronicler_name', 'München Chronik'), ('tags', 'Identitäre Bewegung (IB), Moschee'), ('motives', 'Islamfeindlichkeit'), ('contexts', 'Aufkleber/Plakataktion'), ('factums', 'Propagandaaktion'), ('city', 'Unbekannt'), ('description', 'Die „Identitäre Bewegung Bayern“ setzt ihre sogenannte „Stop Fatih“-Kampagne fort. Akteur_innen der neurechten Organisation posieren dafür am Samstag in drei bayerischen Städten mit jeweils einem Transparent („Grundgesetz statt Scharia“) sowie einem Pappaufsteller, auf dem das Wort „Grundgesetz“ sowie das Bundeswappen Deutschlands abgedruckt ist, vor Gebäuden der DITIB.\\n\\n\\nIn München stellen sich zwei Aktivisten für ein Foto vor die „Fatih“-Moschee in Unterschleißheim und in Ingolstadt vor die „Kocatepe“-Moschee. In Memmingen kleben sie das Banner mit zwei Streifen Duct-Tape an die Einfahrt der „Türkisch-Islamischen Gemeinde“. Im Nachhinein erscheint ein Artikel auf der Website der „Identitären Bewegung Bayern“.'), ('title', 'IB – Muslimenfeindliche Kampagne'), ('date', datetime.datetime(2018, 7, 7, 0, 0)), ('rg_id', 'https://muenchen-chronik.de/7-juli-2018-ib-muslimenfeindliche-kampagne/'), ('url', 'https://muenchen-chronik.de/7-juli-2018-ib-muslimenfeindliche-kampagne/'), ('county', None), ('postal_code', None), ('state', 'Bayern'), ('latitude', None), ('longitude', None), ('address', None), ('orig_county', None), ('orig_city', 'Unbekannt'), ('country', 'Deutschland'), ('orig_address', None), ('district', None)])\n",
      "{'state': 'Bayern', 'country': 'Deutschland'}\n",
      "OrderedDict([('id', 303), ('chronicler_name', 'München Chronik'), ('tags', 'Hakenkreuz, Sigrune'), ('motives', 'Verherrlichung NS-Regime'), ('contexts', 'Öffentliche Institution'), ('factums', 'Sachbeschädigung, Schmiererei/Sprüherei'), ('city', 'Unbekannt'), ('description', 'Zwischen Donnerstag, 17.00 Uhr und Freitag, 7.00 Uhr übersteigen Unbekannte den Metallzaun einer Kindertagesstätte und hinterlassen im Garten zahlreiche Hakenkreuze und Sigrunen. Unter anderem bringen sie die nach §86a StGB verbotenen Symbole auf ein Plastikhüpftier an. Außerdem schneiden die Unbekannten das Seil einer Schaukel ab. Die Polizei schreibt in ihrer Meldung nicht, wo sich die betroffene Kindertagesstätte befindet.'), ('title', 'Neonazistische Schmierereien'), ('date', datetime.datetime(2018, 6, 14, 0, 0)), ('rg_id', 'https://muenchen-chronik.de/14-15-juni-2018-neonazistische-schmierereien/'), ('url', 'https://muenchen-chronik.de/14-15-juni-2018-neonazistische-schmierereien/'), ('county', None), ('postal_code', None), ('state', 'Bayern'), ('latitude', None), ('longitude', None), ('address', None), ('orig_county', None), ('orig_city', 'Unbekannt'), ('country', 'Deutschland'), ('orig_address', None), ('district', None)])\n",
      "{'state': 'Bayern', 'country': 'Deutschland'}\n",
      "OrderedDict([('id', 306), ('chronicler_name', 'München Chronik'), ('tags', 'Reichsbürger_innen'), ('motives', 'Gegen öffentliche Institutionen'), ('contexts', 'Brief'), ('factums', 'Beleidigung/Beschimpfung/Bedrohung'), ('city', 'Unbekannt'), ('description', 'Ein 48-Jähriger schickt dem Kommissariat 44 (zuständig für politisch motivierte Kriminalität rechts) am Samstag ein Fax mit beleidigenden und drohenden Inhalten. Der offenbar der „Reichsbürger“-Szene zugehörige Münchner schreibt darin u.a. von \\n„Nazi-Richtern“\\n, \\n„Bullenfressen“\\n, nennt zwei Polizist_innen namentlich und bezeichnet sie als \\n„Drecksau“\\n bzw. \\n„Nazi-Arsch“\\n. Die Polizist_innen sollen sich, so der 48-Jährige, \\n„entlich eine Kugel in den Kopf jagen“\\n (Rechtschreibfehler im Original), oder \\n„mit einer Handgranate in die Luft sprengen“\\n, sonst würde der Verfasser der Zeilen die Beamt_innen \\n„persönlich quälen“\\n und \\n„fertig machen“\\n. Auch einen Richter, mit dem der 48-Jährige in der Vergangenheit offenbar in Konflikt getreten war, nennt er namentlich. Das Fax beendet der Reichsbürger mit den Worten \\n„Komm zu mir“\\n.\\n\\n\\nDrei Tage später, am Dienstag, 5. Juni 2018, vollzieht die Polizei einen Durchsuchungsbeschluss in den Räumlichkeiten des bereits mehrfach wegen Drogen- und Körperverletzungsdelikten auffällig gewordenen Mannes. Bei der Razzia finden die Beamt_innen u.a. geringe Mengen einer sogenannten „Kräutermischung“ sowie ein verbotenes Butterfly-Messer.'), ('title', '„Reichsbürger“ verschickt Drohbriefe'), ('date', datetime.datetime(2018, 6, 2, 0, 0)), ('rg_id', 'https://muenchen-chronik.de/2-juni-2018-reichsbuerger-verschickt-drohbriefe/'), ('url', 'https://muenchen-chronik.de/2-juni-2018-reichsbuerger-verschickt-drohbriefe/'), ('county', None), ('postal_code', None), ('state', 'Bayern'), ('latitude', None), ('longitude', None), ('address', None), ('orig_county', None), ('orig_city', 'Unbekannt'), ('country', 'Deutschland'), ('orig_address', None), ('district', None)])\n",
      "{'state': 'Bayern', 'country': 'Deutschland'}\n",
      "OrderedDict([('id', 311), ('chronicler_name', 'München Chronik'), ('tags', ''), ('motives', 'Antisemitismus, Verherrlichung NS-Regime, Verschwörungsideologien'), ('contexts', 'Private Institution'), ('factums', 'Diskriminierung'), ('city', 'Unbekannt'), ('description', 'Ein Steuerberater äußert sich während eines direkten Gesprächs mit einer jüdischen Kundin mehrfach antisemitisch. Als die Kundin dem Mann vom Studiengang ihrer Tochter erzählt, welcher u.a. den Bereich „Holocaust Studies“ umfasst, entgegnet der Steuerberater: „Wenn ich das Wort ‚Holocaust‘ schon höre, dann finde ich das zum Kotzen!“. Auf die Nachfrage der Kundin behauptet der Berater, dass der Begriff „von den Juden erfunden“ worden wäre. Daraufhin widerspricht die Frau, erläutert den wortgeschichtlichen und historischen Ursprung und erwähnt, dass Jüdinnen und Juden jedoch häufig eher den Begriff „Shoa“ verwenden würden. Der Steuerberater zweifelt diese Tatsache an und antwortet auf die Nachfrage der betroffenen Kundin, welchen Begriff er selbst denn bevorzugen würde, mit „Endlösung der Judenfrage“. Daraufhin beendet die Frau das Gespräch sofort und verlässt das Büro. Dabei fragt der Mann noch dreist: „Habe ich Sie jetzt verärgert?“.\\n\\n\\nDer Mann hatte sich bei vergangenen Treffen schon mehrfach auch negativ über Geflüchtete geäußert und wusste ebenso vom jüdischen Hintergrund der Kundin. Die Frau wendet sich schließlich an den Steuerverein, der um eine schriftliche Schilderung des Vorfalls bittet, auch um rechtliche Schritte gegen den Steuerberater prüfen zu können. Die Betroffene bekommt sofort eine neue Beraterin zugeteilt, die ihr gegenüber deutlich macht, dass der Vorfall für den sich antisemitisch äußernden Berater Konsequenzen haben werde. Die Frau fühlt sich vom Verein in ihrem Anliegen sehr ernst genommen.'), ('title', 'Antisemitische Äußerungen'), ('date', datetime.datetime(2018, 4, 12, 0, 0)), ('rg_id', 'https://muenchen-chronik.de/12-april-2018-antisemitische-aeusserungen/'), ('url', 'https://muenchen-chronik.de/12-april-2018-antisemitische-aeusserungen/'), ('county', None), ('postal_code', None), ('state', 'Bayern'), ('latitude', None), ('longitude', None), ('address', None), ('orig_county', None), ('orig_city', 'Unbekannt'), ('country', 'Deutschland'), ('orig_address', None), ('district', None)])\n",
      "{'state': 'Bayern', 'country': 'Deutschland'}\n",
      "OrderedDict([('id', 329), ('chronicler_name', 'München Chronik'), ('tags', ''), ('motives', 'Rassismus'), ('contexts', 'Arbeitsplatz, Öffentliche Institution'), ('factums', ''), ('city', 'Unbekannt'), ('description', 'Ein Mitarbeiter der Stadt München berichtet, dass er am 8. November 2017 in einer städtischen Kantine einer rassistischen Eingangskontrolle unterzogen wurde: Gegen 12.30 Uhr wurde er am Eingang der Kantine aufgrund seiner dunklen Hautfarbe von einem Mitarbeiter des Sicherheitspersonals herausgegriffen und nach seinem Dienstausweis gefragt. Obwohl sich mehrere Personen zu besagtem Zeitpunkt am Eingang befanden, kam der Sicherheitsmitarbeiter gezielt auf ihn zu und verlangte, seinen Dienstausweis zu sehen. Um sicherzustellen, dass er wirklich derjenige war, der angesprochen wurde, ginge er zunächst weiter. Daraufhin lief der Wachmann ihm hinterher und sagte: \\n„Sie sind ja Gast hier, Ihr Dienstausweis bitte“\\n. Ein ebenfalls anwesender Kollege des Betroffenen konnte schließlich Schlimmeres verhindern.'), ('title', 'Rassistische Eingangskontrolle'), ('date', datetime.datetime(2017, 11, 8, 0, 0)), ('rg_id', 'https://muenchen-chronik.de/8-november-2017-rassistische-eingangskontrolle/'), ('url', 'https://muenchen-chronik.de/8-november-2017-rassistische-eingangskontrolle/'), ('county', None), ('postal_code', None), ('state', 'Bayern'), ('latitude', None), ('longitude', None), ('address', None), ('orig_county', None), ('orig_city', 'Unbekannt'), ('country', 'Deutschland'), ('orig_address', None), ('district', None)])\n",
      "{'state': 'Bayern', 'country': 'Deutschland'}\n"
     ]
    },
    {
     "name": "stderr",
     "output_type": "stream",
     "text": [
      "425it [00:01, 406.84it/s]"
     ]
    },
    {
     "name": "stdout",
     "output_type": "stream",
     "text": [
      "OrderedDict([('id', 364), ('chronicler_name', 'München Chronik'), ('tags', ''), ('motives', 'LGBTIQ Feindlichkeit/ Homosexuellenfeindlichkeit'), ('contexts', 'Internet/Soziale Netzwerke'), ('factums', 'Volksverhetzung'), ('city', 'Unbekannt'), ('description', 'Im Rahmen des \\n„Zweiten bundesweiten Aktionstags zur Bekämpfung von Hasspostings“\\n führen Polizeibeamt_innen unter Koordinierung des Bundes- sowie des Bayerischen Landeskriminalamts deutschlandweit Razzien und Vernehmungen gegen 36 Beschuldigte durch.Am frühen Dienstagmorgen durchsuchen sie dabei auch die Wohnung eines 23-Jährigen in München wegen des Verdachts auf Volksverhetzung. Dem Beschuldigten wird vorgeworfen, auf Facebook einen schwulenfeindlichen Kommentar unter einem Bild zweier sich küssender Männer gepostet zu haben. Wie die „Süddeutsche Zeitung“ berichtet, habe der Mann unter anderem \\n„Schwule dazu aufgefordert, sich umzubringen.“'), ('title', 'Durchsuchung wegen des Verdachtes auf Volksverhetzung'), ('date', datetime.datetime(2017, 6, 20, 0, 0)), ('rg_id', 'https://muenchen-chronik.de/20-juni-2017-durchsuchung-wegen-des-verdachtes-auf-volksverhetzung/'), ('url', 'https://muenchen-chronik.de/20-juni-2017-durchsuchung-wegen-des-verdachtes-auf-volksverhetzung/'), ('county', None), ('postal_code', None), ('state', 'Bayern'), ('latitude', None), ('longitude', None), ('address', None), ('orig_county', None), ('orig_city', 'Unbekannt'), ('country', 'Deutschland'), ('orig_address', None), ('district', None)])\n",
      "{'state': 'Bayern', 'country': 'Deutschland'}\n",
      "OrderedDict([('id', 390), ('chronicler_name', 'München Chronik'), ('tags', ''), ('motives', 'Rassismus, Verherrlichung NS-Regime, Verschwörungsideologien'), ('contexts', 'Nachbarschaft/Wohnumfeld'), ('factums', 'Beleidigung/Beschimpfung/Bedrohung'), ('city', 'Unbekannt'), ('description', 'Ein Ehepaar im Münchener Osten wird Ziel eines rechtsradikalen Angriffs durch einen Anwohner. Der Nachbar bedroht den Betroffenen mit der Faust und kündigt an: \\n„Dich scheiß Ausländer werde ich auf dem Balkon aufhängen und aufschlitzen!“\\n\\n\\nDie alarmierte Polizei erklärt, dass der Mann als Alkoholiker bekannt sei. Die Beamt_innen raten den Betroffenen, dem Täter aus dem Weg zu gehen und ihn nicht zu provozieren.\\n\\n\\nIn der Wohnung des Nachbarn wird regelmäßig rechtsradikale Musik abgespielt, wiederholt hören die Anwohner_innen Heil-Hitler-Rufe. Auf seine Wohnungstür steht in dickem schwarzen Filzstift geschrieben \\n„Nach dieser Türe fängt das Deutsche Reich an“\\n und \\n„Nach dieser Tür ist freies Deutschland, wer eintritt muss mit Konsequenzen rechnen“\\n.\\n\\n\\n\\xa0\\n\\n\\nDer Vorfall reiht sich ein in eine Serie von Angriffen gegen das Paar:\\n\\n\\nFebruar 2016 – Rechtsradikale Drohungen\\n\\n\\nFebruar 2017 – Rechtsradikaler Angriff\\n\\n\\n29. März 2017 – Rechtsradikaler Angriff'), ('title', 'Rechtsradikaler Angriff'), ('date', datetime.datetime(2017, 4, 22, 0, 0)), ('rg_id', 'https://muenchen-chronik.de/april-2017-rechtsradikaler-angriff/'), ('url', 'https://muenchen-chronik.de/april-2017-rechtsradikaler-angriff/'), ('county', None), ('postal_code', None), ('state', 'Bayern'), ('latitude', None), ('longitude', None), ('address', None), ('orig_county', None), ('orig_city', 'Unbekannt'), ('country', 'Deutschland'), ('orig_address', None), ('district', None)])\n",
      "{'state': 'Bayern', 'country': 'Deutschland'}\n",
      "OrderedDict([('id', 406), ('chronicler_name', 'München Chronik'), ('tags', ''), ('motives', 'Rassismus, Verherrlichung NS-Regime, Verschwörungsideologien'), ('contexts', 'Nachbarschaft/Wohnumfeld'), ('factums', 'Beleidigung/Beschimpfung/Bedrohung, Sachbeschädigung'), ('city', 'Unbekannt'), ('description', 'Ein Ehepaar im Münchener Osten wird Ziel eines rechtsradikalen Angriffs durch einen Anwohner. Der Nachbar schreit im Treppenhaus: \\n„Ausländer raus, sonst müsst ihr mit Konsequenzen rechnen!“\\n Er beschädigt außerdem den Rollator der Betroffenen. Anschließend droht er ihnen mit Mord: Er werde sie \\n„umbringen, ausräuchern, aufhängen, aufschlitzen“.\\n\\n\\nDie alarmierte Polizei nimmt den Angreifer mit auf die Polizeidienststelle.\\n\\n\\nIn der Wohnung des Nachbarn wird regelmäßig rechtsradikale Musik abgespielt, wiederholt hören die Anwohner_innen Heil-Hitler-Rufe. Auf seiner Wohnungstür steht in dickem schwarzen Filzstift geschrieben \\n„Nach dieser Türe fängt das Deutsche Reich an“\\n und \\n„Nach dieser Tür ist freies Deutschland, wer eintritt muss mit Konsequenzen rechnen“\\n.\\n\\n\\n\\xa0\\n\\n\\nDer Vorfall reiht sich ein in eine Serie von Angriffen gegen das Paar:\\n\\n\\nFebruar 2016 – Rechtsradikale Drohungen\\n\\n\\nFebruar 2017 – Rechtsradikaler Angriff\\n\\n\\nApril 2017 – Rechtsradikaler Angriff'), ('title', 'Rechtsradikaler Angriff'), ('date', datetime.datetime(2017, 3, 29, 0, 0)), ('rg_id', 'https://muenchen-chronik.de/29-maerz-2017-rechtsradikaler-angriff/'), ('url', 'https://muenchen-chronik.de/29-maerz-2017-rechtsradikaler-angriff/'), ('county', None), ('postal_code', None), ('state', 'Bayern'), ('latitude', None), ('longitude', None), ('address', None), ('orig_county', None), ('orig_city', 'Unbekannt'), ('country', 'Deutschland'), ('orig_address', None), ('district', None)])\n",
      "{'state': 'Bayern', 'country': 'Deutschland'}\n",
      "OrderedDict([('id', 414), ('chronicler_name', 'München Chronik'), ('tags', 'Heil Hitler'), ('motives', 'Rassismus, Verherrlichung NS-Regime'), ('contexts', 'Nachbarschaft/Wohnumfeld'), ('factums', 'Beleidigung/Beschimpfung/Bedrohung'), ('city', 'Unbekannt'), ('description', 'Ein Ehepaar im Münchener Osten wird Ziel eines rechtsradikalen Angriffs durch einen Anwohner. Der Mann bedroht die Betroffenen massiv, hämmert an ihre Wohnungstür und schreit: \\n„Kanaken, ich werde euch ausräuchern. Ich werde euch fertigmachen. Euch Kakerlaken werde ich alle umbringen und ausräuchern!“\\n Außerdem ruft er \\n„Ausländer raus“\\n und wirft den Rollator der Betroffenen eine Treppe hinunter sodass dieser beschädigt wird.\\n\\n\\nIn der Wohnung des Nachbarn wird regelmäßig rechtsradikale Musik abgespielt, wiederholt hören die Anwohner_innen Heil-Hitler-Rufe. Auf seiner Wohnungstür steht in dickem schwarzen Filzstift \\n„Nach dieser Türe fängt das Deutsche Reich an“\\n und \\n„Nach dieser Tür ist freies Deutschland, wer eintritt muss mit Konsequenzen rechnen“\\n.\\n\\n\\nDer Vorfall reiht sich ein in eine Serie von Angriffen gegen das Paar:\\n\\n\\nFebruar 2016 – Rechtsradikale Drohungen\\n\\n\\n29. März 2017 – Rechtsradikaler Angriff\\n\\n\\nApril 2017 – Rechtsradikaler Angriff'), ('title', 'Rechtsradikaler Angriff'), ('date', datetime.datetime(2017, 2, 22, 0, 0)), ('rg_id', 'https://muenchen-chronik.de/februar-2017-rechtsradikaler-angriff/'), ('url', 'https://muenchen-chronik.de/februar-2017-rechtsradikaler-angriff/'), ('county', None), ('postal_code', None), ('state', 'Bayern'), ('latitude', None), ('longitude', None), ('address', None), ('orig_county', None), ('orig_city', 'Unbekannt'), ('country', 'Deutschland'), ('orig_address', None), ('district', None)])\n",
      "{'state': 'Bayern', 'country': 'Deutschland'}\n",
      "OrderedDict([('id', 445), ('chronicler_name', 'München Chronik'), ('tags', 'Alternative für Deutschland (AfD), Die Freiheit (DF), Michael Stürzenberger'), ('motives', 'Islamfeindlichkeit'), ('contexts', ''), ('factums', ''), ('city', 'Unbekannt'), ('description', 'Die seit 2011 vor allem in München aktive, rechtspopulistische Kleinstpartei „Die Freiheit“ (DF) beschließt ihre offizielle Auflösung zum Jahresende. Ihr letzter Bundesvorsitzender, Michael Stürzenberger (München) veröffentlicht die Ankündigung dazu im Nachhinein am 27. Dezember 2016 auf seiner Facebook-Seite. Demnach sei die Auflösung „einstimmig auf dem Bundesparteitag in Nürnberg“ beschlossen worden.\\n\\n\\nStürzenberger verschickt außerdem einen langen Text an verschiedene Medien und Journalist_innen. Darin heißt es u.a., „(…) dass alle politischen Aufgaben inklusive der Islamkritik in den Händen der AfD bestens aufgehoben sind und die ‚Freiheit‘ nicht mehr benötigt wird.“ Außerdem richtet sich Stürzenberger mit einem seiner gewohnten Appelle an die angeschriebenen Medienvertreter_innen: „Beenden Sie die beschönigende, verharmlosende und vertuschende Berichterstattung zum Thema Islam. (…) Der islamische Gott Allah hat nichts mit dem christlichen neutestamentarischen nächsten- und sogar feindesliebenden Gottesbild zu tun, sondern ist sein exaktes Gegenteil. (…) Verbreiten Sie nie wieder unkritisch die Aussagen von Islamfunktionären wie Aiman Mazyek. Es ist seine Aufgabe, den Islam zu schützen. Dazu darf er lügen, was sich im Islam ‚Taqiyya‘ nennt. (…) Der Islam ist die größte Bedrohung, der wir im 21. Jahrhundert gegenüberstehen.“'), ('title', 'Die Freiheit'), ('date', datetime.datetime(2016, 12, 4, 0, 0)), ('rg_id', 'https://muenchen-chronik.de/4-dezember-2016-die-freiheit/'), ('url', 'https://muenchen-chronik.de/4-dezember-2016-die-freiheit/'), ('county', None), ('postal_code', None), ('state', 'Bayern'), ('latitude', None), ('longitude', None), ('address', None), ('orig_county', None), ('orig_city', 'Unbekannt'), ('country', 'Deutschland'), ('orig_address', None), ('district', None)])\n",
      "{'state': 'Bayern', 'country': 'Deutschland'}\n"
     ]
    },
    {
     "name": "stderr",
     "output_type": "stream",
     "text": [
      "508it [00:01, 401.95it/s]"
     ]
    },
    {
     "name": "stdout",
     "output_type": "stream",
     "text": [
      "OrderedDict([('id', 449), ('chronicler_name', 'München Chronik'), ('tags', 'Bündnis Deutscher Patrioten (BDP)'), ('motives', 'Nationalismus'), ('contexts', 'Diskussions-/Vortragsveranstaltung intern'), ('factums', ''), ('city', 'Unbekannt'), ('description', 'Das extrem rechte „Bündnis Deutscher Patrioten“ (BDP) kündigt etwa eine Woche im Voraus auf Facebook und Twitter einen „Vortragsabend“ („Thema werden Grundsätze und Formen des patriotischen Aktivismus sein“) für diesen Mittwochabend an. Ort und Zeit halten die BDP-ler geheim, Interessent_innen sollen sich per E-Mail anmelden.\\n\\n\\nAm 21. November 2016 veröffentlicht das BDP auf Twitter einen Beitrag, dass die Veranstaltung in München zum Thema „Aktivismus“ „leider auf unbestimmte Zeit verschoben“ werden müsse. Nähere Gründe nennt das Posting nicht.'), ('title', 'Bündnis Deutscher Patrioten'), ('date', datetime.datetime(2016, 11, 23, 0, 0)), ('rg_id', 'https://muenchen-chronik.de/23-november-2016-buendnis-deutscher-patrioten/'), ('url', 'https://muenchen-chronik.de/23-november-2016-buendnis-deutscher-patrioten/'), ('county', None), ('postal_code', None), ('state', 'Bayern'), ('latitude', None), ('longitude', None), ('address', None), ('orig_county', None), ('orig_city', 'Unbekannt'), ('country', 'Deutschland'), ('orig_address', None), ('district', None)])\n",
      "{'state': 'Bayern', 'country': 'Deutschland'}\n",
      "OrderedDict([('id', 462), ('chronicler_name', 'München Chronik'), ('tags', ''), ('motives', 'Gegen Geflüchtete, Rassismus, Verherrlichung NS-Regime'), ('contexts', 'Internet/Soziale Netzwerke'), ('factums', 'Beleidigung/Beschimpfung/Bedrohung'), ('city', 'Unbekannt'), ('description', 'Auf der Facebook-Seite einer antirassistischen Initiative für Geflüchtete hinterlassen Nutzer_innen eine Vielzahl rassistischer und rechtsextremer Kommentare.\\n\\n\\nIn den rassistischen Beleidigungen werden Geflüchtete als \\n„zum Kotzen“\\n bezeichnet und ihre Unterbringung als \\n„Sklaverei für Deutsche“\\n. Ein Nutzer droht den Betroffenen offen mit einer Anspielung auf die nationalsozialistischen Vernichtungslager: Geflüchtete sollten \\n„ganz weit nach Osten“\\n gehen, \\n„wo über einem Tor steht: ARBEIT MACHT FREI“.'), ('title', 'Hate Speech'), ('date', datetime.datetime(2016, 10, 20, 0, 0)), ('rg_id', 'https://muenchen-chronik.de/20-oktober-2016-hate-speech/'), ('url', 'https://muenchen-chronik.de/20-oktober-2016-hate-speech/'), ('county', None), ('postal_code', None), ('state', 'Bayern'), ('latitude', None), ('longitude', None), ('address', None), ('orig_county', None), ('orig_city', 'Unbekannt'), ('country', 'Deutschland'), ('orig_address', None), ('district', None)])\n",
      "{'state': 'Bayern', 'country': 'Deutschland'}\n",
      "OrderedDict([('id', 502), ('chronicler_name', 'München Chronik'), ('tags', 'Fake-Schreiben'), ('motives', 'Gegen Geflüchtete'), ('contexts', 'Brief'), ('factums', 'Propagandaaktion'), ('city', 'Unbekannt'), ('description', 'Unbekannte verschicken zahlreiche Briefe mit gefälschtem Inhalt an Seniorinnen und Senioren. Die Empfänger_Innen werden in dem Schreiben, das den Briefkopf und das Wappen des „Amtes für Wohnen und Migration“ trägt, dazu aufgefordert, ihren Wohnraum für Geflüchtete zur Verfügung zu stellen. Im Wortlaut heißt es:\\n„Wie ihnen sicher bekannt ist, herrscht in München ein akuter Mangel an Wohnraum. Deshalb möchte das Sozialreferat der Landeshauptstadt München Seniorinnen und Senioren, die über eine große Wohnung verfügen, bitten zu prüfen, ob nicht die Möglichkeit besteht, ein oder mehr Zimmer an Flüchtlinge zu vermieten. Die Landeshauptstadt München übernimmt natürlich die Garantie für die ortsübliche Miete. Die Möglichkeit, über eine Hilfe im Haushalt, zum Einkaufen und anderen Tätigkeiten zu verfügen, sollte auch in Betracht gezogen werden. Wenn Sie dem Sozialreferat freien Wohnraum melden würden, wäre dies ein wertvoller Beitrag zur Entspannung der gegenwärtigen Situation.“\\n Der Text endet mit der Drohung: \\n„Auf eine eventuelle Beschlagnahme von Wohnraum zur Vermeidung von Obdachlosigkeit könnte dann somit verzichtet werden.“\\n Der „Münchner Merkur“ zitiert Münchens Sozialreferentin Brigitte Meier (SPD), die für das Amt für Wohnen und Migration verantwortlich ist: „Dies ist offensichtlich ein weiterer, verabscheuungswürdiger Versuch, Unwahrheiten im Zusammenhang mit der Unterbringung von Flüchtlingen zu verbreiten, um Ängste in der Bevölkerung zu schüren. Das Schreiben ist eine Fälschung und entbehrt jeder Grundlage.“ Die Münchnerinnen und Münchner sollten „solchen dumm-dreisten Lügen keinen Glauben schenken“, so Meier.Bereits im Februar 2016 war ein anderes, ebenfalls gefälschtes Schreiben verschickt worden. Es war mit dem Briefkopf des Kreisverwaltungsreferats versehen. Im angeblichen KVR-Brief hieß es: \\n„Aufgrund der derzeitigen Verhältnisse wegen der kaum zu bewältigenden Flüchtlingsströme werden Sie angehalten, pro mehr 10 Quadratmeter über 35 Quadratmeter Wohnfläche eine Migrationsperson bei sich aufzunehmen.“'), ('title', 'Gefälschte Behördenbriefe über angebliche Beschlagnahme von Wohnraum'), ('date', datetime.datetime(2016, 6, 13, 0, 0)), ('rg_id', 'https://muenchen-chronik.de/13-17-juni-2016/'), ('url', 'https://muenchen-chronik.de/13-17-juni-2016/'), ('county', None), ('postal_code', None), ('state', 'Bayern'), ('latitude', None), ('longitude', None), ('address', None), ('orig_county', None), ('orig_city', 'Unbekannt'), ('country', 'Deutschland'), ('orig_address', None), ('district', None)])\n",
      "{'state': 'Bayern', 'country': 'Deutschland'}\n",
      "OrderedDict([('id', 518), ('chronicler_name', 'München Chronik'), ('tags', ''), ('motives', 'Rassismus, Verherrlichung NS-Regime'), ('contexts', 'Nachbarschaft/Wohnumfeld'), ('factums', 'Schmiererei/Sprüherei'), ('city', 'Unbekannt'), ('description', 'An die Wohnungstür eines Ehepaars mit Migrationshintergrund im Münchener Osten schmieren Unbekannte die rechtsradikale Parole \\n„Ausländer raus“\\n. Außerdem malen sie mit einem dicken schwarzen Stift ein großes Hakenkreuz daneben.\\n\\n\\n\\xa0\\n\\n\\nDer Vorfall reiht sich ein in eine Serie von Angriffen gegen das Paar:\\n\\n\\nFebruar 2017 – Rechtsradikaler Angriff\\n\\n\\n29. März 2017 – Rechtsradikaler Angriff\\n\\n\\nApril 2017 – Rechtsradikaler Angriff'), ('title', 'Rechtsradikale Drohungen'), ('date', datetime.datetime(2016, 2, 22, 0, 0)), ('rg_id', 'https://muenchen-chronik.de/februar-2016-rechtsradikale-drohungen/'), ('url', 'https://muenchen-chronik.de/februar-2016-rechtsradikale-drohungen/'), ('county', None), ('postal_code', None), ('state', 'Bayern'), ('latitude', None), ('longitude', None), ('address', None), ('orig_county', None), ('orig_city', 'Unbekannt'), ('country', 'Deutschland'), ('orig_address', None), ('district', None)])\n",
      "{'state': 'Bayern', 'country': 'Deutschland'}\n",
      "OrderedDict([('id', 525), ('chronicler_name', 'München Chronik'), ('tags', '\"Das Reich\", Google+, Social Media'), ('motives', 'Islamfeindlichkeit, Verherrlichung NS-Regime'), ('contexts', 'Internet/Soziale Netzwerke'), ('factums', 'Beleidigung/Beschimpfung/Bedrohung, Verwenden von Kennzeichen verfassungswidriger Organisationen'), ('city', 'Unbekannt'), ('description', 'Die 31-jährige Peggy K. postet in einer Gruppe mit dem Namen „Das Reich“ auf dem sozialen Netzwerk „Google+“ ein Foto, das einen männlichen Oberkörper mit einer Hakenkreuz-Tätowierung zeigt. Außerdem lädt sie ein Bild mit einem Hund hoch, der auf die Kaaba, ein zentrales Heiligtum im Islam, kotet. Das Bild trägt die Überschrift „Ich scheiss drauf“.\\n\\n\\nMitte April 2017 kommt es zum Prozess vor dem Amtsgericht, weil die 31-Jährige einen Strafbefehl über 2450 Euro wegen Blasphemie und dem Verwenden von Kennzeichen verfassungswidriger Organisationen nicht akzeptiert hatte. Trotz der Beteuerung der Angeklagten, „es nicht so gemeint zu haben“, verurteilt die Amtsrichterin Peggy K. schließlich zu 70 Tagessätzen à 35 Euro, also dem Betrag des ursprünglichen Strafbefehls. Außerdem muss die Angeklagte die Verfahrenskosten tragen.'), ('title', 'Rechte Hetze auf Social-Media-Plattform'), ('date', datetime.datetime(2016, 1, 16, 0, 0)), ('rg_id', 'https://muenchen-chronik.de/16-januar-2016/'), ('url', 'https://muenchen-chronik.de/16-januar-2016/'), ('county', None), ('postal_code', None), ('state', 'Bayern'), ('latitude', None), ('longitude', None), ('address', None), ('orig_county', None), ('orig_city', 'Unbekannt'), ('country', 'Deutschland'), ('orig_address', None), ('district', None)])\n",
      "{'state': 'Bayern', 'country': 'Deutschland'}\n",
      "OrderedDict([('id', 526), ('chronicler_name', 'München Chronik'), ('tags', 'Facebook, PEGIDA München, Social Media'), ('motives', 'Gegen öffentliche Institutionen, Gegen politischen Gegner'), ('contexts', 'Internet/Soziale Netzwerke'), ('factums', 'Beleidigung/Beschimpfung/Bedrohung'), ('city', 'Unbekannt'), ('description', 'Am Freitagabend gegen 22.00 Uhr lädt „PEGIDA München e. V.“ ein selbsterstelltes Video auf das organisationseigene Facebook-Profil hoch. In dem kurzen Film wird zunächst dokumentiert, wie „PEGIDA München“ bei der „Mahnwache“ vor dem Rathaus am 12. Januar 2016 „Muezzin-Rufe“ abgespielt hat. Danach wird u. a. ein Entwurfsbild des „Münchner Forums für Islam“ sowie die Kontonummer des „PEGIDA München e. V.“ (bei der Kreissparkasse Starnberg) gezeigt.\\n\\n\\nDas Video endet schließlich mit einer Sequenz, in der (ab Minute 1:25) ein durchgestrichenes Schwarz-Weiß-Portrait des Münchner Oberbürgermeisters Dieter Reiter und die Parole „OB REITER MUSS WEG“ eingeblendet wird. Zeitgleich zur Einblendung „OB REITER MUSS WEG“ ertönt das laute und deutliche Geräusch eines Schusses.\\n\\n\\nDer SPD-Landtagsabgeordnete Florian Ritter und Andere stellen Strafanzeigen. „PEGIDA München e. V.“ löscht das Video kommentarlos wieder vom eigenen FB-Account.'), ('title', 'Pegida – Rechte Hetze auf Facebook'), ('date', datetime.datetime(2016, 1, 15, 0, 0)), ('rg_id', 'https://muenchen-chronik.de/15-januar-2016/'), ('url', 'https://muenchen-chronik.de/15-januar-2016/'), ('county', None), ('postal_code', None), ('state', 'Bayern'), ('latitude', None), ('longitude', None), ('address', None), ('orig_county', None), ('orig_city', 'Unbekannt'), ('country', 'Deutschland'), ('orig_address', None), ('district', None)])\n",
      "{'state': 'Bayern', 'country': 'Deutschland'}\n"
     ]
    },
    {
     "name": "stderr",
     "output_type": "stream",
     "text": [
      "629it [00:01, 398.43it/s]"
     ]
    },
    {
     "name": "stdout",
     "output_type": "stream",
     "text": [
      "OrderedDict([('id', 572), ('chronicler_name', 'München Chronik'), ('tags', 'BAGIDA, PEGIDA München, Pro Bewegung Bayern'), ('motives', ''), ('contexts', 'Internet/Soziale Netzwerke'), ('factums', ''), ('city', 'Unbekannt'), ('description', 'Die „Pro Bewegung Bayern“ hat sich offenbar aufgelöst. Die rechtspopulistische Organisation veröffentlicht auf ihrer Website (V.i.S.d.P.: Matthias Klein, Weilheim) den Hinweis, dass man „keinerlei eigene Aktivitäten mehr in Konkurrenz zu PEGIDA“ entfalten würde: „Die verbliebenen Aktivisten der PRO Bewegung BAYERN gehen somit mit Beschluss vom 30.3.2015 in PEGIDA auf!“\\n\\n\\nDie bekannteren „Pro“-Funktionäre Stefan Werner und Uwe Görler hatten zuletzt mehrfach an den „BAGIDA“-Märschen in München teilgenommen. Im Artikel auf der „Pro-Bewegung Bayern“-Homepage wird ebenfalls auf den ehemaligen NPD-Bundestagskandidaten Werner verwiesen:\\n\\n\\n„Der ehemalige Leiter Stefan Werner hocherfreut: ‚Wir warten schon seit Jahren auf die richtige Organisation, der man sich im patriotischen Bereich anschließen kann. Doch in Deutschland kam man mit den bisherigen Rezepten nicht voran. Mit PEGIDA gibt es nun eine solche Organisation, die endlich kreativ und zukunftsorientiert arbeitet, neue Ideen und Rezepte hat und auch Trittbrettfahrer, die die Sache bremsen und behindern, konsequent aussortiert. So können nach und nach gute Köpfe einsortiert werden, die die Sache selbstlos und ehrenamtlich voranbringen. Mit PEGIDA beginnt die Wende in Deutschland, da sind wir uns absolut sicher. Sonst hätten wir diesen Schritt zu diesem Zeitpunkt noch nicht gemacht’”.'), ('title', '„Pro Bewegung Bayern“ veröffentlicht Auflösungsbeschluss'), ('date', datetime.datetime(2015, 4, 12, 0, 0)), ('rg_id', 'https://muenchen-chronik.de/12-april-2015-pro-bewegung-bayern-veroeffentlicht-aufloesungsbeschluss/'), ('url', 'https://muenchen-chronik.de/12-april-2015-pro-bewegung-bayern-veroeffentlicht-aufloesungsbeschluss/'), ('county', None), ('postal_code', None), ('state', 'Bayern'), ('latitude', None), ('longitude', None), ('address', None), ('orig_county', None), ('orig_city', 'Unbekannt'), ('country', 'Deutschland'), ('orig_address', None), ('district', None)])\n",
      "{'state': 'Bayern', 'country': 'Deutschland'}\n",
      "OrderedDict([('id', 579), ('chronicler_name', 'München Chronik'), ('tags', 'Benjamin Nolte, Burschenschaft Danubia, Burschenschaft Thessalia Prag zu Bayreuth, Junge Alternative Bayern (JA Bayern)'), ('motives', ''), ('contexts', 'Diskussions-/Vortragsveranstaltung intern'), ('factums', ''), ('city', 'Unbekannt'), ('description', 'Aktivist_innen der „Alternative für Deutschland“ (AfD) gründen einen „Landeskreis Bayern“ der sog. „Patriotischen Plattform“, Sammlungsbewegung der Parteirechtsaußen in der AfD.\\n\\n\\nEiner Veröffentlichung der „Patriotischen Plattform“ zufolge wählen die Versammelten den Münchner „Danubia“-Burschenschafter Benjamin Nolte (München) zum Landessprecher und den Zollbeamten Matthias Grundstein (Beisitzer im AfD-Kreisverband Oberbayern Nord, Neufahrn) sowie Oliver Trapper („Burschenschaft Thessalia Prag zu Bayreuth“) zu dessen Stellvertretern. Kassenwart wird Maximilian Mitwalsky, Vorstandsmitglied der AfD-Jugendorganisation „Junge Alternative Bayern“.'), ('title', 'AfD – Gründung des „Landkreis Bayern“ der „Patriotischen Plattform“'), ('date', datetime.datetime(2014, 12, 4, 0, 0)), ('rg_id', 'https://muenchen-chronik.de/4-dezember-2014-afd-gruendung-des-landkreis-bayern-der-patriotischen-plattform/'), ('url', 'https://muenchen-chronik.de/4-dezember-2014-afd-gruendung-des-landkreis-bayern-der-patriotischen-plattform/'), ('county', None), ('postal_code', None), ('state', 'Bayern'), ('latitude', None), ('longitude', None), ('address', None), ('orig_county', None), ('orig_city', 'Unbekannt'), ('country', 'Deutschland'), ('orig_address', None), ('district', None)])\n",
      "{'state': 'Bayern', 'country': 'Deutschland'}\n",
      "OrderedDict([('id', 589), ('chronicler_name', 'München Chronik'), ('tags', 'Die Rechte, Philipp Hasselbach'), ('motives', 'Nationalismus'), ('contexts', 'Flugblattverteilaktion'), ('factums', 'Propagandaaktion'), ('city', 'Unbekannt'), ('description', 'Münchner Neonazis verteilen in südlichen Stadtteilen Postkarten der Neonazi-Partei „Die Rechte“ in Briefkästen.\\n\\n\\nAuf der Vorderseite der Postkarte, die mit „Weg mit dem Teuro!“ betitelt ist, heißt es:\\n „Wir wollen eine Währung, die uns nicht immer ärmer macht. Verzicht auf eine eigene Währung ist Mangel an nationaler Souveränität!“\\n Auf der Rückseite wird ein „Europa der Vaterländer“ gefordert. Für die Postkarte, die an eine Kieler Postfachadresse der Partei geschickt werden soll, zeichnet der „Die Rechte“-Gründungsvorsitzende Christian Worch presserechtlich verantwortlich.\\n\\n\\nDie auf den Münchner Neonazi Phillip Hasselbach registrierte Website „München bleibt deutsch“, berichtet über die Aktion und betitelt sie als „Volksaufklärung“.'), ('title', 'Die Rechte – Postkartenverteilung'), ('date', datetime.datetime(2014, 6, 7, 0, 0)), ('rg_id', 'https://muenchen-chronik.de/7-juni-2014-die-rechte-postkartenverteilung/'), ('url', 'https://muenchen-chronik.de/7-juni-2014-die-rechte-postkartenverteilung/'), ('county', None), ('postal_code', None), ('state', 'Bayern'), ('latitude', None), ('longitude', None), ('address', None), ('orig_county', None), ('orig_city', 'Unbekannt'), ('country', 'Deutschland'), ('orig_address', None), ('district', None)])\n",
      "{'state': 'Bayern', 'country': 'Deutschland'}\n",
      "OrderedDict([('id', 611), ('chronicler_name', 'München Chronik'), ('tags', 'Bürgerinitiative Ausländerstopp München (BIA), Freies Netz Süd (FNS), Karl Richter, Karl-Heinz Statzberger, Roland Wuttke, Vanessa Becker'), ('motives', 'Antiziganismus, Gegen Geflüchtete, Gegen politischen Gegner, Islamfeindlichkeit, Nationalismus'), ('contexts', 'Kundgebung/Mahnwache'), ('factums', ''), ('city', 'BA 02 Ludwigsvorstadt - Isarvorstadt, BA 04 Schwabing-West, BA 05 Au - Haidhausen, BA 06 Sendling, BA 09 Neuhausen - Nymphenburg, BA 23 Allach - Untermenzing'), ('description', 'Am Samstag veranstaltet die neonazistische Kommunalwahlliste „Bürgerinitiative Ausländerstopp München“ (BIA) wieder eine Kundgebungsserie. Die einzelnen Versammlungen wurden von Karl Richter (NPD, München) und Vanessa Becker („Freies Netz Süd“, München) unter dem Titel „Gegen Asylmissbrauch und Ausländerkriminalität – tut endlich was!“ für sechs Orte in verschiedenen Stadtteilen angemeldet.\\n\\n\\nKurz nach 10.45 Uhr kommt eine einstellige Anzahl Neonazis in einem schwarzen Mercedes Sprinter am ersten Kundgebungsort an, der Kreuzung Vesaliusstr./Lautenschlägerstr. in Allach. Das Fahrzeug, das den ganzen Tag vom neonazistischen Multifunktionär Roland Wuttke (Mering) gefahren wird, haben sie mit den „BIA …im Rathaus“-Magnetschildern beklebt.\\n\\n\\nVor Ort sind neben Richter und Becker die oberbayerischen „Freies Netz Süd“ und BIA-Aktivisten Karl-Heinz Statzberger und Matthias Häuslmann anwesend. Benjamin H. hält das bekannte BIA-Transparent „Gegen Überfremdung und Ausländerkriminalität“. Der Neonazi, der eine Mütze der „Kameradschaft Berchtesgadener Land“ trägt, nennt sich im sozialen Netzwerk Facebook „Endlöser“.\\n\\n\\nVanessa Becker, die bei der Kommunalwahl 2014 hinter Karl Richter auf der BIA-Liste kandidieren will, beklagt in ihrer abgelesenen, kurzen Rede, dass man nicht mehr „Negerkuss“ sagen dürfe und\\n „dass Zigeunerschnitzel nur als Paprikasoße benannt werden soll (…) Also wer sich da nicht an den Kopf langt und nicht anfängt zu hinterfragen, inwieweit wir unsere Kultur und Bräuche noch zerstören lassen wollen, dem ist wirklich nicht mehr zu helfen.“ \\n\\n\\nAm Schluss fordert Becker in klassisch neonazistischem Duktus: \\n„Habt den Mut und stellt euch der Überfremdung und dem drohenden Volkstod, wählt am 16. März die Bürgerinitiative Ausländerstopp.“\\n Adressat_innen für diesen Aufruf erreicht Becker in Allach nicht. Mehrere Dutzend Nazigegner_innen sorgen für ziemlichen Lärm, so dass die Reden außerhalb des vom USK abgeriegelten Bereichs nicht zu verstehen sind.\\n\\n\\nKarl Richter beginnt seinen Beitrag mit: „Wir haben Ihnen ja vor wenigen Wochen versprochen, wir würden bald wiederkommen.“ Als „gewählter Stadtrat“ führe er seit fast sechs Jahren einen politischen Kampf im Rathaus „alleine gegen die Mafia“. Im Münchner Stadtrat würden alle, was „Asyl- und Zuwanderungspolitik“ angeht, „am gleichen inländerfeindlichen Strick ziehen“. Der stellvertretende NPD-Bundesvorsitzende aus Bogenhausen sagt:\\n „Selbstverständlich gehört jeder, der in Deutschland eingewandert ist und hier straffällig wird, der gehört in das nächste Flugzeug gesetzt und schnurstracks dorthin wieder zurück auf den Weg geschickt, wo er herkommt“.\\n\\n\\nUnd Richter legt weiter los: \\n„Wo kommen wir denn hier, wenn wir auch noch ausländische Straftäter, die in unserem Land nicht das geringste zu suchen haben, durchpäppeln, damit sie sich hier einen feinen Lenz machen.“\\n Dann spricht er noch über das ZIE-M, das laut Richter \\n„völlig überflüssige islamische Großzentrum“\\n. Denn, so Richter, \\n„dann wird künftig eben auch der Muezzin fünfmal am Tag über den Marienplatz und die Fußgängerzone plärren“\\n. Die BIA würde dafür eintreten, \\n„dass München auch von der Optik her, von der inneren Mischung her, auch im 21. Jahrhundert eine deutsche, eine abendländisch-europäisch geprägte Stadt ist“\\n.\\n\\n\\nNachdem die Neonazis die Hornlautsprecher wieder vom Fahrzeug abbauen, fahren sie um 11.25 Uhr unter großem Polizeischutz wieder ab. Am Herzog-Ernst-Platz angekommen, bauen sie mithilfe einer Holzleiter die Tonanlage wieder auf das Fahrzeugdach. Vanessa Becker liest erneut die selbe Rede ab und Karl Richter variiert seine Rede nur leicht.\\n\\n\\nKurz nach halb ein Uhr verlassen die Neonazis wieder Sendling. Von 13.00 bis 13.35 Uhr versammeln sich die Neonazis auf dem Rotkreuzplatz, mittlerweile hat sich u.a. ein weiterer FNS-Aktivist dazugesellt. Hier stehen ihnen Dutzende Antifaschist_innen gegenüber, die jeweiligen Reden, die Becker wieder abliest und Richter diesmal gegen „Zigeuner“ improvisiert, gehen im Protestlärm unter.\\n\\n\\nBei der nächsten Station, dem Josephsplatz in der Maxvorstadt, lässt die Abriegelung der Polizei dann von 14.15 bis 14.45 Uhr keinen größeren, direkten Protest gegen das Nazigrüppchen zu. Mitten in der derzeitigen Großbaustelle erreichen die Neonazis jedoch so gut wie keine Öffentlichkeit.\\n\\n\\nAb 15.05 Uhr (Anmeldung eigentlich: 15.15 Uhr) stellen sich die Neonazis mit ihrem rasssistischen Transparent dann am Rosenheimer Platz auf.\\n\\n\\nVanessa Becker liest erneut ihre Rede ab. Matthias Häuslmann fotografiert Medienvertreter_innen und Protestpublikum. Karl Richter redet über eine \\n„Völkerwanderung aus Bulgarien und Rumänien“\\n. Schließlich hetzt Karl Richter gegen „Roma und Sinti“,\\xa0 man habe vergessen, ihnen zu sagen, \\n„dass man nicht in die Treppenhäuser scheißt“\\n. Zu diesem Zeitpunkt haben sich allerdings wieder viele Nazigegner_innen versammelt, die die Kundgebung ausbuhen und Richters Rede in „Halts Maul“- und „Haut ab“-Parolen völlig untergehen lassen.\\n\\n\\nDie Neonazis fahren auch bereits kurz nach 15.30 Uhr\\xa0 (Ende laut Anmeldung: 15.45 Uhr) zum nächsten Ort.\\n\\n\\nAuch am Goetheplatz, wo sich die Neonazis abschließend am Taxistand versammeln, beginnen die Neonazis (ohne Konsequenzen) ihre Kundgebung zu früh. Nach den nun schon bekannten kurzen Redebeiträgen von Becker und Richter endet die Versammlung gegen 16.20 Uhr.'), ('title', 'Bürgerinitiative Ausländerstopp (BIA) – Kundgebungsserie'), ('date', datetime.datetime(2013, 12, 28, 0, 0)), ('rg_id', 'https://muenchen-chronik.de/28-dezember-2013-buergerinitiative-auslaenderstopp-bia-kundgebungsserie/'), ('url', 'https://muenchen-chronik.de/28-dezember-2013-buergerinitiative-auslaenderstopp-bia-kundgebungsserie/'), ('county', None), ('postal_code', None), ('state', 'Bayern'), ('latitude', None), ('longitude', None), ('address', None), ('orig_county', None), ('orig_city', 'BA 02 Ludwigsvorstadt - Isarvorstadt, BA 04 Schwabing-West, BA 05 Au - Haidhausen, BA 06 Sendling, BA 09 Neuhausen - Nymphenburg, BA 23 Allach - Untermenzing'), ('country', 'Deutschland'), ('orig_address', None), ('district', None)])\n",
      "{'state': 'Bayern', 'country': 'Deutschland'}\n",
      "OrderedDict([('id', 614), ('chronicler_name', 'München Chronik'), ('tags', ''), ('motives', 'Rassismus, Verschwörungsideologien'), ('contexts', 'Brief, Schule/Hochschule/Universität'), ('factums', 'Beleidigung/Beschimpfung/Bedrohung'), ('city', 'Unbekannt'), ('description', 'Ein Schüler wird im Osten Münchens in einem Brief eines Reichsbürgers rassistisch beleidigt und mit dem Tode bedroht. In dem Schreiben beschimpft der Absender den Betroffenen unter anderem als \\n„Kanake“\\n und wirft ihm \\n„Rechtshetze“\\n vor. In typischem Reichsbürgerduktus gibt der Verfasser an, dass die Bundesrepublik kein souveräner Staat sondern eine \\n„BRD Finanzagentur GMbH“ \\nsei, die unverzüglich auf der Grundlage einer neuen Verfassung ersetzt werden müsse. Daher sieht sich er sich ermächtigt, einen\\n „Antrag auf Todesstrafe“\\xa0\\ngegen den Schüler zu verhängen. Seine offene Morddrohung flankiert der Reichsbürger unter anderem mit der Bemerkung: \\n„Demokratie hat eines Tages ihren Preis“\\n.'), ('title', 'Reichsbürger bedroht Schüler'), ('date', datetime.datetime(2013, 10, 22, 0, 0)), ('rg_id', 'https://muenchen-chronik.de/oktober-2013-reichsbuerger-bedroht-schueler/'), ('url', 'https://muenchen-chronik.de/oktober-2013-reichsbuerger-bedroht-schueler/'), ('county', None), ('postal_code', None), ('state', 'Bayern'), ('latitude', None), ('longitude', None), ('address', None), ('orig_county', None), ('orig_city', 'Unbekannt'), ('country', 'Deutschland'), ('orig_address', None), ('district', None)])\n",
      "{'state': 'Bayern', 'country': 'Deutschland'}\n",
      "OrderedDict([('id', 655), ('chronicler_name', 'München Chronik'), ('tags', 'Bürgerinitiative Ausländerstopp München (BIA), Deutsche Stimme, Freie Nationalisten München, Freies Netz Süd (FNS), Karl Richter, Nationaldemokratische Partei Deutschlands (NPD)'), ('motives', 'Eigenwerbung'), ('contexts', 'Internet/Soziale Netzwerke'), ('factums', 'Propagandaaktion'), ('city', 'Unbekannt'), ('description', 'Screenshot: BIA stellt auf Facebook ihren neuen Vorstand vor.\\n\\n\\nDie neonazistische Münchner NPD-Liste „Bürgerinitiative Ausländerstopp“ (BIA) veröffentlicht auf Facebook ihren neu gewählten Vorstand.\\n\\n\\nDer dreiköpfige BIA-Vorstand besteht demnach aus:\\n\\n\\n1. Karl Richter (München), bayerischer NPD-Landesvorsitzender und Chefredakteur der NPD Zeitung „Deutsche Stimme“. Er sitzt derzeit für die BIA im Münchner Stadtrat.\\n\\n\\n2. Roland Wuttke, Aktivist für das neonazistische Kameradschaftsdachverbandes „Freies Netz Süd“ (FNS) und Autor in der NPD-Parteizeitung „Deutsche Stimme“.\\n\\n\\n3. Vanessa Becker (München), die frühere Aktivistin der neonazistischen Kameradschaft „Freie Nationalisten München“ ist im bayerischen Neonazinetzwerk „Freies Netz Süd“ (FNS) aktiv.'), ('title', 'BIA – Neuer Vorstand bekanntgegeben'), ('date', datetime.datetime(2013, 6, 28, 0, 0)), ('rg_id', 'https://muenchen-chronik.de/28-juni-2013-bia-neuer-vorstand-bekanntgegeben/'), ('url', 'https://muenchen-chronik.de/28-juni-2013-bia-neuer-vorstand-bekanntgegeben/'), ('county', None), ('postal_code', None), ('state', 'Bayern'), ('latitude', None), ('longitude', None), ('address', None), ('orig_county', None), ('orig_city', 'Unbekannt'), ('country', 'Deutschland'), ('orig_address', None), ('district', None)])\n",
      "{'state': 'Bayern', 'country': 'Deutschland'}\n"
     ]
    },
    {
     "name": "stderr",
     "output_type": "stream",
     "text": [
      "761it [00:01, 426.03it/s]"
     ]
    },
    {
     "name": "stdout",
     "output_type": "stream",
     "text": [
      "OrderedDict([('id', 717), ('chronicler_name', 'm*power'), ('tags', None), ('motives', None), ('contexts', None), ('factums', None), ('city', 'Heideberg (BaWü)'), ('description', 'Ein Journalist, der regelmäßig von den Aufmärschen in Kandel berichtete, wurde mehrfach bedroht (bspw. durch die Schmiererei an seinem Wohnhaus („[Name des Sohnes des Journalisten] + Papa tötet dich“), an seinem KFZ wurden Nazi-Aufkleber angebracht und die Reifen aufgeschlitzt.'), ('title', None), ('date', datetime.datetime(2019, 4, 25, 0, 0)), ('rg_id', 'mpower-9a942a535c8ced14d5a3dd282b6af415'), ('url', 'https://www.mpower-rlp.de/chronik-der-gewalt/chronik-der-uebergriffe.html'), ('county', None), ('postal_code', None), ('state', 'Rheinland-Pfalz'), ('latitude', None), ('longitude', None), ('address', None), ('orig_county', None), ('orig_city', 'Heideberg (BaWü)'), ('country', 'Deutschland'), ('orig_address', None), ('district', None)])\n",
      "{'state': 'Rheinland-Pfalz', 'country': 'Deutschland'}\n"
     ]
    },
    {
     "name": "stderr",
     "output_type": "stream",
     "text": [
      "1114it [00:02, 426.35it/s]"
     ]
    },
    {
     "name": "stdout",
     "output_type": "stream",
     "text": [
      "OrderedDict([('id', 1038), ('chronicler_name', 'ezra'), ('tags', None), ('motives', None), ('contexts', None), ('factums', None), ('city', None), ('description', 'Nachdem am 24.01. auf dem rechten Portal logr.org ca 35.000 Adressen von Kunden des alternativen Impact Mailorders veröffentlicht wurden, kam es zu mehreren Bedrohungen.'), ('title', 'Bedrohungen nach Nazihack'), ('date', datetime.datetime(2021, 1, 22, 0, 0)), ('rg_id', 'ezra-418'), ('url', 'https://ezra.de/chronik/'), ('county', None), ('postal_code', None), ('state', 'Thüringen'), ('latitude', None), ('longitude', None), ('address', None), ('orig_county', None), ('orig_city', None), ('country', 'Deutschland'), ('orig_address', None), ('district', None)])\n",
      "{'state': 'Thüringen', 'country': 'Deutschland'}\n"
     ]
    },
    {
     "name": "stderr",
     "output_type": "stream",
     "text": [
      "4539it [00:09, 471.57it/s]"
     ]
    },
    {
     "name": "stdout",
     "output_type": "stream",
     "text": [
      "OrderedDict([('id', 4463), ('chronicler_name', 'response.'), ('tags', None), ('motives', 'Rassismus'), ('contexts', None), ('factums', None), ('city', None), ('description', 'Als Jugendliche sich vor einem Haus befanden, warf ein Bewohner aus dem Fenster ein Bierglas und beschimpfte sie rassistisch.'), ('title', 'Aus einem Fenster mit Bierglas beworfen und rassistisch beschimpft'), ('date', datetime.datetime(2019, 1, 1, 0, 0)), ('rg_id', 'response-node-1821'), ('url', 'https://response-hessen.de/chronik?field_motivation_tid=32&page=2'), ('county', None), ('postal_code', None), ('state', 'Hessen'), ('latitude', None), ('longitude', None), ('address', None), ('orig_county', None), ('orig_city', None), ('country', 'Deutschland'), ('orig_address', None), ('district', None)])\n",
      "{'state': 'Hessen', 'country': 'Deutschland'}\n",
      "OrderedDict([('id', 4475), ('chronicler_name', 'response.'), ('tags', None), ('motives', 'gegen politische Gegner*innen'), ('contexts', None), ('factums', None), ('city', None), ('description', 'Infolge einer öffentlichkeitswirksamen Petition wurde der Initiator der Petition und Direktor der Bildungsstätte Anne Frank auf Twitter antisemitisch und in volksverhetzender Weise Beleidigt.'), ('title', 'Hate Speech gegen Direktor der Bildungsstätte Anne Frank'), ('date', datetime.datetime(2018, 9, 20, 0, 0)), ('rg_id', 'response-node-1750'), ('url', 'https://response-hessen.de/chronik?field_motivation_tid=38&page=1'), ('county', None), ('postal_code', None), ('state', 'Hessen'), ('latitude', None), ('longitude', None), ('address', None), ('orig_county', None), ('orig_city', None), ('country', 'Deutschland'), ('orig_address', None), ('district', None)])\n",
      "{'state': 'Hessen', 'country': 'Deutschland'}\n",
      "OrderedDict([('id', 4495), ('chronicler_name', 'response.'), ('tags', None), ('motives', 'gegen politische Gegner*innen'), ('contexts', None), ('factums', None), ('city', None), ('description', ''), ('title', 'Politisch motivierte Körpergewalt gegen Schüler nach AfD- und Gegendemo'), ('date', datetime.datetime(2018, 4, 30, 0, 0)), ('rg_id', 'response-node-1804'), ('url', 'https://response-hessen.de/chronik?field_motivation_tid=38&page=2'), ('county', None), ('postal_code', None), ('state', 'Hessen'), ('latitude', None), ('longitude', None), ('address', None), ('orig_county', None), ('orig_city', None), ('country', 'Deutschland'), ('orig_address', None), ('district', None)])\n",
      "{'state': 'Hessen', 'country': 'Deutschland'}\n",
      "OrderedDict([('id', 4512), ('chronicler_name', 'response.'), ('tags', None), ('motives', 'gegen politische Gegner*innen'), ('contexts', None), ('factums', None), ('city', None), ('description', 'Ein junger Mann wurde aufgrund seines politischen Engagements gegen Rechts am Frankfurter Hauptbahnhof bedroht und eingeschüchtert.\\nEin unbekannter Mann beleidigte und bedrängte ihn mehrfach auch körperlich, weil er einen antifaschistischen Sticker am Rucksack trug.'), ('title', 'Bedrohung und Einschüchterung  gegen politisch Engagierten'), ('date', datetime.datetime(2017, 11, 16, 0, 0)), ('rg_id', 'response-node-1709'), ('url', 'https://response-hessen.de/chronik?field_motivation_tid=38&page=2'), ('county', None), ('postal_code', None), ('state', 'Hessen'), ('latitude', None), ('longitude', None), ('address', None), ('orig_county', None), ('orig_city', None), ('country', 'Deutschland'), ('orig_address', None), ('district', None)])\n",
      "{'state': 'Hessen', 'country': 'Deutschland'}\n"
     ]
    },
    {
     "name": "stderr",
     "output_type": "stream",
     "text": [
      "4638it [00:09, 472.91it/s]"
     ]
    },
    {
     "name": "stdout",
     "output_type": "stream",
     "text": [
      "OrderedDict([('id', 4558), ('chronicler_name', 'response.'), ('tags', None), ('motives', 'antimuslimischer Rassismus'), ('contexts', None), ('factums', None), ('city', 'Islamfeindlichkeit'), ('description', 'Die Antwort der Bundesregierung auf eine Kleine Anfrage zu Islamfeindlichkeit und antimuslimischen Straftaten im ersten Quartal 2017 weist auf einen Vorfall in Hessen hin, bei dem eine Person, bei den Delikten im Themenfeld „islamfeindlich“, verletzt wurde. Der Vorfall wurde dem Phänomenbereich „Politisch Motivierte Kriminalität -rechts„ zugeordnet.'), ('title', 'Gefährliche Körperverletzung'), ('date', datetime.datetime(2017, 1, 10, 0, 0)), ('rg_id', 'response-node-1650'), ('url', 'https://response-hessen.de/chronik?field_motivation_tid=33&page=1'), ('county', None), ('postal_code', None), ('state', 'Hessen'), ('latitude', None), ('longitude', None), ('address', None), ('orig_county', None), ('orig_city', 'Islamfeindlichkeit'), ('country', 'Deutschland'), ('orig_address', None), ('district', None)])\n",
      "{'state': 'Hessen', 'country': 'Deutschland'}\n"
     ]
    },
    {
     "name": "stderr",
     "output_type": "stream",
     "text": [
      "4879it [00:10, 468.94it/s]"
     ]
    },
    {
     "name": "stdout",
     "output_type": "stream",
     "text": [
      "OrderedDict([('id', 4821), ('chronicler_name', 'LEUCHTLINIE'), ('tags', None), ('motives', None), ('contexts', None), ('factums', None), ('city', 'Lahr'), ('description', 'Volksverhetzung § 130 StGB'), ('title', 'Flüchtlingsfeindlicher Angriff auf Person(en)'), ('date', datetime.datetime(2019, 8, 30, 0, 0)), ('rg_id', 'leuchtlinie-6624a106202ec74c2d83305d6f0eeff4'), ('url', 'https://www.leuchtlinie.de/chronik/?page=22'), ('county', None), ('postal_code', None), ('state', 'Baden-Württemberg'), ('latitude', None), ('longitude', None), ('address', None), ('orig_county', None), ('orig_city', 'Lahr'), ('country', 'Deutschland'), ('orig_address', None), ('district', None)])\n",
      "{'state': 'Baden-Württemberg', 'country': 'Deutschland'}\n"
     ]
    },
    {
     "name": "stderr",
     "output_type": "stream",
     "text": [
      "5068it [00:10, 439.49it/s]"
     ]
    },
    {
     "name": "stdout",
     "output_type": "stream",
     "text": [
      "OrderedDict([('id', 4992), ('chronicler_name', 'LEUCHTLINIE'), ('tags', None), ('motives', None), ('contexts', None), ('factums', None), ('city', 'unbekannt'), ('description', 'Eine Person wurde in Folge des Erstellens eines medizinischen Gutachtens durch die begutachtete Person rassistisch beleidigt.\\n\\n\\n\\xa0\\n\\n\\nQuelle: Meldung an Beratungsstelle'), ('title', 'Rassistische Beleidigung'), ('date', datetime.datetime(2019, 4, 1, 0, 0)), ('rg_id', 'leuchtlinie-fddef950f24c89695a6f661abf52a373'), ('url', 'https://www.leuchtlinie.de/chronik/?page=40'), ('county', None), ('postal_code', None), ('state', 'Baden-Württemberg'), ('latitude', None), ('longitude', None), ('address', None), ('orig_county', None), ('orig_city', 'unbekannt'), ('country', 'Deutschland'), ('orig_address', None), ('district', None)])\n",
      "{'state': 'Baden-Württemberg', 'country': 'Deutschland'}\n",
      "OrderedDict([('id', 5073), ('chronicler_name', 'LEUCHTLINIE'), ('tags', None), ('motives', None), ('contexts', None), ('factums', None), ('city', None), ('description', 'Bei der bundesweiten Durchsuchung bei mutmaßlichen Mitgliedern der Gruppierung \"National Socialist Knights of the Ku-Klux-Klan Deutschland\" wurden im Landkreis Rastatt zwei Objekte durchsucht. Insgesamt wurden über 100 (zum großen Teil verbotene) Waffen sichergestellt u.a. Schreckschusswaffen, Schwerter, Macheten, Wurfsterne und Teleskopschlagstöcke. Außerdem wurden Urkunden, Mitglieder- und Beitragslisten, T-Shirts und Symbole der Gruppierung „National Socialist Knights of the Ku-Klux-Klan Deutschland“, elektronische Speichermedien, Computer sowie Mobiltelefone, vorgefunden. Den 17 Beschuldigten im Alter von 17-59 Jahren wird vorgeworfen, eine kriminelle Vereinigung gebildet zu haben.'), ('title', 'Durchsuchungen bei mutmaßlichen Mitgliedern des \"Ku-Klux-Klan\"'), ('date', datetime.datetime(2019, 1, 16, 0, 0)), ('rg_id', 'leuchtlinie-9ab3f66273bba2f8ae23a1f27c68f2e3'), ('url', 'https://www.leuchtlinie.de/chronik/?page=49'), ('county', None), ('postal_code', None), ('state', 'Baden-Württemberg'), ('latitude', None), ('longitude', None), ('address', None), ('orig_county', None), ('orig_city', None), ('country', 'Deutschland'), ('orig_address', None), ('district', None)])\n",
      "{'state': 'Baden-Württemberg', 'country': 'Deutschland'}\n",
      "OrderedDict([('id', 5074), ('chronicler_name', 'LEUCHTLINIE'), ('tags', None), ('motives', None), ('contexts', None), ('factums', None), ('city', None), ('description', 'Bei der bundesweiten Durchsuchung bei mutmaßlichen Mitgliedern der Gruppierung \"National Socialist Knights of the Ku-Klux-Klan Deutschland\" wurde im Rems-Murr-Kreis ein Objekt durchsucht. Insgesamt wurden über 100 (zum großen Teil verbotene) Waffen sichergestellt u.a. Schreckschusswaffen, Schwerter, Macheten, Wurfsterne und Teleskopschlagstöcke. Außerdem wurden Urkunden, Mitglieder- und Beitragslisten, T-Shirts und Symbole der Gruppierung „National Socialist Knights of the Ku-Klux-Klan Deutschland“, elektronische Speichermedien, Computer sowie Mobiltelefone, vorgefunden. Den 17 Beschuldigten im Alter von 17-59 Jahren wird vorgeworfen, eine kriminelle Vereinigung gebildet zu haben.'), ('title', 'Durchsuchungen bei mutmaßlichen Mitgliedern des \"Ku-Klux-Klan\"'), ('date', datetime.datetime(2019, 1, 16, 0, 0)), ('rg_id', 'leuchtlinie-827fed5a4cb77a3856e3d67df5d9e973'), ('url', 'https://www.leuchtlinie.de/chronik/?page=49'), ('county', None), ('postal_code', None), ('state', 'Baden-Württemberg'), ('latitude', None), ('longitude', None), ('address', None), ('orig_county', None), ('orig_city', None), ('country', 'Deutschland'), ('orig_address', None), ('district', None)])\n",
      "{'state': 'Baden-Württemberg', 'country': 'Deutschland'}\n"
     ]
    },
    {
     "name": "stderr",
     "output_type": "stream",
     "text": [
      "5251it [00:11, 437.35it/s]"
     ]
    },
    {
     "name": "stdout",
     "output_type": "stream",
     "text": [
      "OrderedDict([('id', 5172), ('chronicler_name', 'LEUCHTLINIE'), ('tags', None), ('motives', None), ('contexts', None), ('factums', None), ('city', 'Volksverhetzung SS 130 StGB'), ('description', 'Volksverhetzung § 130 StGB'), ('title', 'Islamfeindlich motivierte Straftat'), ('date', datetime.datetime(2018, 9, 1, 0, 0)), ('rg_id', 'leuchtlinie-d136fbea311ad80144ea1f7ccd842b83'), ('url', 'https://www.leuchtlinie.de/chronik/?page=60'), ('county', None), ('postal_code', None), ('state', 'Baden-Württemberg'), ('latitude', None), ('longitude', None), ('address', None), ('orig_county', None), ('orig_city', 'Volksverhetzung SS 130 StGB'), ('country', 'Deutschland'), ('orig_address', None), ('district', None)])\n",
      "{'state': 'Baden-Württemberg', 'country': 'Deutschland'}\n"
     ]
    },
    {
     "name": "stderr",
     "output_type": "stream",
     "text": [
      "5387it [00:11, 441.21it/s]"
     ]
    },
    {
     "name": "stdout",
     "output_type": "stream",
     "text": [
      "OrderedDict([('id', 5312), ('chronicler_name', 'LEUCHTLINIE'), ('tags', None), ('motives', None), ('contexts', None), ('factums', None), ('city', None), ('description', 'Volksverhetzung § 130 StGB'), ('title', 'Straftat gegen Geflüchtete'), ('date', datetime.datetime(2018, 5, 7, 0, 0)), ('rg_id', 'leuchtlinie-c49c1c2fd6d74ee16476864884f384d7'), ('url', 'https://www.leuchtlinie.de/chronik/?page=75'), ('county', None), ('postal_code', None), ('state', 'Baden-Württemberg'), ('latitude', None), ('longitude', None), ('address', None), ('orig_county', None), ('orig_city', None), ('country', 'Deutschland'), ('orig_address', None), ('district', None)])\n",
      "{'state': 'Baden-Württemberg', 'country': 'Deutschland'}\n"
     ]
    },
    {
     "name": "stderr",
     "output_type": "stream",
     "text": [
      "5712it [00:12, 423.39it/s]"
     ]
    },
    {
     "name": "stdout",
     "output_type": "stream",
     "text": [
      "OrderedDict([('id', 5646), ('chronicler_name', 'Kleine Randnotiz'), ('tags', None), ('motives', 'Faschismus / NS'), ('contexts', None), ('factums', 'Verwendung verfassungsfeindlicher Kennzeichen, Sachbeschädigung, Propagandadelikt'), ('city', 'Niederblockland'), ('description', 'Unbekannte Täter*innen schmieren ein faschistisches Symbol in Bremen-Blockland.\\n\\nAufmerksame Passant*innen entdecken am 22.10.20 ein faschistisches Symbol in Form eines Hakenkreuzes im öffentlichen Raum in Bremen-Blockland. Unbekannte Täter*innen sprühen die verhetzende Inhalte auf die Fahrbahn in der Blocklander Hemmstraße, der exakte Tatzeitpunkt ist unklar.\\nOrt: Bremen-Blockland'), ('title', 'Hakenkreuz auf Straße gesprüht'), ('date', datetime.datetime(2020, 10, 22, 0, 0)), ('rg_id', 'kleinerandnotiz-222'), ('url', None), ('county', None), ('postal_code', '28357'), ('state', 'Bremen'), ('latitude', '53.1228'), ('longitude', '8.80736'), ('address', 'Blocklander Hemmstraße'), ('orig_county', None), ('orig_city', 'Niederblockland'), ('country', 'Deutschland'), ('orig_address', 'Blocklander Hemmstraße'), ('district', None)])\n",
      "{'state': 'Bremen', 'country': 'Deutschland'}\n"
     ]
    },
    {
     "name": "stderr",
     "output_type": "stream",
     "text": [
      "6265it [00:13, 459.80it/s]"
     ]
    },
    {
     "name": "stdout",
     "output_type": "stream",
     "text": [
      "OrderedDict([('id', 6175), ('chronicler_name', 'Mobile Opferberatung'), ('tags', None), ('motives', None), ('contexts', None), ('factums', None), ('city', 'Gorau'), ('description', 'In einem Garagenkomplex der Ortslage Gorau werden zwei 17-jährige Alternative von vier offensichtlichen Rechten herumgeschubst, geschlagen und als „Zeckenschweine“ beleidigt. Einer der Betroffenen muss mit Schwellungen im Gesicht und am Oberkörper behandelt werden. Anwohner rufen die Polizei.'), ('title', None), ('date', datetime.datetime(2007, 12, 23, 0, 0)), ('rg_id', 'mobile-opferberatung-a10d62daa23594df92c9704e1606dcfc'), ('url', 'http://www.mobile-opferberatung.de/monitoring/chronik2007/'), ('county', None), ('postal_code', None), ('state', 'Sachsen-Anhalt'), ('latitude', None), ('longitude', None), ('address', None), ('orig_county', None), ('orig_city', 'Gorau'), ('country', 'Deutschland'), ('orig_address', None), ('district', None)])\n",
      "{'state': 'Sachsen-Anhalt', 'country': 'Deutschland'}\n"
     ]
    },
    {
     "name": "stderr",
     "output_type": "stream",
     "text": [
      "6840it [00:14, 459.23it/s]"
     ]
    },
    {
     "name": "stdout",
     "output_type": "stream",
     "text": [
      "OrderedDict([('id', 6790), ('chronicler_name', 'Mobile Opferberatung'), ('tags', None), ('motives', None), ('contexts', None), ('factums', None), ('city', None), ('description', 'Zwei Männer beschimpfen gegen 19 Uhr in einer Straßenbahn an der Vogelweide einen 35-jährigen Mann aus Libyen. Als dieser am Marktplatz umsteigen will, schlagen die Unbekannten ihm gegen den Oberkörper. Dann versucht der 35-Jährige gleichzeitig mit den Angreifern in eine andere Bahn einzusteigen, wird aber von den beiden aus dem Fahrzeug gestoßen. Der Betroffene bleibt unverletzt. Der polizeiliche Staatsschutz ermittelt.'), ('title', None), ('date', datetime.datetime(2015, 9, 22, 0, 0)), ('rg_id', 'mobile-opferberatung-ca0dee4be1029c2ab24cdea755b88086'), ('url', 'http://www.mobile-opferberatung.de/monitoring/chronik2015/'), ('county', None), ('postal_code', None), ('state', 'Sachsen-Anhalt'), ('latitude', None), ('longitude', None), ('address', None), ('orig_county', None), ('orig_city', None), ('country', 'Deutschland'), ('orig_address', None), ('district', None)])\n",
      "{'state': 'Sachsen-Anhalt', 'country': 'Deutschland'}\n"
     ]
    },
    {
     "name": "stderr",
     "output_type": "stream",
     "text": [
      "10256it [00:22, 454.34it/s]"
     ]
    },
    {
     "name": "stdout",
     "output_type": "stream",
     "text": [
      "OrderedDict([('id', 10208), ('chronicler_name', 'RAA Sachsen'), ('tags', None), ('motives', None), ('contexts', None), ('factums', None), ('city', 'Dresden, Dresdner Heide'), ('description', 'Auf einem Feld in der Dresdner Heide, in der Nähe des Hammerweges, haben Unbekannte aus mehreren faustgroßen Steinen ein Hakenkreuz gelegt. Dieses hatte eine Größe von 6,50m x 6,80m. Die Kriminalpolizei hat die weiteren Ermittlungen übernommen.'), ('title', 'Hakenkreuz aus Steinen gelegt'), ('date', datetime.datetime(2013, 12, 23, 0, 0)), ('rg_id', 'https://www.raa-sachsen.de/support/chronik/vorfaelle/dresdner-heide-3485'), ('url', 'https://www.raa-sachsen.de/support/chronik/vorfaelle/dresdner-heide-3485'), ('county', None), ('postal_code', None), ('state', 'Sachsen'), ('latitude', None), ('longitude', None), ('address', None), ('orig_county', None), ('orig_city', 'Dresden, Dresdner Heide'), ('country', 'Deutschland'), ('orig_address', None), ('district', None)])\n",
      "{'state': 'Sachsen', 'country': 'Deutschland'}\n"
     ]
    },
    {
     "name": "stderr",
     "output_type": "stream",
     "text": [
      "15994it [00:34, 458.79it/s]\n"
     ]
    }
   ],
   "source": [
    "for x in tqdm(tab_incidents.all()):\n",
    "    real_lat, real_long = x['latitude'], x['longitude']\n",
    "    x_query = {name: x[name] for name in [\"state\", \"country\"]}\n",
    "    row_loc = tab_loc.find_one(\n",
    "        query_county=x[\"orig_county\"],\n",
    "        query_city=x[\"orig_city\"],\n",
    "        query_address=x[\"address\"],\n",
    "        **x_query\n",
    "    )\n",
    "    if row_loc is None:\n",
    "        row_loc = tab_loc.find_one(\n",
    "            query_county=x[\"county\"],\n",
    "            query_city=x[\"orig_city\"],\n",
    "            query_address=x[\"address\"],\n",
    "            **x_query\n",
    "        )\n",
    "        if row_loc is None:\n",
    "            row_loc = tab_loc.find_one(\n",
    "                query_county=x[\"orig_county\"],\n",
    "                query_city=x[\"city\"],\n",
    "                query_address=x[\"address\"],\n",
    "                **x_query\n",
    "            )\n",
    "            if row_loc is None:\n",
    "                row_loc = tab_loc.find_one(\n",
    "                    query_county=x[\"county\"],\n",
    "                    query_city=x[\"city\"],\n",
    "                    query_address=x[\"address\"],\n",
    "                    **x_query\n",
    "                )\n",
    "                if row_loc is None:\n",
    "                    print(x)\n",
    "                    print(x_query)\n",
    "                    continue\n",
    "    row_loc_geo = {\n",
    "        name: row_loc[name]\n",
    "        for name in [\n",
    "            \"latitude\",\n",
    "            \"longitude\",\n",
    "            \"postal_code\",\n",
    "            \"street\",\n",
    "            \"house_number\",\n",
    "            \"district\",\n",
    "            \"city\",\n",
    "            \"county\",\n",
    "            \"state\",\n",
    "            \"country\",\n",
    "        ]\n",
    "    }\n",
    "\n",
    "    if real_lat is not None and real_long is not None:\n",
    "        row_loc_geo['latitude'] = real_lat\n",
    "        row_loc_geo['longitude'] = real_long\n",
    "        print('added again!')\n",
    "        print(x)\n",
    "\n",
    "    merged = {**x, **row_loc_geo}\n",
    "    tab_incidents.update(merged, [\"id\"])"
   ]
  },
  {
   "cell_type": "code",
   "execution_count": null,
   "metadata": {},
   "outputs": [],
   "source": []
  },
  {
   "cell_type": "code",
   "execution_count": 26,
   "metadata": {},
   "outputs": [],
   "source": [
    "# we are using the final output locations of the incidents because we actually manupulated / discared some locations (if there already had a geolocation)\n",
    "final_loc = list(\n",
    "    tab_incidents.distinct(\n",
    "        *[\n",
    "            \"latitude\",\n",
    "            \"longitude\",\n",
    "            \"postal_code\",\n",
    "            \"street\",\n",
    "            \"house_number\",\n",
    "            \"district\",\n",
    "            \"city\",\n",
    "            \"county\",\n",
    "            \"state\",\n",
    "            \"country\",\n",
    "        ]\n",
    "    )\n",
    ")"
   ]
  },
  {
   "cell_type": "code",
   "execution_count": 27,
   "metadata": {},
   "outputs": [
    {
     "data": {
      "text/plain": [
       "2049"
      ]
     },
     "execution_count": 27,
     "metadata": {},
     "output_type": "execute_result"
    }
   ],
   "source": [
    "len(final_loc)"
   ]
  },
  {
   "cell_type": "code",
   "execution_count": 28,
   "metadata": {},
   "outputs": [],
   "source": [
    "tab_loc.drop()"
   ]
  },
  {
   "cell_type": "code",
   "execution_count": 29,
   "metadata": {},
   "outputs": [],
   "source": [
    "# tab_loc_final = db['locations_final']\n",
    "tab_loc.insert_many(final_loc)"
   ]
  },
  {
   "cell_type": "code",
   "execution_count": 30,
   "metadata": {},
   "outputs": [
    {
     "data": {
      "text/plain": [
       "2049"
      ]
     },
     "execution_count": 30,
     "metadata": {},
     "output_type": "execute_result"
    }
   ],
   "source": [
    "len(list(tab_loc.all()))"
   ]
  },
  {
   "cell_type": "code",
   "execution_count": null,
   "metadata": {},
   "outputs": [],
   "source": []
  }
 ],
 "metadata": {
  "kernelspec": {
   "display_name": "Python 3",
   "language": "python",
   "name": "python3"
  },
  "language_info": {
   "codemirror_mode": {
    "name": "ipython",
    "version": 3
   },
   "file_extension": ".py",
   "mimetype": "text/x-python",
   "name": "python",
   "nbconvert_exporter": "python",
   "pygments_lexer": "ipython3",
   "version": "3.9.1"
  }
 },
 "nbformat": 4,
 "nbformat_minor": 4
}