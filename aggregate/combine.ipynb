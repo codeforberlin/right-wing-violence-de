{
 "cells": [
  {
   "cell_type": "markdown",
   "metadata": {},
   "source": [
    "# Combine and Clean Data Sources\n",
    "\n",
    "This notbook is used to combine all data in to a single Sqlite database. The cleaning evolved heavily so at some point, all this cleaning should be refactored into a seperate module."
   ]
  },
  {
   "cell_type": "code",
   "execution_count": 1,
   "metadata": {},
   "outputs": [],
   "source": [
    "%load_ext lab_black"
   ]
  },
  {
   "cell_type": "code",
   "execution_count": 2,
   "metadata": {},
   "outputs": [],
   "source": [
    "from pathlib import Path\n",
    "import json\n",
    "import gettext\n",
    "\n",
    "from cleantext import clean\n",
    "import dataset\n",
    "import requests\n",
    "import pycountry\n",
    "from tqdm import tqdm\n",
    "from datetime import date, datetime"
   ]
  },
  {
   "cell_type": "code",
   "execution_count": 3,
   "metadata": {},
   "outputs": [],
   "source": [
    "german = gettext.translation(\"iso3166\", pycountry.LOCALES_DIR, languages=[\"de\"])\n",
    "german.install()"
   ]
  },
  {
   "cell_type": "markdown",
   "metadata": {},
   "source": [
    "## Manual Fixes\n",
    "\n",
    "There are sometimes errors in the data. Since each incident has a uniquie id, fix it here."
   ]
  },
  {
   "cell_type": "code",
   "execution_count": 5,
   "metadata": {},
   "outputs": [],
   "source": [
    "manual_fixes = {\n",
    "    \"ca0dee4be1029c2ab24cdea755b88086\": {\"city\": \"Halle (Saale)\"},\n",
    "    \"https://www.raa-sachsen.de/support/chronik/vorfaelle/bon-courage-fassungslos-ueber-naziuebergriffe-auf-dem-bornaer-stadtfest-3219\": {\n",
    "        \"city\": \"Borna\"\n",
    "    },\n",
    "    \"a10d62daa23594df92c9704e1606dcfc\": {\n",
    "        \"city\": \"Oranienbaum-Wörlitz\",\n",
    "        \"county\": \"Wittenberg\",\n",
    "    },\n",
    "    \"000dad6aace24b3d8ebae940a8de8e72\": {\"city\": \"Dessau\"},\n",
    "    \"https://www.raa-sachsen.de/support/chronik/vorfaelle/goerlitz-2779\": {\n",
    "        \"date\": date(2010, 11, 14)\n",
    "    },\n",
    "    \"https://www.raa-sachsen.de/support/chronik/vorfaelle/leipzig-reudnitz-4976\": {\n",
    "        \"date\": date(2020, 11, 13)\n",
    "    },\n",
    "}"
   ]
  },
  {
   "cell_type": "markdown",
   "metadata": {},
   "source": [
    "## Valid Regions\n",
    "\n",
    "Taken regions.json from <https://github.com/datenguide/metadata>\n",
    "\n",
    "These files contains a list of all valid regios. If a region is not in there, filter it out. This greatly the performance of the geocoding api. It's not optimal that we acutlaly throw this information await. This information should be kept actually. (TODO)"
   ]
  },
  {
   "cell_type": "code",
   "execution_count": 8,
   "metadata": {},
   "outputs": [],
   "source": [
    "with open(\"regions.json\") as json_file:\n",
    "    regions = json.load(json_file)\n",
    "\n",
    "regions = list(regions.values())\n",
    "regions_counties = [x for x in regions if x[\"level\"] == 3]\n",
    "\n",
    "def is_valid_county(county):\n",
    "    return (\n",
    "        len(\n",
    "            [\n",
    "                x\n",
    "                for x in regions_counties\n",
    "                if x[\"name\"].startswith(county)\n",
    "                and x[\"duration\"][\"until\"] == \"2019-12-31T00:00:00.000Z\"\n",
    "            ]\n",
    "        )\n",
    "        != 0\n",
    "    )"
   ]
  },
  {
   "cell_type": "markdown",
   "metadata": {},
   "source": [
    "Read it some secrets later needed to comunicate with an internal API"
   ]
  },
  {
   "cell_type": "code",
   "execution_count": 9,
   "metadata": {},
   "outputs": [],
   "source": [
    "auth = tuple(Path(\"secrets.txt\").read_text().split()[1:])"
   ]
  },
  {
   "cell_type": "code",
   "execution_count": 10,
   "metadata": {},
   "outputs": [
    {
     "name": "stdout",
     "output_type": "stream",
     "text": [
      "data/mobile-opferberatung-scraper.db\n",
      "data/raa-sachsen-scraper.db\n",
      "data/opferperspektive-scraper.db\n"
     ]
    }
   ],
   "source": [
    "all_incidents = []\n",
    "all_src = []\n",
    "all_chronicle = []\n",
    "\n",
    "for p in Path(\"data\").glob(\"*.db\"):\n",
    "    print(p)\n",
    "    db = dataset.connect(\"sqlite:///\" + str(p))\n",
    "    all_incidents += db[\"incidents\"].all()\n",
    "    all_src += db[\"sources\"].all()\n",
    "    all_chronicle += db[\"chronicle\"].all()"
   ]
  },
  {
   "cell_type": "code",
   "execution_count": 11,
   "metadata": {},
   "outputs": [],
   "source": [
    "for x in all_chronicle:\n",
    "    if \"region\" in x and len(x[\"region\"]) > 0:\n",
    "        continue\n",
    "    if \"iso3166_2\" in x and x[\"iso3166_2\"] != None and len(x[\"iso3166_2\"]) > 0:\n",
    "        x[\"region\"] = pycountry.subdivisions.get(code=x[\"iso3166_2\"]).name\n",
    "    elif \"iso3166_1\" in x and x[\"iso3166_1\"] != None and len(x[\"iso3166_1\"]) > 0:\n",
    "        x[\"region\"] = pycountry.countries.get(alpha_2=x[\"iso3166_1\"]).name\n",
    "    else:\n",
    "        raise ValueError(\"Need to specify region somehow\")"
   ]
  },
  {
   "cell_type": "code",
   "execution_count": 12,
   "metadata": {},
   "outputs": [],
   "source": [
    "# only using date (and without time (hour/minute)) for now\n",
    "\n",
    "def ensure_date(x):\n",
    "    if x is None:\n",
    "        return x\n",
    "    if isinstance(x, datetime):\n",
    "        return x.date()\n",
    "    elif isinstance(x, date):\n",
    "        return x\n",
    "    ValueError(\"neither date or datetime\")\n",
    "\n",
    "for row in all_src:\n",
    "    if \"date\" in row:\n",
    "        row[\"date\"] = ensure_date(row[\"date\"])\n",
    "    else:\n",
    "        row[\"date\"] = None"
   ]
  },
  {
   "cell_type": "code",
   "execution_count": 13,
   "metadata": {},
   "outputs": [],
   "source": [
    "db = dataset.connect(\"sqlite:///rechtegewalt.db\")\n",
    "\n",
    "tab_incidents = db[\"incidents\"]\n",
    "tab_incidents.insert_many(all_incidents)\n",
    "\n",
    "tab_src = db[\"sources\"]\n",
    "tab_src.insert_many(all_src)\n",
    "\n",
    "tab_chro = db[\"chronicles\"]\n",
    "tab_chro.insert_many(all_chronicle)\n",
    "\n",
    "tab_incidents.create_index([\"rg_id\"])\n",
    "tab_src.create_index([\"rg_id\"])\n",
    "\n",
    "tab_incidents.create_index([\"id\"])"
   ]
  },
  {
   "cell_type": "code",
   "execution_count": 14,
   "metadata": {},
   "outputs": [],
   "source": [
    "def add_state_country(row):\n",
    "    chro = tab_chro.find_one(chronicler_name=row[\"chronicler_name\"])\n",
    "    sub = pycountry.subdivisions.get(code=chro[\"iso3166_2\"])\n",
    "    row[\"state\"] = sub.name\n",
    "    row[\"country\"] = _(sub.country.name)\n",
    "    return row"
   ]
  },
  {
   "cell_type": "code",
   "execution_count": 14,
   "metadata": {},
   "outputs": [],
   "source": [
    "county_words = [\"Landkreis\", \"Landkeis\", \"Kreis\", \"LK\"]\n",
    "\n",
    "def clean_county(x):\n",
    "    if x is None or x == \"None\":\n",
    "        return None\n",
    "    x = clean_string(x)\n",
    "\n",
    "    for w in county_words:\n",
    "        w += \" \"\n",
    "        if x.startswith(w):\n",
    "            x = x[len(w) :]\n",
    "\n",
    "    if not is_valid_county(x):\n",
    "        print(\"removing\", x)\n",
    "        return None\n",
    "    return x\n",
    "\n",
    "def clean_city(x):\n",
    "    x = clean_string(x)\n",
    "    if x is None:\n",
    "        return None\n",
    "    assert len(x) > 0\n",
    "    return x\n",
    "\n",
    "def clean_string(x):\n",
    "    x = clean(x, lang=\"de\", lower=False)\n",
    "    if len(x) == 0:\n",
    "        return None\n",
    "    return x"
   ]
  },
  {
   "cell_type": "code",
   "execution_count": 17,
   "metadata": {},
   "outputs": [],
   "source": [
    "def fill_missing_county():\n",
    "    statement = \"SELECT * FROM incidents GROUP BY city, state having count(*) > 1\"\n",
    "    for row in db.query(statement):\n",
    "        dupli = list(tab_incidents.find(city=row[\"city\"], state=row[\"state\"]))\n",
    "        county_can = []\n",
    "        contains_none = False\n",
    "        for d in dupli:\n",
    "            if d[\"county\"] is not None:\n",
    "                county_can.append(d[\"county\"])\n",
    "            else:\n",
    "                contains_none = True\n",
    "\n",
    "        unique_can = list(set(county_can))\n",
    "        if contains_none and len(unique_can) == 1:\n",
    "            tab_incidents.update(\n",
    "                {\"city\": row[\"city\"], \"county\": unique_can[0]}, [\"city\"]\n",
    "            )\n",
    "            print(unique_can)"
   ]
  },
  {
   "cell_type": "code",
   "execution_count": 18,
   "metadata": {},
   "outputs": [
    {
     "name": "stderr",
     "output_type": "stream",
     "text": [
      "93it [00:00, 407.45it/s]"
     ]
    },
    {
     "name": "stdout",
     "output_type": "stream",
     "text": [
      "removing Anhalt-Zerbst\n",
      "removing Bördekreis\n",
      "removing Ohrekreis\n",
      "removing Anhalt-Zerbst\n",
      "removing Anhalt-Zerbst\n",
      "removing Anhalt-Zerbst\n",
      "removing Regionalexpress nach Berlin über Bitterfeld\n",
      "removing Ohrekreis\n",
      "removing Merseburg-Querfurt\n",
      "removing Bitterfeld\n",
      "removing Ohrekreis\n",
      "removing Halberstadt\n",
      "removing Ohrekreis\n",
      "removing Anhalt-Zerbst\n"
     ]
    },
    {
     "name": "stderr",
     "output_type": "stream",
     "text": [
      "208it [00:00, 477.69it/s]"
     ]
    },
    {
     "name": "stdout",
     "output_type": "stream",
     "text": [
      "removing Mansfelder Land\n",
      "removing Mansfelder Land\n",
      "removing Köthen\n",
      "removing Wernigerode\n",
      "removing Verwaltungsgemeinschaft\n",
      "removing Schönebeck\n",
      "removing Bördekreis\n"
     ]
    },
    {
     "name": "stderr",
     "output_type": "stream",
     "text": [
      "308it [00:00, 481.50it/s]"
     ]
    },
    {
     "name": "stdout",
     "output_type": "stream",
     "text": [
      "removing Merseburg-Querfurt\n",
      "removing Ohrekreis\n",
      "removing Wernigerode\n",
      "removing Köthen\n",
      "removing Schönebeck\n",
      "removing Saalkreis\n",
      "removing Köthen\n"
     ]
    },
    {
     "name": "stderr",
     "output_type": "stream",
     "text": [
      "527it [00:01, 528.07it/s]"
     ]
    },
    {
     "name": "stdout",
     "output_type": "stream",
     "text": [
      "removing Bördekreis\n",
      "removing Querfurt\n"
     ]
    },
    {
     "name": "stderr",
     "output_type": "stream",
     "text": [
      "903it [00:01, 518.09it/s]"
     ]
    },
    {
     "name": "stdout",
     "output_type": "stream",
     "text": [
      "removing Mansfeld Südharz\n",
      "removing Mansfeld Südharz\n"
     ]
    },
    {
     "name": "stderr",
     "output_type": "stream",
     "text": [
      "1122it [00:02, 535.89it/s]"
     ]
    },
    {
     "name": "stdout",
     "output_type": "stream",
     "text": [
      "removing Desssau-Roßlau\n"
     ]
    },
    {
     "name": "stderr",
     "output_type": "stream",
     "text": [
      "6107it [00:11, 527.78it/s]"
     ]
    },
    {
     "name": "stdout",
     "output_type": "stream",
     "text": [
      "removing Uckemark\n"
     ]
    },
    {
     "name": "stderr",
     "output_type": "stream",
     "text": [
      "8349it [00:15, 530.42it/s]\n"
     ]
    }
   ],
   "source": [
    "# clean location text because there were still some errors\n",
    "for x in tqdm(tab_incidents.all()):\n",
    "    if x[\"rg_id\"] in manual_fixes:\n",
    "        x = {**x, **manual_fixes[x[\"rg_id\"]]}\n",
    "\n",
    "    x[\"orig_county\"] = clean_string(x[\"county\"])\n",
    "    x[\"orig_city\"] = clean_string(x[\"city\"])\n",
    "\n",
    "    x[\"county\"] = clean_county(x[\"county\"])\n",
    "    x[\"city\"] = clean_string(x[\"city\"])\n",
    "\n",
    "    x = add_state_country(x)\n",
    "\n",
    "    if x[\"date\"] is None:\n",
    "        print(x)\n",
    "        raise ValueError\n",
    "\n",
    "    # ignore older data\n",
    "    if x[\"date\"].year < 1990:\n",
    "        tab_incidents.delete(id=x[\"id\"])\n",
    "\n",
    "    x[\"date\"] = ensure_date(x[\"date\"])\n",
    "\n",
    "    #   manual fix\n",
    "    if x[\"city\"] == \"Zerbst\" and x[\"state\"] == \"Sachsen-Anhalt\":\n",
    "        x[\"city\"] = \"Zerbst/Anhalt\"\n",
    "\n",
    "    tab_incidents.update(x, [\"id\"])"
   ]
  },
  {
   "cell_type": "code",
   "execution_count": 19,
   "metadata": {},
   "outputs": [],
   "source": [
    "# fill_missing_county()"
   ]
  },
  {
   "cell_type": "code",
   "execution_count": 3,
   "metadata": {},
   "outputs": [],
   "source": [
    "def geocode_all():\n",
    "    statement = \"SELECT DISTINCT city, county, state, country FROM incidents\"\n",
    "    subs = list(db.query(statement))\n",
    "    \n",
    "    # the geocoding api has problems with Leipzig as County. (There is a Landkreis Leipzig and a seperate City Leipzig)\n",
    "    removed_counties_with_ids = []\n",
    "    for i, x in enumerate(subs):\n",
    "        print(i)\n",
    "        if x['county'] == 'Leipzig':\n",
    "            removed_county = x.pop('county')\n",
    "            x['county'] = None\n",
    "            removed_counties_with_ids.append([removed_county, i])\n",
    "            \n",
    "            \n",
    "    r = requests.post(\n",
    "        \"https://geocode.app.vis.one/\",\n",
    "        auth=auth,\n",
    "        json={\"provider\": \"here\", \"locations\": [{\"query\": dict(x)} for x in subs]},\n",
    "    )\n",
    "    r.raise_for_status()\n",
    "    subs_location = r.json()[\"locations\"]\n",
    "    \n",
    "    # add back county since it was correct\n",
    "    for x, i in removed_counties_with_ids:\n",
    "        print(x)\n",
    "        subs_location[i]['county'] = x \n",
    "\n",
    "    return subs_location"
   ]
  },
  {
   "cell_type": "code",
   "execution_count": 21,
   "metadata": {},
   "outputs": [],
   "source": [
    "subs_location = geocode_all()"
   ]
  },
  {
   "cell_type": "code",
   "execution_count": 22,
   "metadata": {},
   "outputs": [
    {
     "data": {
      "text/plain": [
       "{'city': 'Halle (Saale)',\n",
       " 'country': 'Deutschland',\n",
       " 'county': 'Halle (Saale)',\n",
       " 'district': None,\n",
       " 'house_number': None,\n",
       " 'latitude': 51.4822,\n",
       " 'longitude': 11.97494,\n",
       " 'postal_code': '06108',\n",
       " 'query': {'city': 'Halle (Saale)',\n",
       "  'country': 'Deutschland',\n",
       "  'county': None,\n",
       "  'state': 'Sachsen-Anhalt'},\n",
       " 'state': 'Sachsen-Anhalt',\n",
       " 'street': None}"
      ]
     },
     "execution_count": 22,
     "metadata": {},
     "output_type": "execute_result"
    }
   ],
   "source": [
    "subs_location[0]"
   ]
  },
  {
   "cell_type": "code",
   "execution_count": 23,
   "metadata": {},
   "outputs": [],
   "source": [
    "def geocode_second(subs_location):\n",
    "    second_check = []\n",
    "    second_check_ids = []\n",
    "\n",
    "    for i, x in enumerate(subs_location):\n",
    "        if len(x) == 1 and \"county\" in x[\"query\"] and x[\"query\"][\"county\"] is not None:\n",
    "            x[\"query\"][\"city\"] = x[\"query\"][\"city\"] + \", \" + x[\"query\"][\"county\"]\n",
    "            x[\"query\"][\"county\"] = None\n",
    "            second_check.append(x)\n",
    "            second_check_ids.append(i)\n",
    "\n",
    "    print(len(second_check))\n",
    "    if len(second_check) == 0:\n",
    "        return subs_location\n",
    "    r = requests.post(\n",
    "        \"https://geocode.app.vis.one/\",\n",
    "        auth=auth,\n",
    "        json={\n",
    "            \"provider\": \"here\",\n",
    "            \"locations\": [{\"query\": x[\"query\"]} for x in second_check],\n",
    "        },\n",
    "    )\n",
    "    r.raise_for_status()\n",
    "\n",
    "    for i, x in enumerate(r.json()[\"locations\"]):\n",
    "        if len(x) != 1:\n",
    "            subs_location[second_check_ids[i]] = x\n",
    "            print(\"found!\", x)\n",
    "    return subs_location"
   ]
  },
  {
   "cell_type": "code",
   "execution_count": 24,
   "metadata": {},
   "outputs": [],
   "source": [
    "# not used right now?\n",
    "# subs_location = geocode_second(subs_location)"
   ]
  },
  {
   "cell_type": "code",
   "execution_count": 25,
   "metadata": {},
   "outputs": [
    {
     "name": "stdout",
     "output_type": "stream",
     "text": [
      "error here, deleting for now {'query': {'city': 'Dresden, Dresdner Heide', 'country': 'Deutschland', 'county': None, 'state': 'Sachsen'}}\n"
     ]
    }
   ],
   "source": [
    "good_locations = []\n",
    "\n",
    "for x in subs_location:\n",
    "    if len(x) == 1:\n",
    "        print(\"error here, deleting for now\", x)\n",
    "    #         tab_incidents.delete(**x['query'])\n",
    "    else:\n",
    "        #         rename\n",
    "        query = x.pop(\"query\")\n",
    "        x[\"query_county\"] = query[\"county\"]\n",
    "        x[\"query_city\"] = query[\"city\"]\n",
    "        good_locations.append(x)"
   ]
  },
  {
   "cell_type": "code",
   "execution_count": 26,
   "metadata": {},
   "outputs": [],
   "source": [
    "tab_loc = db[\"locations\"]\n",
    "tab_loc.insert_many(good_locations)"
   ]
  },
  {
   "cell_type": "code",
   "execution_count": 27,
   "metadata": {},
   "outputs": [],
   "source": [
    "tab_loc.create_index([\"id\"])"
   ]
  },
  {
   "cell_type": "markdown",
   "metadata": {},
   "source": [
    "## Merging Locations\n",
    "\n",
    "We are trying out several ways to merge the location with geolocation back to the old without. Since we maniputlated the county etc., we have to try varioous ways how to merge. This should get improved (TDOO)\n",
    "\n",
    "\n",
    "Not really sure whether a seperate table for location is needed. It was introduced because in some cases, multiple locations are associated with incident."
   ]
  },
  {
   "cell_type": "code",
   "execution_count": 28,
   "metadata": {},
   "outputs": [
    {
     "name": "stderr",
     "output_type": "stream",
     "text": [
      "4324it [00:08, 542.74it/s]"
     ]
    },
    {
     "name": "stdout",
     "output_type": "stream",
     "text": [
      "OrderedDict([('id', 4240), ('description', 'Auf einem Feld in der Dresdner Heide, in der Nähe des Hammerweges, haben Unbekannte aus mehreren faustgroßen Steinen ein Hakenkreuz gelegt. Dieses hatte eine Größe von 6,50m x 6,80m. Die Kriminalpolizei hat die weiteren Ermittlungen übernommen.'), ('date', datetime.datetime(2013, 12, 23, 0, 0)), ('url', 'https://www.raa-sachsen.de/support/chronik/vorfaelle/dresdner-heide-3485'), ('rg_id', 'https://www.raa-sachsen.de/support/chronik/vorfaelle/dresdner-heide-3485'), ('city', 'Dresden, Dresdner Heide'), ('county', None), ('chronicler_name', 'RAA Sachsen'), ('title', 'Hakenkreuz aus Steinen gelegt'), ('orig_county', None), ('orig_city', 'Dresden, Dresdner Heide'), ('state', 'Sachsen'), ('country', 'Deutschland')])\n",
      "{'state': 'Sachsen', 'country': 'Deutschland'}\n"
     ]
    },
    {
     "name": "stderr",
     "output_type": "stream",
     "text": [
      "8348it [00:15, 523.95it/s]\n"
     ]
    }
   ],
   "source": [
    "for x in tqdm(tab_incidents.all()):\n",
    "    x_query = {name: x[name] for name in [\"state\", \"country\"]}\n",
    "    row_loc = tab_loc.find_one(\n",
    "        query_county=x[\"orig_county\"], query_city=x[\"orig_city\"], **x_query\n",
    "    )\n",
    "    if row_loc is None:\n",
    "        row_loc = tab_loc.find_one(\n",
    "            query_county=x[\"county\"], query_city=x[\"orig_city\"], **x_query\n",
    "        )\n",
    "        if row_loc is None:\n",
    "            row_loc = tab_loc.find_one(\n",
    "                query_county=x[\"orig_county\"], query_city=x[\"city\"], **x_query\n",
    "            )\n",
    "            if row_loc is None:\n",
    "                row_loc = tab_loc.find_one(\n",
    "                    query_county=x[\"county\"], query_city=x[\"city\"], **x_query\n",
    "                )\n",
    "                if row_loc is None:\n",
    "                    print(x)\n",
    "                    print(x_query)\n",
    "                    continue\n",
    "    row_loc_geo = {\n",
    "        name: row_loc[name]\n",
    "        for name in [\n",
    "            \"latitude\",\n",
    "            \"longitude\",\n",
    "            \"postal_code\",\n",
    "            \"street\",\n",
    "            \"house_number\",\n",
    "            \"district\",\n",
    "            \"city\",\n",
    "            \"county\",\n",
    "            \"state\",\n",
    "            \"country\",\n",
    "        ]\n",
    "    }\n",
    "    merged = {**x, **row_loc_geo}\n",
    "    tab_incidents.update(merged, [\"id\"])"
   ]
  },
  {
   "cell_type": "code",
   "execution_count": 29,
   "metadata": {},
   "outputs": [],
   "source": [
    "final_loc = list(\n",
    "    tab_loc.distinct(\n",
    "        *[\n",
    "            \"latitude\",\n",
    "            \"longitude\",\n",
    "            \"postal_code\",\n",
    "            \"street\",\n",
    "            \"house_number\",\n",
    "            \"district\",\n",
    "            \"city\",\n",
    "            \"county\",\n",
    "            \"state\",\n",
    "            \"country\",\n",
    "        ]\n",
    "    )\n",
    ")"
   ]
  },
  {
   "cell_type": "code",
   "execution_count": 30,
   "metadata": {},
   "outputs": [
    {
     "data": {
      "text/plain": [
       "887"
      ]
     },
     "execution_count": 30,
     "metadata": {},
     "output_type": "execute_result"
    }
   ],
   "source": [
    "len(final_loc)"
   ]
  },
  {
   "cell_type": "code",
   "execution_count": 31,
   "metadata": {},
   "outputs": [],
   "source": [
    "tab_loc.drop()"
   ]
  },
  {
   "cell_type": "code",
   "execution_count": 32,
   "metadata": {},
   "outputs": [],
   "source": [
    "# tab_loc_final = db['locations_final']\n",
    "tab_loc.insert_many(final_loc)"
   ]
  },
  {
   "cell_type": "code",
   "execution_count": 33,
   "metadata": {},
   "outputs": [
    {
     "data": {
      "text/plain": [
       "887"
      ]
     },
     "execution_count": 33,
     "metadata": {},
     "output_type": "execute_result"
    }
   ],
   "source": [
    "len(list(tab_loc.all()))"
   ]
  }
 ],
 "metadata": {
  "kernelspec": {
   "display_name": "Python 3",
   "language": "python",
   "name": "python3"
  },
  "language_info": {
   "codemirror_mode": {
    "name": "ipython",
    "version": 3
   },
   "file_extension": ".py",
   "mimetype": "text/x-python",
   "name": "python",
   "nbconvert_exporter": "python",
   "pygments_lexer": "ipython3",
   "version": "3.9.1"
  }
 },
 "nbformat": 4,
 "nbformat_minor": 4
}
