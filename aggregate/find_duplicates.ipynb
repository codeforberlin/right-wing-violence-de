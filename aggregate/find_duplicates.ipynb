{
 "cells": [
  {
   "cell_type": "code",
   "execution_count": 1,
   "metadata": {},
   "outputs": [],
   "source": [
    "from pathlib import Path\n",
    "\n",
    "from cleantext import clean\n",
    "import dataset\n",
    "import requests\n",
    "import pycountry\n",
    "from tqdm import tqdm"
   ]
  },
  {
   "cell_type": "code",
   "execution_count": 2,
   "metadata": {},
   "outputs": [],
   "source": [
    "import gettext\n",
    "german = gettext.translation('iso3166', pycountry.LOCALES_DIR, languages=['de'])\n",
    "german.install()\n",
    "# _(\"Germany\")"
   ]
  },
  {
   "cell_type": "code",
   "execution_count": 3,
   "metadata": {},
   "outputs": [],
   "source": [
    "auth = tuple(Path('secrets.txt').read_text().split()[1:])"
   ]
  },
  {
   "cell_type": "code",
   "execution_count": 4,
   "metadata": {},
   "outputs": [],
   "source": [
    "db = dataset.connect('sqlite:///test.db')\n"
   ]
  },
  {
   "cell_type": "code",
   "execution_count": 11,
   "metadata": {},
   "outputs": [],
   "source": [
    "tab_loc = db['locations_final']\n",
    "tab_incidents = db['incidents']"
   ]
  },
  {
   "cell_type": "code",
   "execution_count": 12,
   "metadata": {},
   "outputs": [],
   "source": [
    "duplicates = []\n",
    "statement = 'SELECT * FROM locations_final GROUP BY longitude, latitude having count(*) > 1'\n",
    "for row in db.query(statement):\n",
    "    dupli = list(tab_loc.find(latitude=row['latitude'], longitude=row['longitude']))\n",
    "    new_items = []\n",
    "#     for x in dupli:\n",
    "#         num = len(list(tab_incidents.find(latitude=row['latitude'], longitude=row['longitude'])))\n",
    "#         new_items.append([x, num])\n",
    "    if len(dupli) > 1:\n",
    "        duplicates.append(dupli)"
   ]
  },
  {
   "cell_type": "code",
   "execution_count": 13,
   "metadata": {},
   "outputs": [
    {
     "data": {
      "text/plain": [
       "23"
      ]
     },
     "execution_count": 13,
     "metadata": {},
     "output_type": "execute_result"
    }
   ],
   "source": [
    "len(duplicates)"
   ]
  },
  {
   "cell_type": "code",
   "execution_count": 21,
   "metadata": {},
   "outputs": [
    {
     "data": {
      "text/plain": [
       "[OrderedDict([('id', 657),\n",
       "              ('latitude', 51.83606),\n",
       "              ('longitude', 12.24284),\n",
       "              ('postal_code', None),\n",
       "              ('street', None),\n",
       "              ('house_number', None),\n",
       "              ('district', None),\n",
       "              ('city', None),\n",
       "              ('county', 'Dessau-Roßlau'),\n",
       "              ('state', 'Sachsen-Anhalt'),\n",
       "              ('country', 'Deutschland')]),\n",
       " OrderedDict([('id', 658),\n",
       "              ('latitude', 51.83606),\n",
       "              ('longitude', 12.24284),\n",
       "              ('postal_code', '06844'),\n",
       "              ('street', None),\n",
       "              ('house_number', None),\n",
       "              ('district', None),\n",
       "              ('city', 'Dessau-Roßlau'),\n",
       "              ('county', 'Dessau-Roßlau'),\n",
       "              ('state', 'Sachsen-Anhalt'),\n",
       "              ('country', 'Deutschland')])]"
      ]
     },
     "execution_count": 21,
     "metadata": {},
     "output_type": "execute_result"
    }
   ],
   "source": [
    "duplicates[6]"
   ]
  },
  {
   "cell_type": "code",
   "execution_count": null,
   "metadata": {},
   "outputs": [],
   "source": [
    "def fix_duplicates(duplicates):\n",
    "    nums = [x[1] for x in duplicates]\n",
    "    print(nums)\n",
    "    max_nums = max(nums)\n",
    "    if nums.count(max_nums) == 1:\n",
    "        max_index = nums.index(max_nums)\n",
    "        winner = duplicates[max_index][0]\n",
    "        for x in duplicates:\n",
    "            if x[0] == winner:\n",
    "                continue\n",
    "            print('merging', x[0]['subdivisions_complete'], winner['subdivisions_complete'])\n",
    "#             for old in tab_incidents.find(subdivisions_complete=x[0]['subdivisions_complete']):\n",
    "#                 merged = {**old, **winner}\n",
    "#                 tab_incidents.update(merged, ['id'])\n",
    "            \n",
    "#             tab_loc.delete(subdivisions_complete=x[0]['subdivisions_complete'])"
   ]
  },
  {
   "cell_type": "code",
   "execution_count": null,
   "metadata": {},
   "outputs": [],
   "source": [
    "for d in duplicates:\n",
    "    fix_duplicates(d)"
   ]
  },
  {
   "cell_type": "code",
   "execution_count": 22,
   "metadata": {},
   "outputs": [
    {
     "data": {
      "text/plain": [
       "[[OrderedDict([('id', 271),\n",
       "               ('latitude', 52.5046),\n",
       "               ('longitude', 9.45725),\n",
       "               ('subdivisions_complete',\n",
       "                \"[['city', 'Dresden - Innere Neustadt'], ['state', 'Sachsen'], ['country', 'Deutschland']]\"),\n",
       "               ('subdivisions', \"[['', 'Dresden - Innere Neustadt']]\")]),\n",
       "  1],\n",
       " [OrderedDict([('id', 394),\n",
       "               ('latitude', 52.5046),\n",
       "               ('longitude', 9.45725),\n",
       "               ('subdivisions_complete',\n",
       "                \"[['city', 'Dresden, Innere Neustadt'], ['state', 'Sachsen'], ['country', 'Deutschland']]\"),\n",
       "               ('subdivisions', \"[['', 'Dresden, Innere Neustadt']]\")]),\n",
       "  1]]"
      ]
     },
     "execution_count": 22,
     "metadata": {},
     "output_type": "execute_result"
    }
   ],
   "source": [
    "duplicates[0]"
   ]
  },
  {
   "cell_type": "code",
   "execution_count": 42,
   "metadata": {},
   "outputs": [],
   "source": [
    "r = requests.post('https://geocode.app.vis.one/', auth=auth, json={'locations': [{'location':'Auerbach, Landkreis Vogtlandkreis, Deutschland'}]})"
   ]
  },
  {
   "cell_type": "code",
   "execution_count": 43,
   "metadata": {},
   "outputs": [
    {
     "data": {
      "text/plain": [
       "{'locations': [{'latitude': 48.40026,\n",
       "   'location': 'Auerbach, Landkreis Vogtlandkreis, Deutschland',\n",
       "   'longitude': 10.67081}]}"
      ]
     },
     "execution_count": 43,
     "metadata": {},
     "output_type": "execute_result"
    }
   ],
   "source": [
    "r.json()"
   ]
  },
  {
   "cell_type": "code",
   "execution_count": 41,
   "metadata": {},
   "outputs": [
    {
     "data": {
      "text/plain": [
       "{'locations': [{'latitude': 49.28948,\n",
       "   'location': 'Auerbach, Landkreis Vogtlandkreis, Sachsen, Deutschland',\n",
       "   'longitude': 10.66038}]}"
      ]
     },
     "execution_count": 41,
     "metadata": {},
     "output_type": "execute_result"
    }
   ],
   "source": [
    "r.json()"
   ]
  },
  {
   "cell_type": "code",
   "execution_count": 39,
   "metadata": {},
   "outputs": [
    {
     "data": {
      "text/plain": [
       "{'locations': [{'latitude': 49.28948,\n",
       "   'location': 'Auerbach, Vogtlandkreis, Sachsen, Deutschland',\n",
       "   'longitude': 10.66038}]}"
      ]
     },
     "execution_count": 39,
     "metadata": {},
     "output_type": "execute_result"
    }
   ],
   "source": [
    "r.json()"
   ]
  },
  {
   "cell_type": "code",
   "execution_count": 38,
   "metadata": {},
   "outputs": [
    {
     "data": {
      "text/plain": [
       "[OrderedDict([('id', 41),\n",
       "              ('latitude', 49.28948),\n",
       "              ('longitude', 10.66038),\n",
       "              ('location_string',\n",
       "               'Auerbach, Vogtlandkreis, Sachsen, Deutschland'),\n",
       "              ('subdivisions',\n",
       "               \"[['', 'Auerbach'], ['Landkreis', 'Vogtlandkreis']]\")]),\n",
       " OrderedDict([('id', 1050),\n",
       "              ('latitude', 49.28948),\n",
       "              ('longitude', 10.66038),\n",
       "              ('location_string', 'Ostsachsen, Sachsen, Deutschland'),\n",
       "              ('subdivisions', \"[['', 'Ostsachsen']]\")]),\n",
       " OrderedDict([('id', 1131),\n",
       "              ('latitude', 49.28948),\n",
       "              ('longitude', 10.66038),\n",
       "              ('location_string',\n",
       "               'Rosenbach, Vogtlandkreis, Sachsen, Deutschland'),\n",
       "              ('subdivisions',\n",
       "               \"[['', 'Rosenbach'], ['Landkreis', 'Vogtlandkreis']]\")]),\n",
       " OrderedDict([('id', 1148),\n",
       "              ('latitude', 49.28948),\n",
       "              ('longitude', 10.66038),\n",
       "              ('location_string', 'Sachsen, Sachsen, Deutschland'),\n",
       "              ('subdivisions', \"[['', 'Sachsen']]\")])]"
      ]
     },
     "execution_count": 38,
     "metadata": {},
     "output_type": "execute_result"
    }
   ],
   "source": [
    "duplicates[0]"
   ]
  }
 ],
 "metadata": {
  "kernelspec": {
   "display_name": "Python 3",
   "language": "python",
   "name": "python3"
  },
  "language_info": {
   "codemirror_mode": {
    "name": "ipython",
    "version": 3
   },
   "file_extension": ".py",
   "mimetype": "text/x-python",
   "name": "python",
   "nbconvert_exporter": "python",
   "pygments_lexer": "ipython3",
   "version": "3.9.1"
  }
 },
 "nbformat": 4,
 "nbformat_minor": 4
}
